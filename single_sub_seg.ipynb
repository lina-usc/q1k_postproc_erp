{
 "cells": [
  {
   "cell_type": "markdown",
   "id": "793c3da2-34a6-4fce-a4d7-a6bcbe92219f",
   "metadata": {},
   "source": [
    "# Single Subject Segmentation Q1K"
   ]
  },
  {
   "cell_type": "code",
   "execution_count": 1,
   "id": "9450f6bf-4cb0-4e7e-bd64-f9dd953de143",
   "metadata": {},
   "outputs": [
    {
     "name": "stdout",
     "output_type": "stream",
     "text": [
      "Using qt as 2D backend.\n"
     ]
    }
   ],
   "source": [
    "import q1k_sync_tools as qst\n",
    "import mne\n",
    "mne.viz.set_browser_backend('qt')\n",
    "import pandas as pd\n",
    "pd.options.mode.chained_assignment = None\n",
    "import pylossless as ll\n",
    "import numpy as np"
   ]
  },
  {
   "cell_type": "code",
   "execution_count": 2,
   "id": "da8dd771-45bd-425d-ad7c-63c6485c38f6",
   "metadata": {},
   "outputs": [
    {
     "name": "stdout",
     "output_type": "stream",
     "text": [
      "Reading EGI MFF Header from /home/james/q1k/as/sourcedata/s06_v2/s06_v2_eeg/s06_v2_as_20230404_014928.mff...\n",
      "    Reading events ...\n",
      "    Assembling measurement info ...\n",
      "    Synthesizing trigger channel \"STI 014\" ...\n",
      "    Excluding events {} ...\n"
     ]
    }
   ],
   "source": [
    "subject_raw_eeg = '/home/james/q1k/as/sourcedata/s06_v2/s06_v2_eeg/s06_v2_as_20230404_014928.mff'\n",
    "subject_raw_et = '/home/james/q1k/as/sourcedata/s06_v2/s06_v2_eyetracking/s06v2_as.asc'\n",
    "subject_derivative = './derivatives/pylossless/sub-006/eeg/sub-006_task-as_eeg.edf'\n",
    "task_code = 'as'"
   ]
  },
  {
   "cell_type": "code",
   "execution_count": 3,
   "id": "e7944695-b497-4aef-abb5-dddcba0a04bd",
   "metadata": {},
   "outputs": [
    {
     "name": "stdout",
     "output_type": "stream",
     "text": [
      "781 events found\n",
      "Event IDs: [ 1  2  3  4  5  6  7  8  9 10 11 12 13 14 15 16 17 18 19 20 21 22 23 24\n",
      " 25 26 27]\n",
      "Number of stimulus onset DIN events: 52\n",
      "Loading /home/james/q1k/as/sourcedata/s06_v2/s06_v2_eyetracking/s06v2_as.asc\n",
      "Pixel coordinate data detected.\n",
      "Pass `scalings=dict(eyegaze=1e3)` when using plot method to make traces more legible.\n",
      "Pupil-size area reported.\n",
      "There are 52 recording blocks in this file. Times between blocks will be annotated with bad_rec_gap.\n",
      "Used Annotations descriptions: ['ANTI-SACCADE_TRIAL', 'CORRECTIVE-SACCADE_TRIAL', 'DISPLAY_FIXATION', 'DISTRACTOR_OFFSET', 'GAZE_TO_DISTRACTOR', 'GAZE_TO_FIX', 'GAZE_TO_TARGET', 'INVALID_TRIAL', 'ONSET_DISTRACTOR', 'ONSET_REWARD', 'PREDICT_TARGET_GAZE', 'PRO-SACCADE_TRIAL', 'TARGET_ONSET', 'TRACKER_TIME 2 2977896.278', 'TRACKER_TIME 3 3037899.929', 'TRACKER_TIME 4 3097924.93', 'TRACKER_TIME 5 3157959.299', 'TRIAL_END', 'blink_R', 'fixation_R', 'saccade_R']\n",
      "Number of eye-tracking stimulus onset DIN events: 52\n",
      "Zero order coefficient: -319.6338421672035 \n",
      "First order coefficient: 1.0000094245436744\n",
      "Linear correlation computed as R=1.000 and p=5.81e-262\n",
      "Drift rate: 9.4 μs/s (total drift over 252.5 s recording: 2.4 ms)\n",
      "Cropping -319.634 s from the start of other\n",
      "Resampling other\n",
      "Reading 0 ... 253586  =      0.000 ...   253.586 secs...\n",
      "779 events found\n",
      "Event IDs: [ 1  2  3  4  5  6  7  8  9 10 11 12 13 14 15 16 17 18 19 20 21 22 23 24\n",
      " 25 26]\n",
      "779 events found\n",
      "Event IDs: [ 1  2  3  4  5  6  7  8  9 10 11 12 13 14 15 16 17 18 19 20 21 22 23 24\n",
      " 25 26]\n",
      "Cropping 1.103 s from the end of other\n",
      "NOTE: pick_types() is a legacy function. New code should use inst.pick(...).\n",
      "NOTE: pick_types() is a legacy function. New code should use inst.pick(...).\n",
      "NOTE: pick_types() is a legacy function. New code should use inst.pick(...).\n",
      "NOTE: pick_types() is a legacy function. New code should use inst.pick(...).\n",
      "NOTE: pick_types() is a legacy function. New code should use inst.pick(...).\n",
      "NOTE: pick_types() is a legacy function. New code should use inst.pick(...).\n",
      "Creating RawArray with float64 data, n_channels=164, n_times=252486\n",
      "    Range : 0 ... 252485 =      0.000 ...   252.485 secs\n",
      "Ready.\n",
      "779 events found\n",
      "Event IDs: [ 1  2  3  4  5  6  7  8  9 10 11 12 13 14 15 16 17 18 19 20 21 22 23 24\n",
      " 25 26]\n",
      "Done!\n"
     ]
    }
   ],
   "source": [
    "# Load EEG recording\n",
    "eeg_raw = mne.io.read_raw_egi(subject_raw_eeg)\n",
    "\n",
    "# Get event info from source recording\n",
    "eeg_events = mne.find_events(eeg_raw, shortest_event=1)\n",
    "eeg_event_dict = qst.get_event_dict(eeg_raw, eeg_events)\n",
    "\n",
    "# Infer new events and labels from EEG paradigm procedure\n",
    "eeg_events, eeg_stims, eeg_iti, eeg_event_dict = qst.eeg_event_test(eeg_events, eeg_event_dict, task_name=task_code)\n",
    "\n",
    "# Read eyetracking data and extact events\n",
    "et_raw = mne.io.read_raw_eyelink(subject_raw_et)\n",
    "et_annot_events, et_annot_event_dict = mne.events_from_annotations(et_raw)\n",
    "et_raw_df = et_raw.to_data_frame()\n",
    "\n",
    "# Infer new events from paradigm procedure\n",
    "et_event_raw_df, et_events, et_stims, et_iti = qst.et_event_test(et_raw_df, task_name=task_code)\n",
    "\n",
    "# Meld both ET and EEG together into new raw structure\n",
    "eeg_et_raw = qst.eeg_et_combine(eeg_raw, et_raw, eeg_stims, et_stims)\n",
    "\n",
    "# Using the melded raw, build final event objects\n",
    "eeg_et_events = mne.find_events(eeg_et_raw, shortest_event=1)\n",
    "eeg_et_event_dict = qst.get_event_dict(eeg_et_raw, eeg_et_events)\n",
    "\n",
    "# Free up memory\n",
    "del et_event_raw_df\n",
    "del et_events\n",
    "del et_stims\n",
    "del et_iti\n",
    "del et_raw_df\n",
    "del et_annot_events\n",
    "del et_annot_event_dict\n",
    "del eeg_events\n",
    "del eeg_stims\n",
    "del eeg_iti\n",
    "del eeg_event_dict\n",
    "\n",
    "print('Done!')"
   ]
  },
  {
   "cell_type": "code",
   "execution_count": 4,
   "id": "6469d9a0-cd26-475f-8255-5de93c6c5334",
   "metadata": {},
   "outputs": [
    {
     "name": "stdout",
     "output_type": "stream",
     "text": [
      "Extracting EDF parameters from /home/james/q1k/pilot/q1k_external_pilot/derivatives/pylossless/sub-006/eeg/sub-006_task-as_eeg.edf...\n",
      "EDF file detected\n",
      "Setting channel info structure...\n",
      "Creating raw.info structure...\n",
      "Reading events from derivatives/pylossless/sub-006/eeg/sub-006_task-as_events.tsv.\n",
      "Reading channel info from derivatives/pylossless/sub-006/eeg/sub-006_task-as_channels.tsv.\n",
      "Reading electrode coords from derivatives/pylossless/sub-006/eeg/sub-006_space-CapTrak_electrodes.tsv.\n",
      "Reading derivatives/pylossless/sub-006/eeg/sub-006_task-as_ica1_ica.fif ...\n",
      "Now restoring ICA solution ...\n",
      "Ready.\n",
      "Reading derivatives/pylossless/sub-006/eeg/sub-006_task-as_ica2_ica.fif ...\n",
      "Now restoring ICA solution ...\n",
      "Ready.\n"
     ]
    },
    {
     "name": "stderr",
     "output_type": "stream",
     "text": [
      "/home/james/q1k/pilot/q1k_external_pilot/eeg-env/lib/python3.8/site-packages/pylossless/pipeline.py:1118: RuntimeWarning: The number of channels in the channels.tsv sidecar file (157) does not match the number of channels in the raw data file (129). Will not try to set channel names.\n",
      "  self.raw = mne_bids.read_raw_bids(derivatives_path)\n",
      "/home/james/q1k/pilot/q1k_external_pilot/eeg-env/lib/python3.8/site-packages/pylossless/pipeline.py:1118: RuntimeWarning: Cannot set channel type for the following channels, as they are missing in the raw data: DIN2, DIN3, DIN4, STI 014, TRSP, TSYN, VBeg, bgn1, dbgl, dbgr, ddtl, ddtr, dfxl, dfxr, drwl, drwr, dtgl, dtgr, gbdl, gbdr, gbtl, gbtr, gddl, gddr, gfxl, gfxr, gttl, gttr\n",
      "  self.raw = mne_bids.read_raw_bids(derivatives_path)\n"
     ]
    }
   ],
   "source": [
    "# Build initial state; nothing applied yet\n",
    "ll_state = ll.LosslessPipeline()\n",
    "ll_state = ll_state.load_ll_derivative(subject_derivative)"
   ]
  },
  {
   "cell_type": "code",
   "execution_count": 5,
   "id": "a4727f94-86a8-4d64-9d53-7a546884c157",
   "metadata": {},
   "outputs": [
    {
     "data": {
      "text/plain": [
       "<mne_qt_browser._pg_figure.MNEQtBrowser at 0x7f0b3d71b280>"
      ]
     },
     "execution_count": 5,
     "metadata": {},
     "output_type": "execute_result"
    },
    {
     "name": "stdout",
     "output_type": "stream",
     "text": [
      "Channels marked as bad:\n",
      "['E125', 'E126', 'E127', 'E128']\n"
     ]
    }
   ],
   "source": [
    "# Plot channel data only\n",
    "mne.viz.plot_raw(ll_state.raw)"
   ]
  },
  {
   "cell_type": "code",
   "execution_count": 6,
   "id": "4be2d5be-72a4-42e7-a105-bd627e0b185c",
   "metadata": {},
   "outputs": [
    {
     "name": "stdout",
     "output_type": "stream",
     "text": [
      "Creating RawArray with float64 data, n_channels=117, n_times=574000\n",
      "    Range : 0 ... 573999 =      0.000 ...   573.999 secs\n",
      "Ready.\n"
     ]
    },
    {
     "data": {
      "text/plain": [
       "<mne_qt_browser._pg_figure.MNEQtBrowser at 0x7f0b3d8a9700>"
      ]
     },
     "execution_count": 6,
     "metadata": {},
     "output_type": "execute_result"
    }
   ],
   "source": [
    "%matplotlib qt\n",
    "# Plot comonents\n",
    "ll_state.ica2.plot_sources(ll_state.raw)"
   ]
  },
  {
   "cell_type": "code",
   "execution_count": 7,
   "id": "debe73dc-6b97-4d80-b9f7-f5725e2ee99a",
   "metadata": {},
   "outputs": [
    {
     "data": {
      "text/plain": [
       "[<MNEFigure size 975x967 with 20 Axes>,\n",
       " <MNEFigure size 975x967 with 20 Axes>,\n",
       " <MNEFigure size 975x967 with 20 Axes>,\n",
       " <MNEFigure size 975x967 with 20 Axes>,\n",
       " <MNEFigure size 975x967 with 20 Axes>,\n",
       " <MNEFigure size 975x967 with 17 Axes>]"
      ]
     },
     "execution_count": 7,
     "metadata": {},
     "output_type": "execute_result"
    },
    {
     "name": "stdout",
     "output_type": "stream",
     "text": [
      "    Using multitaper spectrum estimation with 7 DPSS windows\n",
      "Not setting metadata\n",
      "251 matching events found\n",
      "No baseline correction applied\n",
      "0 projection items activated\n"
     ]
    }
   ],
   "source": [
    "%matplotlib qt\n",
    "# Plot topos\n",
    "ll_state.ica2.plot_components(inst=ll_state.raw)"
   ]
  },
  {
   "cell_type": "code",
   "execution_count": 8,
   "id": "52cd0e57-1d0f-4733-89da-62d186a9a88b",
   "metadata": {},
   "outputs": [
    {
     "name": "stdout",
     "output_type": "stream",
     "text": [
      "{'ch_sd': array(['E49'], dtype=object), 'rank': array(['E50'], dtype=object)}\n",
      "Reading 0 ... 573999  =      0.000 ...   573.999 secs...\n",
      "Applying ICA to Raw instance\n",
      "    Transforming to ICA space (117 components)\n",
      "    Zeroing out 22 ICA components\n",
      "    Projecting back using 123 PCA components\n",
      "Filtering raw data in 1 contiguous segment\n",
      "Setting up band-pass filter from 1 - 40 Hz\n",
      "\n",
      "FIR filter parameters\n",
      "---------------------\n",
      "Designing a one-pass, zero-phase, non-causal bandpass filter:\n",
      "- Windowed time-domain design (firwin) method\n",
      "- Hamming window with 0.0194 passband ripple and 53 dB stopband attenuation\n",
      "- Lower passband edge: 1.00\n",
      "- Lower transition bandwidth: 1.00 Hz (-6 dB cutoff frequency: 0.50 Hz)\n",
      "- Upper passband edge: 40.00 Hz\n",
      "- Upper transition bandwidth: 10.00 Hz (-6 dB cutoff frequency: 45.00 Hz)\n",
      "- Filter length: 3301 samples (3.301 s)\n",
      "\n"
     ]
    },
    {
     "name": "stderr",
     "output_type": "stream",
     "text": [
      "[Parallel(n_jobs=1)]: Using backend SequentialBackend with 1 concurrent workers.\n",
      "[Parallel(n_jobs=1)]: Done   1 out of   1 | elapsed:    0.0s remaining:    0.0s\n",
      "[Parallel(n_jobs=1)]: Done   2 out of   2 | elapsed:    0.1s remaining:    0.0s\n",
      "[Parallel(n_jobs=1)]: Done   3 out of   3 | elapsed:    0.1s remaining:    0.0s\n",
      "[Parallel(n_jobs=1)]: Done   4 out of   4 | elapsed:    0.1s remaining:    0.0s\n"
     ]
    },
    {
     "name": "stdout",
     "output_type": "stream",
     "text": [
      "EEG channel type selected for re-referencing\n",
      "Applying average reference.\n",
      "Applying a custom ('EEG',) reference.\n"
     ]
    },
    {
     "name": "stderr",
     "output_type": "stream",
     "text": [
      "[Parallel(n_jobs=1)]: Done 129 out of 129 | elapsed:    2.2s finished\n"
     ]
    },
    {
     "data": {
      "text/html": [
       "<table class=\"table table-hover table-striped table-sm table-responsive small\">\n",
       "    <tr>\n",
       "        <th>Measurement date</th>\n",
       "        \n",
       "        <td>April 02, 2023  14:04:33 GMT</td>\n",
       "        \n",
       "    </tr>\n",
       "    <tr>\n",
       "        <th>Experimenter</th>\n",
       "        \n",
       "        <td>mne_anonymize</td>\n",
       "        \n",
       "    </tr>\n",
       "        <th>Participant</th>\n",
       "        \n",
       "            \n",
       "            <td>sub-006</td>\n",
       "            \n",
       "        \n",
       "    </tr>\n",
       "    <tr>\n",
       "        <th>Digitized points</th>\n",
       "        \n",
       "        <td>132 points</td>\n",
       "        \n",
       "    </tr>\n",
       "    <tr>\n",
       "        <th>Good channels</th>\n",
       "        <td>129 EEG</td>\n",
       "    </tr>\n",
       "    <tr>\n",
       "        <th>Bad channels</th>\n",
       "        <td>E128, E49, E126, E125, E127, E50</td>\n",
       "    </tr>\n",
       "    <tr>\n",
       "        <th>EOG channels</th>\n",
       "        <td>Not available</td>\n",
       "    </tr>\n",
       "    <tr>\n",
       "        <th>ECG channels</th>\n",
       "        <td>Not available</td>\n",
       "    \n",
       "    <tr>\n",
       "        <th>Sampling frequency</th>\n",
       "        <td>1000.00 Hz</td>\n",
       "    </tr>\n",
       "    \n",
       "    \n",
       "    <tr>\n",
       "        <th>Highpass</th>\n",
       "        <td>1.00 Hz</td>\n",
       "    </tr>\n",
       "    \n",
       "    \n",
       "    <tr>\n",
       "        <th>Lowpass</th>\n",
       "        <td>40.00 Hz</td>\n",
       "    </tr>\n",
       "    \n",
       "    \n",
       "    \n",
       "    <tr>\n",
       "        <th>Filenames</th>\n",
       "        <td>sub-006_task-as_eeg.edf</td>\n",
       "    </tr>\n",
       "    \n",
       "    <tr>\n",
       "        <th>Duration</th>\n",
       "        <td>00:09:34 (HH:MM:SS)</td>\n",
       "    </tr>\n",
       "</table>"
      ],
      "text/plain": [
       "<RawEDF | sub-006_task-as_eeg.edf, 129 x 574000 (574.0 s), ~565.1 MB, data loaded>"
      ]
     },
     "execution_count": 8,
     "metadata": {},
     "output_type": "execute_result"
    }
   ],
   "source": [
    "# Merge marks down to bads (aka manual)\n",
    "ll_qcr = ll_state.raw.copy()\n",
    "manual = []\n",
    "for flag_type in ll_state.flags['ch']:\n",
    "    manual.extend(ll_state.flags['ch'][flag_type])\n",
    "print(ll_state.flags['ch'])\n",
    "ll_qcr.info['bads'].extend(manual)\n",
    "ll_qcr.info['bads'] = list(set(ll_qcr.info['bads']))\n",
    "\n",
    "# Go read the ICLabel info from file and add to exclude\n",
    "df = pd.read_csv(subject_derivative.replace('_eeg.edf', '_iclabels.tsv'), sep='\\t')\n",
    "ll_state.ica2.exclude = list(df[df['ic_type'].str.match('eog|muscle|ch_noise|ecg')].index)\n",
    "\n",
    "# Load the data and apply the ICA\n",
    "ll_qcr.load_data()\n",
    "ll_state.ica2.apply(ll_qcr)\n",
    "ll_qcr = ll_qcr.filter(l_freq=1.0, h_freq=40.0)\n",
    "ll_qcr = ll_qcr.set_eeg_reference(ref_channels=\"average\")\n",
    "ll_qcr"
   ]
  },
  {
   "cell_type": "code",
   "execution_count": 15,
   "id": "b7cec820-0e16-4206-8a30-a94ffef94e8d",
   "metadata": {},
   "outputs": [
    {
     "data": {
      "text/plain": [
       "<mne_qt_browser._pg_figure.MNEQtBrowser at 0x7f0c2ebd5310>"
      ]
     },
     "execution_count": 15,
     "metadata": {},
     "output_type": "execute_result"
    },
    {
     "name": "stdout",
     "output_type": "stream",
     "text": [
      "Channels marked as bad:\n",
      "['E128', 'E49', 'E126', 'E125', 'E127', 'E50']\n"
     ]
    }
   ],
   "source": [
    "# Plot cleaned data\n",
    "mne.viz.plot_raw(ll_qcr, events=eeg_et_events, event_id=eeg_et_event_dict)"
   ]
  },
  {
   "cell_type": "code",
   "execution_count": 11,
   "id": "683637b5-68e7-4760-8112-991d708d900a",
   "metadata": {},
   "outputs": [
    {
     "data": {
      "text/plain": [
       "{'DIN': 1,\n",
       " 'TSYN': 2,\n",
       " 'bgn1': 3,\n",
       " 'dfxr': 4,\n",
       " 'gfxr': 5,\n",
       " 'ddtr': 6,\n",
       " 'dbgr': 7,\n",
       " 'dtgr': 9,\n",
       " 'drwr': 11,\n",
       " 'TRSP': 12,\n",
       " 'dfxl': 15,\n",
       " 'gfxl': 16,\n",
       " 'ddtl': 17,\n",
       " 'dbgl': 18,\n",
       " 'dtgl': 20,\n",
       " 'drwl': 22,\n",
       " 'DIN3': 25,\n",
       " 'DIN4': 26,\n",
       " 'DIN2': 27,\n",
       " 'VBeg': 28,\n",
       " 'distractor/ontime/gddl': 24,\n",
       " 'distractor/ontime/gddr': 14,\n",
       " 'distractor/late/gbdr': 8,\n",
       " 'distractor/late/gbdl': 19,\n",
       " 'target/ontime/gddl': 21,\n",
       " 'target/ontime/gddr': 10,\n",
       " 'target/early/gbtr': 13,\n",
       " 'target/early/gbtl': 23}"
      ]
     },
     "execution_count": 11,
     "metadata": {},
     "output_type": "execute_result"
    }
   ],
   "source": [
    "# Relabel condition vars for niceness\n",
    "eeg_et_event_dict['distractor/ontime/gddl'] = eeg_et_event_dict.pop('gddl')\n",
    "eeg_et_event_dict['distractor/ontime/gddr'] = eeg_et_event_dict.pop('gddr')\n",
    "eeg_et_event_dict['distractor/late/gbdr'] = eeg_et_event_dict.pop('gbdr')\n",
    "eeg_et_event_dict['distractor/late/gbdl'] = eeg_et_event_dict.pop('gbdl')\n",
    "\n",
    "eeg_et_event_dict['target/ontime/gddl'] = eeg_et_event_dict.pop('gttl')\n",
    "eeg_et_event_dict['target/ontime/gddr'] = eeg_et_event_dict.pop('gttr')\n",
    "eeg_et_event_dict['target/early/gbtr'] = eeg_et_event_dict.pop('gbtr')\n",
    "eeg_et_event_dict['target/early/gbtl'] = eeg_et_event_dict.pop('gbtl')\n",
    "\n",
    "eeg_et_event_dict"
   ]
  },
  {
   "cell_type": "code",
   "execution_count": 12,
   "id": "637d1728-ecb9-4410-b6c4-bafe19a56bbe",
   "metadata": {},
   "outputs": [
    {
     "name": "stdout",
     "output_type": "stream",
     "text": [
      "Not setting metadata\n",
      "779 matching events found\n",
      "Setting baseline interval to [-0.5, 0.0] s\n",
      "Applying baseline correction (mode: mean)\n",
      "0 projection items activated\n"
     ]
    },
    {
     "name": "stderr",
     "output_type": "stream",
     "text": [
      "/tmp/ipykernel_19766/2076716230.py:2: RuntimeWarning: No matching events found for DIN2 (event id 27)\n",
      "  epochs = mne.Epochs(ll_qcr, eeg_et_events, event_id=eeg_et_event_dict, tmin=-0.5, tmax=1.0, on_missing='warn')\n",
      "/tmp/ipykernel_19766/2076716230.py:2: RuntimeWarning: No matching events found for VBeg (event id 28)\n",
      "  epochs = mne.Epochs(ll_qcr, eeg_et_events, event_id=eeg_et_event_dict, tmin=-0.5, tmax=1.0, on_missing='warn')\n"
     ]
    },
    {
     "data": {
      "text/html": [
       "<table class=\"table table-hover table-striped table-sm table-responsive small\">\n",
       "    <tr>\n",
       "        <th>Number of events</th>\n",
       "        <td>779</td>\n",
       "    </tr>\n",
       "    <tr>\n",
       "        <th>Events</th>\n",
       "        \n",
       "        <td>DIN: 3<br/>DIN2: 0<br/>DIN3: 106<br/>DIN4: 72<br/>TRSP: 12<br/>TSYN: 52<br/>VBeg: 0<br/>bgn1: 26<br/>dbgl: 25<br/>dbgr: 26<br/>ddtl: 26<br/>ddtr: 26<br/>dfxl: 26<br/>dfxr: 26<br/>distractor/late/gbdl: 6<br/>distractor/late/gbdr: 14<br/>distractor/ontime/gddl: 104<br/>distractor/ontime/gddr: 26<br/>drwl: 20<br/>drwr: 52<br/>dtgl: 5<br/>dtgr: 12<br/>gfxl: 26<br/>gfxr: 26<br/>target/early/gbtl: 6<br/>target/early/gbtr: 4<br/>target/ontime/gddl: 26<br/>target/ontime/gddr: 26</td>\n",
       "        \n",
       "    </tr>\n",
       "    <tr>\n",
       "        <th>Time range</th>\n",
       "        <td>-0.500 – 1.000 s</td>\n",
       "    </tr>\n",
       "    <tr>\n",
       "        <th>Baseline</th>\n",
       "        <td>-0.500 – 0.000 s</td>\n",
       "    </tr>\n",
       "</table>"
      ],
      "text/plain": [
       "<Epochs |  779 events (good & bad), -0.5 – 1 s, baseline -0.5 – 0 s, ~177 kB, data not loaded,\n",
       " 'DIN': 3\n",
       " 'TSYN': 52\n",
       " 'bgn1': 26\n",
       " 'dfxr': 26\n",
       " 'gfxr': 26\n",
       " 'ddtr': 26\n",
       " 'dbgr': 26\n",
       " 'dtgr': 12\n",
       " 'drwr': 52\n",
       " 'TRSP': 12\n",
       " and 18 more events ...>"
      ]
     },
     "execution_count": 12,
     "metadata": {},
     "output_type": "execute_result"
    }
   ],
   "source": [
    "# Epoch structure is created for ALL events, then you 'segment' by indexing into it\n",
    "epochs = mne.Epochs(ll_qcr, eeg_et_events, event_id=eeg_et_event_dict, tmin=-0.5, tmax=1.0, on_missing='warn')\n",
    "epochs"
   ]
  },
  {
   "cell_type": "code",
   "execution_count": 13,
   "id": "507abac9-5037-43bc-8e60-c1432e6b7de7",
   "metadata": {},
   "outputs": [
    {
     "data": {
      "text/html": [
       "<table class=\"table table-hover table-striped table-sm table-responsive small\">\n",
       "    <tr>\n",
       "        <th>Number of events</th>\n",
       "        <td>212</td>\n",
       "    </tr>\n",
       "    <tr>\n",
       "        <th>Events</th>\n",
       "        \n",
       "        <td>distractor/late/gbdl: 6<br/>distractor/late/gbdr: 14<br/>distractor/ontime/gddl: 104<br/>distractor/ontime/gddr: 26<br/>target/early/gbtl: 6<br/>target/early/gbtr: 4<br/>target/ontime/gddl: 26<br/>target/ontime/gddr: 26</td>\n",
       "        \n",
       "    </tr>\n",
       "    <tr>\n",
       "        <th>Time range</th>\n",
       "        <td>-0.500 – 1.000 s</td>\n",
       "    </tr>\n",
       "    <tr>\n",
       "        <th>Baseline</th>\n",
       "        <td>-0.500 – 0.000 s</td>\n",
       "    </tr>\n",
       "</table>"
      ],
      "text/plain": [
       "<Epochs |  212 events (good & bad), -0.5 – 1 s, baseline -0.5 – 0 s, ~177 kB, data not loaded,\n",
       " 'distractor/ontime/gddl': 104\n",
       " 'distractor/ontime/gddr': 26\n",
       " 'distractor/late/gbdr': 14\n",
       " 'distractor/late/gbdl': 6\n",
       " 'target/ontime/gddl': 26\n",
       " 'target/ontime/gddr': 26\n",
       " 'target/early/gbtr': 4\n",
       " 'target/early/gbtl': 6>"
      ]
     },
     "execution_count": 13,
     "metadata": {},
     "output_type": "execute_result"
    }
   ],
   "source": [
    "# Check trial counts\n",
    "epochs[['distractor', 'target']]"
   ]
  },
  {
   "cell_type": "code",
   "execution_count": 18,
   "id": "2ba69bf0-1306-4fc0-b58a-44a24c804234",
   "metadata": {},
   "outputs": [
    {
     "name": "stdout",
     "output_type": "stream",
     "text": [
      "NOTE: pick_channels() is a legacy function. New code should use inst.pick(...).\n",
      "NOTE: pick_channels() is a legacy function. New code should use inst.pick(...).\n",
      "combining channels using \"mean\"\n",
      "combining channels using \"mean\"\n"
     ]
    },
    {
     "name": "stderr",
     "output_type": "stream",
     "text": [
      "/tmp/ipykernel_19766/134790767.py:4: RuntimeWarning: Only 1 channel in \"picks\"; cannot combine by method \"mean\".\n",
      "  mne.viz.plot_compare_evokeds(evokeds, picks=['E6'], combine='mean')\n"
     ]
    },
    {
     "data": {
      "text/plain": [
       "[<Figure size 800x600 with 2 Axes>]"
      ]
     },
     "execution_count": 18,
     "metadata": {},
     "output_type": "execute_result"
    }
   ],
   "source": [
    "# Plot ERPs\n",
    "evokeds = {'distractor': epochs['distractor'].average(), 'target': epochs['target'].average()}\n",
    "# evokeds = {'distractor': list(epochs['distractor'].iter_evoked()), 'target': list(epochs['target'].iter_evoked())}\n",
    "mne.viz.plot_compare_evokeds(evokeds, picks=['E6'], combine='mean')"
   ]
  }
 ],
 "metadata": {
  "kernelspec": {
   "display_name": "Python 3 (ipykernel)",
   "language": "python",
   "name": "python3"
  },
  "language_info": {
   "codemirror_mode": {
    "name": "ipython",
    "version": 3
   },
   "file_extension": ".py",
   "mimetype": "text/x-python",
   "name": "python",
   "nbconvert_exporter": "python",
   "pygments_lexer": "ipython3",
   "version": "3.8.10"
  }
 },
 "nbformat": 4,
 "nbformat_minor": 5
}
