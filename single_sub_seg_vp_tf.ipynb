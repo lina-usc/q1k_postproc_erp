{
 "cells": [
  {
   "attachments": {},
   "cell_type": "markdown",
   "id": "793c3da2-34a6-4fce-a4d7-a6bcbe92219f",
   "metadata": {},
   "source": [
    "# Single Subject Segmentation Q1K"
   ]
  },
  {
   "cell_type": "code",
   "execution_count": 1,
   "id": "9450f6bf-4cb0-4e7e-bd64-f9dd953de143",
   "metadata": {},
   "outputs": [
    {
     "name": "stderr",
     "output_type": "stream",
     "text": [
      "<frozen importlib._bootstrap>:219: RuntimeWarning: The MNE-Python config file (/home/james/.mne/mne-python.json) is not a valid JSON file and might be corrupted\n"
     ]
    },
    {
     "name": "stdout",
     "output_type": "stream",
     "text": [
      "Using qt as 2D backend.\n"
     ]
    }
   ],
   "source": [
    "# import packages\n",
    "import q1k_sync_tools as qst\n",
    "import mne\n",
    "mne.viz.set_browser_backend('qt')\n",
    "%matplotlib qt\n",
    "import pandas as pd\n",
    "pd.options.mode.chained_assignment = None\n",
    "import pylossless as ll\n",
    "import numpy as np\n",
    "import glob\n",
    "\n",
    "import matplotlib.pyplot as plt\n",
    "\n",
    "from mne.time_frequency import tfr_morlet\n",
    "from mne.stats import permutation_cluster_test\n",
    "from mne.datasets import sample"
   ]
  },
  {
   "cell_type": "code",
   "execution_count": 2,
   "id": "da8dd771-45bd-425d-ad7c-63c6485c38f6",
   "metadata": {},
   "outputs": [],
   "source": [
    "# set file variables\n",
    "#subject_raw_eeg = glob.glob('sourcedata/020_1/020_1_go_*.mff')\n",
    "subject_raw_eeg = 'sourcedata/023_1/023_1_eeg/023_1_vp_20230706_025431.mff'\n",
    "subject_raw_et = 'sourcedata/023_1/023_1_eyetracking/023_vp_1.asc'\n",
    "subject_derivative = 'output_vp/derivatives/pylossless/sub-023/eeg/sub-023_task-vp_eeg.edf'\n",
    "task_code = 'vp'"
   ]
  },
  {
   "cell_type": "code",
   "execution_count": 3,
   "id": "e7944695-b497-4aef-abb5-dddcba0a04bd",
   "metadata": {},
   "outputs": [
    {
     "name": "stdout",
     "output_type": "stream",
     "text": [
      "Reading EGI MFF Header from /home/james/q1k/pilot/q1k-external-pilot/sourcedata/023_1/023_1_eeg/023_1_vp_20230706_025431.mff...\n",
      "    Reading events ...\n",
      "    Assembling measurement info ...\n",
      "    Synthesizing trigger channel \"STI 014\" ...\n",
      "    Excluding events {dstr} ...\n"
     ]
    },
    {
     "name": "stderr",
     "output_type": "stream",
     "text": [
      "/tmp/ipykernel_5012/896616945.py:5: RuntimeWarning: The MNE-Python config file (/home/james/.mne/mne-python.json) is not a valid JSON file and might be corrupted\n",
      "  eeg_events = mne.find_events(eeg_raw, shortest_event=1)\n"
     ]
    },
    {
     "name": "stdout",
     "output_type": "stream",
     "text": [
      "1331 events found\n",
      "Event IDs: [ 1  2  3  4  5  6  7  8  9 10 11 12]\n"
     ]
    }
   ],
   "source": [
    "# Load EEG recording\n",
    "eeg_raw = mne.io.read_raw_egi(subject_raw_eeg)\n",
    "\n",
    "# Get event info from source recording\n",
    "eeg_events = mne.find_events(eeg_raw, shortest_event=1)\n",
    "eeg_event_dict = qst.get_event_dict(eeg_raw, eeg_events)"
   ]
  },
  {
   "cell_type": "code",
   "execution_count": null,
   "id": "d09ed8e1",
   "metadata": {},
   "outputs": [],
   "source": [
    "eeg_events"
   ]
  },
  {
   "cell_type": "code",
   "execution_count": null,
   "id": "59dd2a35",
   "metadata": {},
   "outputs": [],
   "source": [
    "eeg_event_dict"
   ]
  },
  {
   "cell_type": "code",
   "execution_count": 4,
   "id": "c037fee2",
   "metadata": {},
   "outputs": [
    {
     "name": "stderr",
     "output_type": "stream",
     "text": [
      "/tmp/ipykernel_5012/2893505135.py:2: RuntimeWarning: The MNE-Python config file (/home/james/.mne/mne-python.json) is not a valid JSON file and might be corrupted\n",
      "  mne.viz.plot_raw(eeg_raw, events=eeg_events, event_id=eeg_event_dict)\n",
      "/tmp/ipykernel_5012/2893505135.py:2: RuntimeWarning: The MNE-Python config file (/home/james/.mne/mne-python.json) is not a valid JSON file and might be corrupted\n",
      "  mne.viz.plot_raw(eeg_raw, events=eeg_events, event_id=eeg_event_dict)\n",
      "/tmp/ipykernel_5012/2893505135.py:2: RuntimeWarning: The MNE-Python config file (/home/james/.mne/mne-python.json) is not a valid JSON file and might be corrupted\n",
      "  mne.viz.plot_raw(eeg_raw, events=eeg_events, event_id=eeg_event_dict)\n",
      "/tmp/ipykernel_5012/2893505135.py:2: RuntimeWarning: The MNE-Python config file (/home/james/.mne/mne-python.json) is not a valid JSON file and might be corrupted\n",
      "  mne.viz.plot_raw(eeg_raw, events=eeg_events, event_id=eeg_event_dict)\n",
      "/tmp/ipykernel_5012/2893505135.py:2: RuntimeWarning: The MNE-Python config file (/home/james/.mne/mne-python.json) is not a valid JSON file and might be corrupted\n",
      "  mne.viz.plot_raw(eeg_raw, events=eeg_events, event_id=eeg_event_dict)\n"
     ]
    },
    {
     "data": {
      "text/plain": [
       "<mne_qt_browser._pg_figure.MNEQtBrowser at 0x7f00fc7b3e50>"
      ]
     },
     "execution_count": 4,
     "metadata": {},
     "output_type": "execute_result"
    },
    {
     "name": "stdout",
     "output_type": "stream",
     "text": [
      "Channels marked as bad:\n",
      "none\n"
     ]
    },
    {
     "name": "stderr",
     "output_type": "stream",
     "text": [
      "Traceback (most recent call last):\n",
      "  File \"/home/james/q1k/pilot/q1k-external-pilot/eeg-env/lib/python3.8/site-packages/mne/utils/config.py\", line 216, in _load_config\n",
      "    config = json.load(fid)\n",
      "  File \"/usr/lib/python3.8/json/__init__.py\", line 293, in load\n",
      "    return loads(fp.read(),\n",
      "  File \"/usr/lib/python3.8/json/__init__.py\", line 357, in loads\n",
      "    return _default_decoder.decode(s)\n",
      "  File \"/usr/lib/python3.8/json/decoder.py\", line 337, in decode\n",
      "    obj, end = self.raw_decode(s, idx=_w(s, 0).end())\n",
      "  File \"/usr/lib/python3.8/json/decoder.py\", line 355, in raw_decode\n",
      "    raise JSONDecodeError(\"Expecting value\", s, err.value) from None\n",
      "json.decoder.JSONDecodeError: Expecting value: line 1 column 1 (char 0)\n",
      "\n",
      "During handling of the above exception, another exception occurred:\n",
      "\n",
      "Traceback (most recent call last):\n",
      "  File \"/home/james/q1k/pilot/q1k-external-pilot/eeg-env/lib/python3.8/site-packages/mne_qt_browser/_pg_figure.py\", line 4630, in closeEvent\n",
      "    self._close(event)\n",
      "  File \"/home/james/q1k/pilot/q1k-external-pilot/eeg-env/lib/python3.8/site-packages/mne/viz/_figure.py\", line 439, in _close\n",
      "    set_config(\"MNE_BROWSE_RAW_SIZE\", str_size, set_env=False)\n",
      "  File \"/home/james/q1k/pilot/q1k-external-pilot/eeg-env/lib/python3.8/site-packages/mne/utils/config.py\", line 369, in set_config\n",
      "    config = _load_config(config_path, raise_error=True)\n",
      "  File \"/home/james/q1k/pilot/q1k-external-pilot/eeg-env/lib/python3.8/site-packages/mne/utils/config.py\", line 224, in _load_config\n",
      "    raise RuntimeError(msg)\n",
      "RuntimeError: The MNE-Python config file (/home/james/.mne/mne-python.json) is not a valid JSON file and might be corrupted\n"
     ]
    }
   ],
   "source": [
    "# Plot channel data only\n",
    "mne.viz.plot_raw(eeg_raw, events=eeg_events, event_id=eeg_event_dict)"
   ]
  },
  {
   "cell_type": "code",
   "execution_count": 4,
   "id": "6469d9a0-cd26-475f-8255-5de93c6c5334",
   "metadata": {},
   "outputs": [
    {
     "name": "stdout",
     "output_type": "stream",
     "text": [
      "Extracting EDF parameters from /home/james/q1k/pilot/q1k-external-pilot/output_vp/derivatives/pylossless/sub-023/eeg/sub-023_task-vp_eeg.edf...\n",
      "EDF file detected\n",
      "Setting channel info structure...\n",
      "Creating raw.info structure...\n",
      "Reading events from output_vp/derivatives/pylossless/sub-023/eeg/sub-023_task-vp_events.tsv.\n",
      "Reading channel info from output_vp/derivatives/pylossless/sub-023/eeg/sub-023_task-vp_channels.tsv.\n",
      "Reading electrode coords from output_vp/derivatives/pylossless/sub-023/eeg/sub-023_space-CapTrak_electrodes.tsv.\n",
      "Reading output_vp/derivatives/pylossless/sub-023/eeg/sub-023_task-vp_ica1_ica.fif ...\n",
      "Now restoring ICA solution ...\n"
     ]
    },
    {
     "name": "stderr",
     "output_type": "stream",
     "text": [
      "/home/james/q1k/pilot/q1k-external-pilot/eeg-env/lib/python3.8/site-packages/pylossless/pipeline.py:1118: RuntimeWarning: The number of channels in the channels.tsv sidecar file (143) does not match the number of channels in the raw data file (129). Will not try to set channel names.\n",
      "  self.raw = mne_bids.read_raw_bids(derivatives_path)\n",
      "/home/james/q1k/pilot/q1k-external-pilot/eeg-env/lib/python3.8/site-packages/pylossless/pipeline.py:1118: RuntimeWarning: Cannot set channel type for the following channels, as they are missing in the raw data: DIN2, DIN3, STI 014, TSYN, VBeg, dbrk, dend, dstr, fvcr, fvct, fvsb, fvsr, sv06, sv15\n",
      "  self.raw = mne_bids.read_raw_bids(derivatives_path)\n"
     ]
    },
    {
     "name": "stdout",
     "output_type": "stream",
     "text": [
      "Ready.\n",
      "Reading output_vp/derivatives/pylossless/sub-023/eeg/sub-023_task-vp_ica2_ica.fif ...\n",
      "Now restoring ICA solution ...\n",
      "Ready.\n"
     ]
    }
   ],
   "source": [
    "# Build initial state; nothing applied yet\n",
    "ll_state = ll.LosslessPipeline()\n",
    "ll_state = ll_state.load_ll_derivative(subject_derivative)"
   ]
  },
  {
   "cell_type": "code",
   "execution_count": null,
   "id": "a4727f94-86a8-4d64-9d53-7a546884c157",
   "metadata": {},
   "outputs": [],
   "source": [
    "# Plot channel data only\n",
    "mne.viz.plot_raw(ll_state.raw, events=eeg_events, event_id=eeg_event_dict)"
   ]
  },
  {
   "cell_type": "code",
   "execution_count": null,
   "id": "4be2d5be-72a4-42e7-a105-bd627e0b185c",
   "metadata": {},
   "outputs": [],
   "source": [
    "# Plot comonents\n",
    "ll_state.ica2.plot_sources(ll_state.raw)\n"
   ]
  },
  {
   "cell_type": "code",
   "execution_count": null,
   "id": "debe73dc-6b97-4d80-b9f7-f5725e2ee99a",
   "metadata": {},
   "outputs": [],
   "source": [
    "# Plot topos\n",
    "ll_state.ica2.plot_components(inst=ll_state.raw)"
   ]
  },
  {
   "cell_type": "code",
   "execution_count": 5,
   "id": "52cd0e57-1d0f-4733-89da-62d186a9a88b",
   "metadata": {},
   "outputs": [
    {
     "name": "stdout",
     "output_type": "stream",
     "text": [
      "{'bridge': array(['E4', 'E20', 'E24', 'E27', 'E45', 'E50', 'E118', 'E124'],\n",
      "      dtype=object), 'rank': array(['E17'], dtype=object)}\n",
      "Reading 0 ... 440999  =      0.000 ...   440.999 secs...\n"
     ]
    },
    {
     "name": "stdout",
     "output_type": "stream",
     "text": [
      "Applying ICA to Raw instance\n",
      "    Transforming to ICA space (115 components)\n",
      "    Zeroing out 57 ICA components\n",
      "    Projecting back using 116 PCA components\n",
      "Filtering raw data in 1 contiguous segment\n",
      "Setting up band-pass filter from 1 - 40 Hz\n",
      "\n",
      "FIR filter parameters\n",
      "---------------------\n",
      "Designing a one-pass, zero-phase, non-causal bandpass filter:\n",
      "- Windowed time-domain design (firwin) method\n",
      "- Hamming window with 0.0194 passband ripple and 53 dB stopband attenuation\n",
      "- Lower passband edge: 1.00\n",
      "- Lower transition bandwidth: 1.00 Hz (-6 dB cutoff frequency: 0.50 Hz)\n",
      "- Upper passband edge: 40.00 Hz\n",
      "- Upper transition bandwidth: 10.00 Hz (-6 dB cutoff frequency: 45.00 Hz)\n",
      "- Filter length: 3301 samples (3.301 s)\n",
      "\n"
     ]
    },
    {
     "name": "stderr",
     "output_type": "stream",
     "text": [
      "/tmp/ipykernel_21015/2154681889.py:17: RuntimeWarning: The MNE-Python config file (/home/james/.mne/mne-python.json) is not a valid JSON file and might be corrupted\n",
      "  ll_qcr = ll_qcr.filter(l_freq=1.0, h_freq=40.0)\n",
      "/tmp/ipykernel_21015/2154681889.py:17: RuntimeWarning: The MNE-Python config file (/home/james/.mne/mne-python.json) is not a valid JSON file and might be corrupted\n",
      "  ll_qcr = ll_qcr.filter(l_freq=1.0, h_freq=40.0)\n",
      "[Parallel(n_jobs=1)]: Using backend SequentialBackend with 1 concurrent workers.\n",
      "[Parallel(n_jobs=1)]: Done   1 out of   1 | elapsed:    0.0s remaining:    0.0s\n",
      "[Parallel(n_jobs=1)]: Done   2 out of   2 | elapsed:    0.0s remaining:    0.0s\n",
      "[Parallel(n_jobs=1)]: Done   3 out of   3 | elapsed:    0.1s remaining:    0.0s\n",
      "[Parallel(n_jobs=1)]: Done   4 out of   4 | elapsed:    0.1s remaining:    0.0s\n"
     ]
    },
    {
     "name": "stdout",
     "output_type": "stream",
     "text": [
      "EEG channel type selected for re-referencing\n",
      "Applying average reference.\n",
      "Applying a custom ('EEG',) reference.\n"
     ]
    },
    {
     "name": "stderr",
     "output_type": "stream",
     "text": [
      "[Parallel(n_jobs=1)]: Done 129 out of 129 | elapsed:    3.1s finished\n",
      "/home/james/q1k/pilot/q1k-external-pilot/eeg-env/lib/python3.8/site-packages/IPython/core/formatters.py:344: RuntimeWarning: The MNE-Python config file (/home/james/.mne/mne-python.json) is not a valid JSON file and might be corrupted\n",
      "  return method()\n",
      "/home/james/q1k/pilot/q1k-external-pilot/eeg-env/lib/python3.8/site-packages/IPython/core/formatters.py:344: RuntimeWarning: The MNE-Python config file (/home/james/.mne/mne-python.json) is not a valid JSON file and might be corrupted\n",
      "  return method()\n"
     ]
    },
    {
     "data": {
      "text/html": [
       "<table class=\"table table-hover table-striped table-sm table-responsive small\">\n",
       "    <tr>\n",
       "        <th>Measurement date</th>\n",
       "        \n",
       "        <td>July 04, 2023  11:09:02 GMT</td>\n",
       "        \n",
       "    </tr>\n",
       "    <tr>\n",
       "        <th>Experimenter</th>\n",
       "        \n",
       "        <td>mne_anonymize</td>\n",
       "        \n",
       "    </tr>\n",
       "        <th>Participant</th>\n",
       "        \n",
       "            \n",
       "            <td>sub-023</td>\n",
       "            \n",
       "        \n",
       "    </tr>\n",
       "    <tr>\n",
       "        <th>Digitized points</th>\n",
       "        \n",
       "        <td>132 points</td>\n",
       "        \n",
       "    </tr>\n",
       "    <tr>\n",
       "        <th>Good channels</th>\n",
       "        <td>129 EEG</td>\n",
       "    </tr>\n",
       "    <tr>\n",
       "        <th>Bad channels</th>\n",
       "        <td>E126, E24, E118, E17, E45, E125, E4, E124, E127, E27, E50, E20, E128</td>\n",
       "    </tr>\n",
       "    <tr>\n",
       "        <th>EOG channels</th>\n",
       "        <td>Not available</td>\n",
       "    </tr>\n",
       "    <tr>\n",
       "        <th>ECG channels</th>\n",
       "        <td>Not available</td>\n",
       "    \n",
       "    <tr>\n",
       "        <th>Sampling frequency</th>\n",
       "        <td>1000.00 Hz</td>\n",
       "    </tr>\n",
       "    \n",
       "    \n",
       "    <tr>\n",
       "        <th>Highpass</th>\n",
       "        <td>1.00 Hz</td>\n",
       "    </tr>\n",
       "    \n",
       "    \n",
       "    <tr>\n",
       "        <th>Lowpass</th>\n",
       "        <td>40.00 Hz</td>\n",
       "    </tr>\n",
       "    \n",
       "    \n",
       "    \n",
       "    <tr>\n",
       "        <th>Filenames</th>\n",
       "        <td>sub-023_task-vp_eeg.edf</td>\n",
       "    </tr>\n",
       "    \n",
       "    <tr>\n",
       "        <th>Duration</th>\n",
       "        <td>00:07:21 (HH:MM:SS)</td>\n",
       "    </tr>\n",
       "</table>"
      ],
      "text/plain": [
       "<RawEDF | sub-023_task-vp_eeg.edf, 129 x 441000 (441.0 s), ~434.2 MB, data loaded>"
      ]
     },
     "execution_count": 5,
     "metadata": {},
     "output_type": "execute_result"
    }
   ],
   "source": [
    "# Merge marks down to bads (aka manual)\n",
    "ll_qcr = ll_state.raw.copy()\n",
    "manual = []\n",
    "for flag_type in ll_state.flags['ch']:\n",
    "    manual.extend(ll_state.flags['ch'][flag_type])\n",
    "print(ll_state.flags['ch'])\n",
    "ll_qcr.info['bads'].extend(manual)\n",
    "ll_qcr.info['bads'] = list(set(ll_qcr.info['bads']))\n",
    "\n",
    "# Read the ICLabel info from file and add to exclude\n",
    "df = pd.read_csv(subject_derivative.replace('_eeg.edf', '_iclabels.tsv'), sep='\\t')\n",
    "ll_state.ica2.exclude = list(df[df['ic_type'].str.match('eog|muscle|ch_noise|ecg')].index)\n",
    "\n",
    "# Load the data and apply the ICA\n",
    "ll_qcr.load_data()\n",
    "ll_state.ica2.apply(ll_qcr)\n",
    "ll_qcr = ll_qcr.filter(l_freq=1.0, h_freq=40.0)\n",
    "ll_qcr = ll_qcr.set_eeg_reference(ref_channels=\"average\")\n",
    "ll_qcr"
   ]
  },
  {
   "cell_type": "code",
   "execution_count": null,
   "id": "b7cec820-0e16-4206-8a30-a94ffef94e8d",
   "metadata": {},
   "outputs": [],
   "source": [
    "# Plot cleaned data\n",
    "mne.viz.plot_raw(ll_qcr, events=eeg_events, event_id=eeg_event_dict)"
   ]
  },
  {
   "cell_type": "code",
   "execution_count": 8,
   "id": "d9ea62c5",
   "metadata": {},
   "outputs": [
    {
     "data": {
      "text/plain": [
       "{'sv06': 2,\n",
       " 'sv15': 4,\n",
       " 'fvsb': 5,\n",
       " 'fvsr': 6,\n",
       " 'fvcr': 7,\n",
       " 'TSYN': 8,\n",
       " 'dbrk': 9,\n",
       " 'dend': 10,\n",
       " 'DIN3': 11,\n",
       " 'DIN2': 12,\n",
       " 'VBeg': 13,\n",
       " 'fq06hz/target/disp/sv06': 1,\n",
       " 'fq15hz/target/disp/sv15': 3}"
      ]
     },
     "execution_count": 8,
     "metadata": {},
     "output_type": "execute_result"
    }
   ],
   "source": [
    "# Take a look at the event dictionairy\n",
    "eeg_event_dict"
   ]
  },
  {
   "cell_type": "code",
   "execution_count": 7,
   "id": "4e7a968b",
   "metadata": {},
   "outputs": [],
   "source": [
    "# Relabel condition vars for niceness\n",
    "eeg_event_dict['fq06hz/target/disp/sv06'] = eeg_event_dict.pop('dstr')\n",
    "eeg_event_dict['fq15hz/target/disp/sv15'] = eeg_event_dict.pop('fvct')"
   ]
  },
  {
   "cell_type": "code",
   "execution_count": 9,
   "id": "30b58475",
   "metadata": {},
   "outputs": [
    {
     "name": "stdout",
     "output_type": "stream",
     "text": [
      "Not setting metadata\n",
      "60 matching events found\n",
      "Setting baseline interval to [-1.0, 0.0] s\n",
      "Applying baseline correction (mode: mean)\n",
      "0 projection items activated\n",
      "Using data from preloaded Raw for 60 events and 3001 original time points ...\n",
      "5 bad epochs dropped\n",
      "NOTE: pick_channels() is a legacy function. New code should use inst.pick(...).\n"
     ]
    },
    {
     "name": "stderr",
     "output_type": "stream",
     "text": [
      "/home/james/q1k/pilot/q1k-external-pilot/eeg-env/lib/python3.8/site-packages/IPython/core/formatters.py:344: RuntimeWarning: The MNE-Python config file (/home/james/.mne/mne-python.json) is not a valid JSON file and might be corrupted\n",
      "  return method()\n"
     ]
    },
    {
     "data": {
      "text/html": [
       "<table class=\"table table-hover table-striped table-sm table-responsive small\">\n",
       "    <tr>\n",
       "        <th>Number of events</th>\n",
       "        <td>55</td>\n",
       "    </tr>\n",
       "    <tr>\n",
       "        <th>Events</th>\n",
       "        \n",
       "        <td>1: 55</td>\n",
       "        \n",
       "    </tr>\n",
       "    <tr>\n",
       "        <th>Time range</th>\n",
       "        <td>-1.000 – 2.000 s</td>\n",
       "    </tr>\n",
       "    <tr>\n",
       "        <th>Baseline</th>\n",
       "        <td>-1.000 – 0.000 s</td>\n",
       "    </tr>\n",
       "</table>"
      ],
      "text/plain": [
       "<Epochs |  55 events (all good), -1 – 2 s, baseline -1 – 0 s, ~1.3 MB, data loaded,\n",
       " '1': 55>"
      ]
     },
     "execution_count": 9,
     "metadata": {},
     "output_type": "execute_result"
    }
   ],
   "source": [
    "event_id = 1\n",
    "tmin, tmax = -1, 2\n",
    "\n",
    "epochs_condition_1 = mne.Epochs(\n",
    "    ll_qcr,\n",
    "    eeg_events,\n",
    "    event_id,\n",
    "    tmin,\n",
    "    tmax,\n",
    "    baseline=(None, 0),\n",
    "    preload=True,\n",
    ")\n",
    "\n",
    "ch_name = 'E72'\n",
    "epochs_condition_1.pick_channels([ch_name])"
   ]
  },
  {
   "cell_type": "code",
   "execution_count": 10,
   "id": "e09962ec",
   "metadata": {},
   "outputs": [
    {
     "name": "stdout",
     "output_type": "stream",
     "text": [
      "Not setting metadata\n",
      "60 matching events found\n",
      "Setting baseline interval to [-1.0, 0.0] s\n",
      "Applying baseline correction (mode: mean)\n",
      "0 projection items activated\n",
      "Using data from preloaded Raw for 60 events and 3001 original time points ...\n"
     ]
    },
    {
     "name": "stdout",
     "output_type": "stream",
     "text": [
      "2 bad epochs dropped\n",
      "NOTE: pick_channels() is a legacy function. New code should use inst.pick(...).\n"
     ]
    },
    {
     "name": "stderr",
     "output_type": "stream",
     "text": [
      "/home/james/q1k/pilot/q1k-external-pilot/eeg-env/lib/python3.8/site-packages/IPython/core/formatters.py:344: RuntimeWarning: The MNE-Python config file (/home/james/.mne/mne-python.json) is not a valid JSON file and might be corrupted\n",
      "  return method()\n"
     ]
    },
    {
     "data": {
      "text/html": [
       "<table class=\"table table-hover table-striped table-sm table-responsive small\">\n",
       "    <tr>\n",
       "        <th>Number of events</th>\n",
       "        <td>58</td>\n",
       "    </tr>\n",
       "    <tr>\n",
       "        <th>Events</th>\n",
       "        \n",
       "        <td>3: 58</td>\n",
       "        \n",
       "    </tr>\n",
       "    <tr>\n",
       "        <th>Time range</th>\n",
       "        <td>-1.000 – 2.000 s</td>\n",
       "    </tr>\n",
       "    <tr>\n",
       "        <th>Baseline</th>\n",
       "        <td>-1.000 – 0.000 s</td>\n",
       "    </tr>\n",
       "</table>"
      ],
      "text/plain": [
       "<Epochs |  58 events (all good), -1 – 2 s, baseline -1 – 0 s, ~1.4 MB, data loaded,\n",
       " '3': 58>"
      ]
     },
     "execution_count": 10,
     "metadata": {},
     "output_type": "execute_result"
    }
   ],
   "source": [
    "event_id = 3\n",
    "tmin, tmax = -1, 2\n",
    "\n",
    "epochs_condition_2 = mne.Epochs(\n",
    "    ll_qcr,\n",
    "    eeg_events,\n",
    "    event_id,\n",
    "    tmin,\n",
    "    tmax,\n",
    "    baseline=(None, 0),\n",
    "    preload=True,\n",
    ")\n",
    "\n",
    "ch_name = 'E72'\n",
    "epochs_condition_2.pick_channels([ch_name])"
   ]
  },
  {
   "cell_type": "code",
   "execution_count": 11,
   "id": "8c5d0f0c",
   "metadata": {},
   "outputs": [
    {
     "name": "stderr",
     "output_type": "stream",
     "text": [
      "/tmp/ipykernel_21015/3679226957.py:5: RuntimeWarning: The MNE-Python config file (/home/james/.mne/mne-python.json) is not a valid JSON file and might be corrupted\n",
      "  pow_epochs_1 = tfr_morlet(\n",
      "/tmp/ipykernel_21015/3679226957.py:5: RuntimeWarning: The MNE-Python config file (/home/james/.mne/mne-python.json) is not a valid JSON file and might be corrupted\n",
      "  pow_epochs_1 = tfr_morlet(\n",
      "[Parallel(n_jobs=1)]: Using backend SequentialBackend with 1 concurrent workers.\n"
     ]
    },
    {
     "name": "stdout",
     "output_type": "stream",
     "text": [
      "Not setting metadata\n"
     ]
    },
    {
     "name": "stderr",
     "output_type": "stream",
     "text": [
      "[Parallel(n_jobs=1)]: Done   1 out of   1 | elapsed:    1.4s remaining:    0.0s\n",
      "[Parallel(n_jobs=1)]: Done   1 out of   1 | elapsed:    1.4s finished\n",
      "/tmp/ipykernel_21015/3679226957.py:14: RuntimeWarning: The MNE-Python config file (/home/james/.mne/mne-python.json) is not a valid JSON file and might be corrupted\n",
      "  pow_epochs_2 = tfr_morlet(\n",
      "/tmp/ipykernel_21015/3679226957.py:14: RuntimeWarning: The MNE-Python config file (/home/james/.mne/mne-python.json) is not a valid JSON file and might be corrupted\n",
      "  pow_epochs_2 = tfr_morlet(\n",
      "[Parallel(n_jobs=1)]: Using backend SequentialBackend with 1 concurrent workers.\n"
     ]
    },
    {
     "name": "stdout",
     "output_type": "stream",
     "text": [
      "Not setting metadata\n"
     ]
    },
    {
     "name": "stderr",
     "output_type": "stream",
     "text": [
      "[Parallel(n_jobs=1)]: Done   1 out of   1 | elapsed:    1.2s remaining:    0.0s\n",
      "[Parallel(n_jobs=1)]: Done   1 out of   1 | elapsed:    1.2s finished\n"
     ]
    }
   ],
   "source": [
    "decim = 2\n",
    "freqs = np.arange(3, 50, 2)  # define frequencies of interest\n",
    "n_cycles = freqs / 2\n",
    "\n",
    "pow_epochs_1 = tfr_morlet(\n",
    "    epochs_condition_1,\n",
    "    freqs,\n",
    "    n_cycles=n_cycles,\n",
    "    decim=decim,\n",
    "    return_itc=False,\n",
    "    average=False,\n",
    ")\n",
    "\n",
    "pow_epochs_2 = tfr_morlet(\n",
    "    epochs_condition_2,\n",
    "    freqs,\n",
    "    n_cycles=n_cycles,\n",
    "    decim=decim,\n",
    "    return_itc=False,\n",
    "    average=False,\n",
    ")\n",
    "\n",
    "#tfr_epochs_1.apply_baseline(mode=\"ratio\", baseline=(None, 0))\n",
    "#tfr_epochs_2.apply_baseline(mode=\"ratio\", baseline=(None, 0))\n",
    "\n",
    "epochs_power_1 = pow_epochs_1.data[:, 0, :, :]  # only 1 channel as 3D matrix\n",
    "epochs_power_2 = pow_epochs_2.data[:, 0, :, :]  # only 1 channel as 3D matrix\n",
    "\n"
   ]
  },
  {
   "cell_type": "code",
   "execution_count": 12,
   "id": "f529215b",
   "metadata": {},
   "outputs": [
    {
     "name": "stdout",
     "output_type": "stream",
     "text": [
      "stat_fun(H1): min=0.000000 max=13.657568\n",
      "Running initial clustering …\n",
      "Found 6 clusters\n"
     ]
    },
    {
     "name": "stderr",
     "output_type": "stream",
     "text": [
      "/tmp/ipykernel_21015/1377164585.py:2: RuntimeWarning: The MNE-Python config file (/home/james/.mne/mne-python.json) is not a valid JSON file and might be corrupted\n",
      "  F_obs, clusters, cluster_p_values, H0 = permutation_cluster_test(\n",
      "/tmp/ipykernel_21015/1377164585.py:2: RuntimeWarning: The MNE-Python config file (/home/james/.mne/mne-python.json) is not a valid JSON file and might be corrupted\n",
      "  F_obs, clusters, cluster_p_values, H0 = permutation_cluster_test(\n",
      "/tmp/ipykernel_21015/1377164585.py:2: RuntimeWarning: The MNE-Python config file (/home/james/.mne/mne-python.json) is not a valid JSON file and might be corrupted\n",
      "  F_obs, clusters, cluster_p_values, H0 = permutation_cluster_test(\n",
      "/home/james/q1k/pilot/q1k-external-pilot/eeg-env/lib/python3.8/site-packages/tqdm/auto.py:21: TqdmWarning: IProgress not found. Please update jupyter and ipywidgets. See https://ipywidgets.readthedocs.io/en/stable/user_install.html\n",
      "  from .autonotebook import tqdm as notebook_tqdm\n",
      "  1%|          | Permuting : 1/99 [00:00<00:03,   29.05it/s]"
     ]
    },
    {
     "name": "stderr",
     "output_type": "stream",
     "text": [
      "100%|██████████| Permuting : 99/99 [00:02<00:00,   38.83it/s]\n"
     ]
    }
   ],
   "source": [
    "threshold = 6.0\n",
    "F_obs, clusters, cluster_p_values, H0 = permutation_cluster_test(\n",
    "    [epochs_power_1, epochs_power_2],\n",
    "    out_type=\"mask\",\n",
    "    n_permutations=100,\n",
    "    threshold=threshold,\n",
    "    tail=0,\n",
    ")"
   ]
  },
  {
   "cell_type": "code",
   "execution_count": 13,
   "id": "3acf1605",
   "metadata": {},
   "outputs": [
    {
     "name": "stdout",
     "output_type": "stream",
     "text": [
      "NOTE: pick_channels() is a legacy function. New code should use inst.pick(...).\n",
      "NOTE: pick_channels() is a legacy function. New code should use inst.pick(...).\n",
      "Need more than one channel to make topography for eeg. Disabling interactivity.\n"
     ]
    },
    {
     "name": "stderr",
     "output_type": "stream",
     "text": [
      "/tmp/ipykernel_21015/1307331078.py:27: RuntimeWarning: All-NaN slice encountered\n",
      "  max_F = np.nanmax(abs(F_obs_plot))\n"
     ]
    },
    {
     "data": {
      "image/png": "[encoded data removed]",
      "text/plain": [
       "<Figure size 600x400 with 2 Axes>"
      ]
     },
     "execution_count": 13,
     "metadata": {},
     "output_type": "execute_result"
    }
   ],
   "source": [
    "times = 1e3 * epochs_condition_1.times  # change unit to ms\n",
    "\n",
    "fig, (ax, ax2) = plt.subplots(2, 1, figsize=(6, 4))\n",
    "fig.subplots_adjust(0.12, 0.08, 0.96, 0.94, 0.2, 0.43)\n",
    "\n",
    "# Compute the difference in evoked to determine which was greater since\n",
    "# we used a 1-way ANOVA which tested for a difference in population means\n",
    "evoked_power_1 = epochs_power_1.mean(axis=0)\n",
    "evoked_power_2 = epochs_power_2.mean(axis=0)\n",
    "evoked_power_contrast = evoked_power_1 - evoked_power_2\n",
    "#signs = np.sign(evoked_power_contrast)\n",
    "signs = np.sign(evoked_power_contrast)\n",
    "\n",
    "# Create new stats image with only significant clusters\n",
    "F_obs_plot = np.nan * np.ones_like(F_obs)\n",
    "for c, p_val in zip(clusters, cluster_p_values):\n",
    "    if p_val <= 0.05:\n",
    "        F_obs_plot[c] = F_obs[c] * signs[c]\n",
    "\n",
    "ax.imshow(\n",
    "    F_obs,\n",
    "    extent=[times[0], times[-1], freqs[0], freqs[-1]],\n",
    "    aspect=\"auto\",\n",
    "    origin=\"lower\",\n",
    "    cmap=\"gray\",\n",
    ")\n",
    "max_F = np.nanmax(abs(F_obs_plot))\n",
    "ax.imshow(\n",
    "    F_obs_plot,\n",
    "    extent=[times[0], times[-1], freqs[0], freqs[-1]],\n",
    "    aspect=\"auto\",\n",
    "    origin=\"lower\",\n",
    "    cmap=\"RdBu_r\",\n",
    "    vmin=-max_F,\n",
    "    vmax=max_F,\n",
    ")\n",
    "\n",
    "ax.set_xlabel(\"Time (ms)\")\n",
    "ax.set_ylabel(\"Frequency (Hz)\")\n",
    "ax.set_title(f\"Induced power ({ch_name})\")\n",
    "\n",
    "# plot evoked\n",
    "evoked_condition_1 = epochs_condition_1.average()\n",
    "evoked_condition_2 = epochs_condition_2.average()\n",
    "evoked_contrast = mne.combine_evoked(\n",
    "    [evoked_condition_1, evoked_condition_2], weights=[1, -1]\n",
    ")\n",
    "evoked_contrast.plot(axes=ax2, time_unit=\"s\")\n",
    "#evoked_condition_2.plot(axes=ax2, time_unit=\"s\")"
   ]
  },
  {
   "cell_type": "code",
   "execution_count": 14,
   "id": "ba31198f",
   "metadata": {},
   "outputs": [
    {
     "name": "stderr",
     "output_type": "stream",
     "text": [
      "/tmp/ipykernel_21015/2038401238.py:5: RuntimeWarning: The MNE-Python config file (/home/james/.mne/mne-python.json) is not a valid JSON file and might be corrupted\n",
      "  pow_2, itc_2 = tfr_morlet(\n",
      "/tmp/ipykernel_21015/2038401238.py:5: RuntimeWarning: The MNE-Python config file (/home/james/.mne/mne-python.json) is not a valid JSON file and might be corrupted\n",
      "  pow_2, itc_2 = tfr_morlet(\n",
      "[Parallel(n_jobs=1)]: Using backend SequentialBackend with 1 concurrent workers.\n",
      "[Parallel(n_jobs=1)]: Done   1 out of   1 | elapsed:    1.5s remaining:    0.0s\n",
      "[Parallel(n_jobs=1)]: Done   1 out of   1 | elapsed:    1.5s finished\n"
     ]
    }
   ],
   "source": [
    "decim = 2\n",
    "freqs = np.arange(2, 50, 2)  # define frequencies of interest\n",
    "n_cycles = freqs / 2\n",
    "\n",
    "pow_2, itc_2 = tfr_morlet(\n",
    "    epochs_condition_2,\n",
    "    freqs,\n",
    "    n_cycles=n_cycles,\n",
    "    decim=decim,\n",
    "    return_itc=True,\n",
    "    average=True,\n",
    ")\n",
    "\n",
    "#pow_2, itc_2 = tfr_morlet(\n",
    "#    epochs_condition_2,\n",
    "#    freqs,\n",
    "#    n_cycles=n_cycles,\n",
    "#   decim=decim,\n",
    "#    return_itc=True,\n",
    "#    average=True,\n",
    "#)\n",
    "\n",
    "#tfr_epochs_1.apply_baseline(mode=\"ratio\", baseline=(None, 0))\n",
    "#tfr_epochs_2.apply_baseline(mode=\"ratio\", baseline=(None, 0))\n",
    "\n",
    "itc_dat_2 = itc_2.data[0, :, :]  # only 1 channel as 3D matrix\n",
    "pow_dat_2 = pow_2.data[0, :, :]  # only 1 channel as 3D matrix"
   ]
  },
  {
   "cell_type": "code",
   "execution_count": 15,
   "id": "a4d05f26",
   "metadata": {},
   "outputs": [
    {
     "data": {
      "text/plain": [
       "Text(0.5, 1.0, 'Induced power (E72)')"
      ]
     },
     "execution_count": 15,
     "metadata": {},
     "output_type": "execute_result"
    }
   ],
   "source": [
    "times = 1e3 * epochs_condition_2.times  # change unit to ms\n",
    "\n",
    "fig, (ax, ax2) = plt.subplots(2, 1, figsize=(6, 4))\n",
    "fig.subplots_adjust(0.12, 0.08, 0.96, 0.94, 0.2, 0.43)\n",
    "\n",
    "ax.imshow(\n",
    "    pow_dat_2,\n",
    "    extent=[times[0], times[-1], freqs[0], freqs[-1]],\n",
    "    aspect=\"auto\",\n",
    "    origin=\"lower\",\n",
    "    cmap=\"RdBu_r\",\n",
    ")\n",
    "\n",
    "ax2.imshow(\n",
    "    itc_dat_2,\n",
    "    extent=[times[0], times[-1], freqs[0], freqs[-1]],\n",
    "    aspect=\"auto\",\n",
    "    origin=\"lower\",\n",
    "    cmap=\"RdBu_r\",\n",
    ")\n",
    "\n",
    "ax.set_xlabel(\"Time (ms)\")\n",
    "ax.set_ylabel(\"Frequency (Hz)\")\n",
    "ax.set_title(f\"Induced power ({ch_name})\")"
   ]
  },
  {
   "cell_type": "code",
   "execution_count": 27,
   "id": "637d1728-ecb9-4410-b6c4-bafe19a56bbe",
   "metadata": {},
   "outputs": [
    {
     "name": "stdout",
     "output_type": "stream",
     "text": [
      "Not setting metadata\n",
      "1331 matching events found\n",
      "Setting baseline interval to [-1.0, 0.0] s\n",
      "Applying baseline correction (mode: mean)\n",
      "0 projection items activated\n"
     ]
    },
    {
     "name": "stderr",
     "output_type": "stream",
     "text": [
      "/tmp/ipykernel_23624/3552720110.py:2: RuntimeWarning: No matching events found for VBeg (event id 13)\n",
      "  epochs = mne.Epochs(ll_qcr, eeg_events, event_id=eeg_event_dict, tmin=-1, tmax=2.0, on_missing='warn', event_repeated='drop')\n"
     ]
    }
   ],
   "source": [
    "# Epoch structure is created for ALL events, then you 'segment' by indexing into it\n",
    "epochs = mne.Epochs(ll_qcr, eeg_events, event_id=eeg_event_dict, tmin=-1, tmax=2.0, on_missing='warn', event_repeated='drop')"
   ]
  },
  {
   "cell_type": "code",
   "execution_count": 10,
   "id": "507abac9-5037-43bc-8e60-c1432e6b7de7",
   "metadata": {},
   "outputs": [
    {
     "name": "stderr",
     "output_type": "stream",
     "text": [
      "/home/james/q1k/pilot/q1k-external-pilot/eeg-env/lib/python3.8/site-packages/IPython/core/formatters.py:344: RuntimeWarning: The MNE-Python config file (/home/james/.mne/mne-python.json) is not a valid JSON file and might be corrupted\n",
      "  return method()\n"
     ]
    },
    {
     "data": {
      "text/html": [
       "<table class=\"table table-hover table-striped table-sm table-responsive small\">\n",
       "    <tr>\n",
       "        <th>Number of events</th>\n",
       "        <td>120</td>\n",
       "    </tr>\n",
       "    <tr>\n",
       "        <th>Events</th>\n",
       "        \n",
       "        <td>fq06hz/target/disp/dstr: 60<br/>fq15hz/target/disp/fvct: 60</td>\n",
       "        \n",
       "    </tr>\n",
       "    <tr>\n",
       "        <th>Time range</th>\n",
       "        <td>-1.000 – 2.000 s</td>\n",
       "    </tr>\n",
       "    <tr>\n",
       "        <th>Baseline</th>\n",
       "        <td>-1.000 – 0.000 s</td>\n",
       "    </tr>\n",
       "</table>"
      ],
      "text/plain": [
       "<Epochs |  120 events (good & bad), -1 – 2 s, baseline -1 – 0 s, ~177 kB, data not loaded,\n",
       " 'fq06hz/target/disp/dstr': 60\n",
       " 'fq15hz/target/disp/fvct': 60>"
      ]
     },
     "execution_count": 10,
     "metadata": {},
     "output_type": "execute_result"
    }
   ],
   "source": [
    "# Check trial counts\n",
    "epochs[['fq06hz', 'fq15hz']]"
   ]
  },
  {
   "cell_type": "code",
   "execution_count": 11,
   "id": "2ba69bf0-1306-4fc0-b58a-44a24c804234",
   "metadata": {},
   "outputs": [
    {
     "name": "stdout",
     "output_type": "stream",
     "text": [
      "NOTE: pick_channels() is a legacy function. New code should use inst.pick(...).\n",
      "NOTE: pick_channels() is a legacy function. New code should use inst.pick(...).\n",
      "combining channels using \"mean\"\n",
      "combining channels using \"mean\"\n"
     ]
    },
    {
     "name": "stderr",
     "output_type": "stream",
     "text": [
      "/tmp/ipykernel_6495/3322987310.py:3: RuntimeWarning: Only 1 channel in \"picks\"; cannot combine by method \"mean\".\n",
      "  mne.viz.plot_compare_evokeds(evokeds, picks=['E72'], combine='mean')\n"
     ]
    },
    {
     "data": {
      "text/plain": [
       "[<Figure size 800x600 with 2 Axes>]"
      ]
     },
     "execution_count": 11,
     "metadata": {},
     "output_type": "execute_result"
    }
   ],
   "source": [
    "# Plot ERPs\n",
    "evokeds = {'fq06hz': epochs['fq06hz'].average(), 'fq15hz': epochs['fq15hz'].average()}\n",
    "mne.viz.plot_compare_evokeds(evokeds, picks=['E72'], combine='mean')"
   ]
  },
  {
   "cell_type": "code",
   "execution_count": 12,
   "id": "a902cb85",
   "metadata": {},
   "outputs": [],
   "source": [
    "mne.write_evokeds(f'erp_fif_files/vp/009_1_vp_ave.fif',list(evokeds.values()), overwrite=True)"
   ]
  },
  {
   "cell_type": "code",
   "execution_count": null,
   "id": "19bf032e",
   "metadata": {},
   "outputs": [],
   "source": []
  }
 ],
 "metadata": {
  "kernelspec": {
   "display_name": "Python 3 (ipykernel)",
   "language": "python",
   "name": "python3"
  },
  "language_info": {
   "codemirror_mode": {
    "name": "ipython",
    "version": 3
   },
   "file_extension": ".py",
   "mimetype": "text/x-python",
   "name": "python",
   "nbconvert_exporter": "python",
   "pygments_lexer": "ipython3",
   "version": "3.8.10"
  }
 },
 "nbformat": 4,
 "nbformat_minor": 5
}
