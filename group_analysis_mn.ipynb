{
 "cells": [
  {
   "cell_type": "code",
   "execution_count": null,
   "metadata": {},
   "outputs": [],
   "source": [
    "import mne\n",
    "import glob\n",
    "#import matplotlib.pyplot as plt\n",
    "import numpy as np\n",
    "#mne.viz.set_browser_backend('qt')\n",
    "#%matplotlib qt"
   ]
  },
  {
   "cell_type": "code",
   "execution_count": null,
   "metadata": {},
   "outputs": [],
   "source": [
    "project_path = \"/home/james/q1k/pilot/q1k-external-pilot/\"\n",
    "pylossless_path = \"derivatives/pylossless/\"\n",
    "postproc_path = \"derivatives/q1k_postproc/\"\n",
    "task_id = \"mn\"\n",
    "#task_id_out = \"mn\"\n",
    "#subject_id = '010'\n",
    "#session_id = '02'\n",
    "\n",
    "#bids_path = mne_bids.BIDSPath(\n",
    "#    subject=subject_id, session=session_id, task=task_id_out, run=\"1\", datatype=\"eeg\", suffix=\"eeg\",root=project_path + pylossless_path\n",
    "#)\n",
    "#print(bids_path)"
   ]
  },
  {
   "cell_type": "code",
   "execution_count": null,
   "metadata": {},
   "outputs": [],
   "source": [
    "conditions = ['mmns','mmnt']"
   ]
  },
  {
   "cell_type": "code",
   "execution_count": null,
   "metadata": {},
   "outputs": [],
   "source": [
    "data_files = glob.glob(project_path + pylossless_path + postproc_path + 'erp_fif_files/mn/*_erp.fif')"
   ]
  },
  {
   "cell_type": "code",
   "execution_count": null,
   "metadata": {},
   "outputs": [],
   "source": [
    "data_files"
   ]
  },
  {
   "cell_type": "code",
   "execution_count": null,
   "metadata": {},
   "outputs": [],
   "source": [
    "evokeds = {}\n",
    "\n",
    "for idx, c in enumerate(conditions):\n",
    "    evokeds[c] = [mne.read_evokeds(d)[idx] for d in data_files]\n",
    "\n",
    "evokeds"
   ]
  },
  {
   "cell_type": "code",
   "execution_count": null,
   "metadata": {},
   "outputs": [],
   "source": [
    "roi = ['E6']\n",
    "\n",
    "color_dict = {'mmns':'blue', 'mmnt':'red'}\n",
    "linestyle_dict = {'mmns':'-', 'mmnt':'-'}\n",
    "\n",
    "\n",
    "mne.viz.plot_compare_evokeds(evokeds,\n",
    "                             combine='mean',\n",
    "                             legend='lower right',\n",
    "                             picks=roi, show_sensors='upper right',\n",
    "                             colors=color_dict,\n",
    "                             linestyles=linestyle_dict,\n",
    "                             title='standard vs. target ERPs'\n",
    "                            )\n",
    "#plt.show()"
   ]
  },
  {
   "cell_type": "code",
   "execution_count": null,
   "metadata": {},
   "outputs": [],
   "source": [
    "diff_waves = []\n",
    "for i in range(len(data_files)):\n",
    "    diff_waves.append(mne.combine_evoked([evokeds['distractor'][i], evokeds['target'][i]],\n",
    "                                          weights=[1, -1]\n",
    "                                         )\n",
    "                     )\n",
    "\n",
    "diff_waves\n"
   ]
  },
  {
   "cell_type": "code",
   "execution_count": null,
   "metadata": {},
   "outputs": [],
   "source": [
    "contrast = 'distractor-target'\n",
    "mne.viz.plot_compare_evokeds({contrast:diff_waves}, combine='mean',\n",
    "                            legend=None,\n",
    "                            picks=roi, show_sensors='upper right',\n",
    "                            title=contrast\n",
    "                            )\n",
    "plt.show()\n"
   ]
  },
  {
   "cell_type": "code",
   "execution_count": null,
   "metadata": {},
   "outputs": [],
   "source": [
    "mne.viz.plot_evoked_topomap(mne.grand_average(diff_waves), \n",
    "                            times=.500, average=1.4,\n",
    "                            size=3\n",
    "                           )\n",
    "plt.show()"
   ]
  },
  {
   "cell_type": "markdown",
   "metadata": {},
   "source": [
    "t-test"
   ]
  },
  {
   "cell_type": "code",
   "execution_count": null,
   "metadata": {},
   "outputs": [],
   "source": [
    "evoked_data = np.array([np.mean(e.get_data(picks='E71', tmin=-0.4, tmax=1.0), axis=1) for e in diff_waves])"
   ]
  },
  {
   "cell_type": "code",
   "execution_count": null,
   "metadata": {},
   "outputs": [],
   "source": [
    "from scipy import stats \n",
    "\n",
    "t, pval = stats.ttest_1samp(evoked_data, 0)\n",
    "print('Difference t = ', str(round(t[0], 2)), 'p = ', str(round(pval[0], 4)))"
   ]
  },
  {
   "cell_type": "code",
   "execution_count": null,
   "metadata": {},
   "outputs": [],
   "source": [
    "from mne.stats import permutation_t_test"
   ]
  },
  {
   "cell_type": "code",
   "execution_count": null,
   "metadata": {},
   "outputs": [],
   "source": [
    "evoked_data = np.array([np.mean(e.get_data(tmin=-0.4, tmax=1.0), axis=1) for e in diff_waves])\n"
   ]
  },
  {
   "cell_type": "code",
   "execution_count": null,
   "metadata": {},
   "outputs": [],
   "source": [
    "n_permutations = 50000\n",
    "T0, p_values, H0 = permutation_t_test(evoked_data, n_permutations, tail=-1)"
   ]
  },
  {
   "cell_type": "code",
   "execution_count": null,
   "metadata": {},
   "outputs": [],
   "source": [
    "p_values"
   ]
  },
  {
   "cell_type": "code",
   "execution_count": null,
   "metadata": {},
   "outputs": [],
   "source": [
    "epoch_files = glob.glob('erp_fif_files/ap/*_ep.fif')\n",
    "epoch_files"
   ]
  },
  {
   "cell_type": "code",
   "execution_count": null,
   "metadata": {},
   "outputs": [],
   "source": [
    "#epochs = {}\n",
    "\n",
    "#for idx, c in enumerate(conditions):\n",
    "#    epochs[c] = [mne.read_epochs(d)[idx] for d in epoch_files]\n",
    "\n",
    "#epochs\n",
    "\n",
    "epochs = mne.read_epochs('erp_fif_files/ap/004_1_ap_ep.fif')"
   ]
  },
  {
   "cell_type": "code",
   "execution_count": null,
   "metadata": {},
   "outputs": [],
   "source": [
    "from mne.time_frequency import (\n",
    "    tfr_multitaper,\n",
    "    tfr_stockwell,\n",
    "    tfr_morlet,\n",
    "    tfr_array_morlet,\n",
    "    AverageTFR,\n",
    ")\n",
    "from mne.viz import centers_to_edges"
   ]
  },
  {
   "cell_type": "code",
   "execution_count": null,
   "metadata": {},
   "outputs": [],
   "source": [
    "freqs = np.arange(2.0, 50, 3.0)\n",
    "vmin, vmax = -3.0, 3.0  # Define our color limits.\n",
    "\n",
    "#fig, axs = plt.subplots(1, 3, figsize=(15, 5), sharey=True)\n",
    "all_n_cycles = [1, 3, freqs / 2.0]\n",
    "for n_cycles, ax in zip(all_n_cycles, axs):\n",
    "    power, itc = tfr_morlet(epochs, freqs=freqs, n_cycles=n_cycles, return_itc=True)\n",
    "    power.plot(\n",
    "        [0],\n",
    "        baseline=(0.0, 0.1),\n",
    "        mode=\"mean\",\n",
    "        vmin=vmin,\n",
    "        vmax=vmax,\n",
    "        axes=ax,\n",
    "        show=False,\n",
    "        colorbar=False,\n",
    "    )\n",
    "    n_cycles = \"scaled by freqs\" if not isinstance(n_cycles, int) else n_cycles\n",
    "    ax.set_title(f\"Sim: Using Morlet wavelet, n_cycles = {n_cycles}\")\n",
    "plt.tight_layout()"
   ]
  },
  {
   "cell_type": "code",
   "execution_count": null,
   "metadata": {},
   "outputs": [],
   "source": [
    "freqs = np.arange(2.0, 50, 3.0)\n",
    "power, itc = tfr_morlet(epochs, freqs=freqs, n_cycles=1, return_itc=True)"
   ]
  },
  {
   "cell_type": "code",
   "execution_count": null,
   "metadata": {},
   "outputs": [],
   "source": [
    "freqs = np.array([4,6,8,10,12,16,32,36,40,48])\n",
    "n_cycles = freqs / 2.0  # different number of cycle per frequency\n",
    "power, itc = mne.time_frequency.tfr_morlet(\n",
    "    epochs,\n",
    "    freqs=freqs,\n",
    "    n_cycles=n_cycles,\n",
    "    use_fft=True,\n",
    "    return_itc=True,\n",
    "    decim=3,\n",
    "    n_jobs=None,\n",
    ")"
   ]
  },
  {
   "cell_type": "code",
   "execution_count": null,
   "metadata": {},
   "outputs": [],
   "source": [
    "power"
   ]
  },
  {
   "cell_type": "code",
   "execution_count": null,
   "metadata": {},
   "outputs": [],
   "source": [
    "power.plot(picks='E6', baseline=(-0.5, 0), mode=\"logratio\", title='power')"
   ]
  },
  {
   "cell_type": "code",
   "execution_count": null,
   "metadata": {},
   "outputs": [],
   "source": [
    "itc.plot(picks='E6')"
   ]
  },
  {
   "cell_type": "code",
   "execution_count": null,
   "metadata": {},
   "outputs": [],
   "source": []
  }
 ],
 "metadata": {
  "kernelspec": {
   "display_name": "eeg-env",
   "language": "python",
   "name": "python3"
  },
  "language_info": {
   "codemirror_mode": {
    "name": "ipython",
    "version": 3
   },
   "file_extension": ".py",
   "mimetype": "text/x-python",
   "name": "python",
   "nbconvert_exporter": "python",
   "pygments_lexer": "ipython3",
   "version": "3.10.13"
  }
 },
 "nbformat": 4,
 "nbformat_minor": 2
}
