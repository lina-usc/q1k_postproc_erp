{
 "cells": [
  {
   "cell_type": "markdown",
   "id": "793c3da2-34a6-4fce-a4d7-a6bcbe92219f",
   "metadata": {},
   "source": [
    "# Single Subject Segmentation Q1K"
   ]
  },
  {
   "cell_type": "code",
   "execution_count": null,
   "id": "50c1642f-007e-4f44-bc79-43e792d9421e",
   "metadata": {
    "tags": [
     "parameters"
    ]
   },
   "outputs": [],
   "source": [
    "##use these commented parameters for testing this notebook outside of the automated loop of q1k_automated_reports.ipynb\n",
    "#subject_id = \"10043F1\"\n",
    "#task_id = \"AEP\"\n",
    "#session_id = \"01\"\n",
    "#run_id = \"1\"\n",
    "\n",
    "#use these parameters when executing this notebook from the automation notebook..\n",
    "subject_id = \"\"\n",
    "task_id = \"\"\n",
    "session_id = \"\"\n",
    "run_id = \"\"\n"
   ]
  },
  {
   "cell_type": "code",
   "execution_count": null,
   "id": "9450f6bf-4cb0-4e7e-bd64-f9dd953de143",
   "metadata": {},
   "outputs": [],
   "source": [
    "# import packages\n",
    "#import q1k_sync_tools as qst\n",
    "import mne\n",
    "import mne_bids\n",
    "#mne.viz.set_browser_backend('qt')\n",
    "#%matplotlib qt\n",
    "#pd.options.mode.chained_assignment = None\n",
    "#import pylossless as ll\n",
    "#import numpy as np\n",
    "import pandas as pd\n",
    "#import glob\n",
    "\n",
    "from pathlib import Path\n",
    "import shutil\n",
    "import pylossless as ll\n"
   ]
  },
  {
   "cell_type": "code",
   "execution_count": null,
   "id": "14258a9e",
   "metadata": {},
   "outputs": [],
   "source": [
    "project_path = \"/project/def-emayada/q1k/experimental/hsj/\"\n",
    "pyll_path = \"derivatives/pylossless/\"\n",
    "postproc_path = \"derivatives/postproc/\"\n",
    "#task_id = \"AEP\"\n",
    "#subject_id = '10043F1'\n",
    "#session_id = '01'\n",
    "\n",
    "bids_path = mne_bids.BIDSPath(\n",
    "    subject=subject_id, session=session_id, task=task_id, run=\"1\", datatype=\"eeg\", suffix=\"eeg\",root=project_path + pyll_path\n",
    ")\n",
    "print(bids_path)"
   ]
  },
  {
   "cell_type": "code",
   "execution_count": null,
   "id": "5cb698e8",
   "metadata": {},
   "outputs": [],
   "source": [
    "# Read the BIDS pylossless output file..\n",
    "eeg_raw = mne_bids.read_raw_bids(bids_path=bids_path, verbose=False)"
   ]
  },
  {
   "cell_type": "code",
   "execution_count": null,
   "id": "8877b53c",
   "metadata": {},
   "outputs": [],
   "source": [
    "# Get the events form the annotations\n",
    "eeg_events, eeg_event_dict  = mne.events_from_annotations(eeg_raw)"
   ]
  },
  {
   "cell_type": "code",
   "execution_count": null,
   "id": "24e51517",
   "metadata": {},
   "outputs": [],
   "source": [
    "ll_state = ll.LosslessPipeline()\n",
    "ll_state = ll_state.load_ll_derivative(bids_path)\n",
    "bids_path_str=str(bids_path)\n",
    "# Merge marks down to bads (aka manual)\n",
    "ll_qcr = ll_state.raw.copy()\n",
    "manual = []\n",
    "for flag_type in ll_state.flags['ch']:\n",
    "    manual.extend(ll_state.flags['ch'][flag_type])\n",
    "print(ll_state.flags['ch'])\n",
    "ll_qcr.info['bads'].extend(manual)\n",
    "ll_qcr.info['bads'] = list(set(ll_qcr.info['bads']))\n",
    "\n",
    "fig = ll_qcr.plot_sensors(show_names=True)\n",
    "\n",
    "# Read the ICLabel info from file and add to exclude\n",
    "df = pd.read_csv(bids_path_str.replace('_eeg.edf', '_iclabels.tsv'), sep='\\t')\n",
    "ll_state.ica2.exclude = list(df[df['ic_type'].str.match('eog|muscle|ch_noise|ecg')].index)\n",
    "\n",
    "# Load the data and apply the ICA\n",
    "ll_qcr.load_data()\n",
    "ll_state.ica2.apply(ll_qcr)\n",
    "ll_qcr = ll_qcr.filter(l_freq=1.0, h_freq=100.0)\n",
    "ll_qcr = ll_qcr.interpolate_bads()\n",
    "ll_qcr = ll_qcr.set_eeg_reference(ref_channels=\"average\")\n",
    "ll_qcr"
   ]
  },
  {
   "cell_type": "code",
   "execution_count": null,
   "id": "324bdd13",
   "metadata": {},
   "outputs": [],
   "source": [
    "# Relabel condition vars for niceness\n",
    "eeg_event_dict['ap/audio/disp/ae06_d'] = eeg_event_dict.pop('ae06_d')\n",
    "eeg_event_dict['ap/audio/disp/ae40_d'] = eeg_event_dict.pop('ae40_d')"
   ]
  },
  {
   "cell_type": "code",
   "execution_count": null,
   "id": "3fc2575e",
   "metadata": {},
   "outputs": [],
   "source": [
    "# Epoch structure is created for ALL events, then you 'segment' by indexing into it\n",
    "epochs = mne.Epochs(ll_qcr, eeg_events, event_id=eeg_event_dict, tmin=-1, tmax=2.0, on_missing='warn', event_repeated='drop')\n",
    "epochs = epochs[['ae06_d', 'ae40_d']]\n",
    "display(epochs)\n",
    "epochs.save(project_path + pyll_path + postproc_path + 'epoch_fif_files/AEP/' + bids_path.basename + '_epo.fif', overwrite=True)"
   ]
  },
  {
   "cell_type": "code",
   "execution_count": null,
   "id": "98e36a79",
   "metadata": {},
   "outputs": [],
   "source": [
    "# Plot ERPs\n",
    "evokeds = {'ae06_d': epochs['ae06_d'].average(), 'ae40_d': epochs['ae40_d'].average()}\n",
    "mne.viz.plot_compare_evokeds(evokeds, picks=['E6'], combine='mean')"
   ]
  },
  {
   "cell_type": "code",
   "execution_count": null,
   "id": "ebe9c383",
   "metadata": {},
   "outputs": [],
   "source": [
    "mne.write_evokeds(project_path + pyll_path + postproc_path + 'erp_fif_files/AEP/' + bids_path.basename + '_erp.fif',list(evokeds.values()), overwrite=True)"
   ]
  },
  {
   "cell_type": "code",
   "execution_count": null,
   "id": "371599d4-ec5a-4ce6-ae63-64c4e6fb7d50",
   "metadata": {},
   "outputs": [],
   "source": []
  }
 ],
 "metadata": {
  "kernelspec": {
   "display_name": "q1k_env",
   "language": "python",
   "name": "q1k_env"
  },
  "language_info": {
   "codemirror_mode": {
    "name": "ipython",
    "version": 3
   },
   "file_extension": ".py",
   "mimetype": "text/x-python",
   "name": "python",
   "nbconvert_exporter": "python",
   "pygments_lexer": "ipython3",
   "version": "3.10.13"
  }
 },
 "nbformat": 4,
 "nbformat_minor": 5
}
