{
 "cells": [
  {
   "cell_type": "code",
   "execution_count": 3,
   "metadata": {},
   "outputs": [
    {
     "name": "stderr",
     "output_type": "stream",
     "text": [
      "<frozen importlib._bootstrap>:219: RuntimeWarning: The MNE-Python config file (/home/james/.mne/mne-python.json) is not a valid JSON file and might be corrupted\n"
     ]
    },
    {
     "name": "stdout",
     "output_type": "stream",
     "text": [
      "Using qt as 2D backend.\n"
     ]
    }
   ],
   "source": [
    "import mne\n",
    "import glob\n",
    "import matplotlib.pyplot as plt\n",
    "import numpy as np\n",
    "mne.viz.set_browser_backend('qt')\n",
    "%matplotlib qt"
   ]
  },
  {
   "cell_type": "code",
   "execution_count": 4,
   "metadata": {},
   "outputs": [],
   "source": [
    "conditions = ['fq06hz','fq40hz']"
   ]
  },
  {
   "cell_type": "code",
   "execution_count": 3,
   "metadata": {},
   "outputs": [],
   "source": [
    "data_files = glob.glob('erp_fif_files/ap/*_ave.fif')"
   ]
  },
  {
   "cell_type": "code",
   "execution_count": 4,
   "metadata": {},
   "outputs": [
    {
     "data": {
      "text/plain": [
       "['erp_fif_files/ap/012_1_ap_ave.fif',\n",
       " 'erp_fif_files/ap/014_1_ap_ave.fif',\n",
       " 'erp_fif_files/ap/015_1_ap_ave.fif',\n",
       " 'erp_fif_files/ap/010_1_ap_ave.fif',\n",
       " 'erp_fif_files/ap/009_1_ap_ave.fif',\n",
       " 'erp_fif_files/ap/013_1_ap_ave.fif',\n",
       " 'erp_fif_files/ap/006_1_ap_ave.fif',\n",
       " 'erp_fif_files/ap/018_1_ap_ave.fif',\n",
       " 'erp_fif_files/ap/024_1_ap_ave.fif',\n",
       " 'erp_fif_files/ap/023_1_ap_ave.fif',\n",
       " 'erp_fif_files/ap/020_1_ap_ave.fif',\n",
       " 'erp_fif_files/ap/017_1_ap_ave.fif',\n",
       " 'erp_fif_files/ap/004_1_ap_ave.fif',\n",
       " 'erp_fif_files/ap/008_1_ap_ave.fif']"
      ]
     },
     "execution_count": 4,
     "metadata": {},
     "output_type": "execute_result"
    }
   ],
   "source": [
    "data_files"
   ]
  },
  {
   "cell_type": "code",
   "execution_count": 5,
   "metadata": {},
   "outputs": [
    {
     "name": "stdout",
     "output_type": "stream",
     "text": [
      "Reading /home/james/q1k/pilot/q1k-external-pilot/erp_fif_files/ap/012_1_ap_ave.fif ...\n",
      "    Found the data of interest:\n",
      "        t =   -1000.00 ...    2000.00 ms (fq06hz/target/disp/ae06)\n",
      "        0 CTF compensation matrices available\n",
      "        nave = 69 - aspect type = 100\n",
      "No projector specified for this dataset. Please consider the method self.add_proj.\n",
      "Loaded Evoked data is baseline-corrected (baseline: [-1, 0] s)\n",
      "    Found the data of interest:\n",
      "        t =   -1000.00 ...    2000.00 ms (fq40hz/target/disp/ae40)\n",
      "        0 CTF compensation matrices available\n",
      "        nave = 71 - aspect type = 100\n",
      "No projector specified for this dataset. Please consider the method self.add_proj.\n",
      "Loaded Evoked data is baseline-corrected (baseline: [-1, 0] s)\n",
      "Reading /home/james/q1k/pilot/q1k-external-pilot/erp_fif_files/ap/014_1_ap_ave.fif ...\n",
      "    Found the data of interest:\n",
      "        t =   -1000.00 ...    2000.00 ms (fq06hz/target/disp/ae06)\n",
      "        0 CTF compensation matrices available\n",
      "        nave = 65 - aspect type = 100\n",
      "No projector specified for this dataset. Please consider the method self.add_proj.\n",
      "Loaded Evoked data is baseline-corrected (baseline: [-1, 0] s)\n",
      "    Found the data of interest:\n",
      "        t =   -1000.00 ...    2000.00 ms (fq40hz/target/disp/ae40)\n",
      "        0 CTF compensation matrices available\n",
      "        nave = 65 - aspect type = 100\n",
      "No projector specified for this dataset. Please consider the method self.add_proj.\n",
      "Loaded Evoked data is baseline-corrected (baseline: [-1, 0] s)\n",
      "Reading /home/james/q1k/pilot/q1k-external-pilot/erp_fif_files/ap/015_1_ap_ave.fif ...\n",
      "    Found the data of interest:\n",
      "        t =   -1000.00 ...    2000.00 ms (fq06hz/target/disp/ae06)\n",
      "        0 CTF compensation matrices available\n",
      "        nave = 68 - aspect type = 100\n",
      "No projector specified for this dataset. Please consider the method self.add_proj.\n",
      "Loaded Evoked data is baseline-corrected (baseline: [-1, 0] s)\n",
      "    Found the data of interest:\n",
      "        t =   -1000.00 ...    2000.00 ms (fq40hz/target/disp/ae40)\n",
      "        0 CTF compensation matrices available\n",
      "        nave = 69 - aspect type = 100\n",
      "No projector specified for this dataset. Please consider the method self.add_proj.\n",
      "Loaded Evoked data is baseline-corrected (baseline: [-1, 0] s)\n",
      "Reading /home/james/q1k/pilot/q1k-external-pilot/erp_fif_files/ap/010_1_ap_ave.fif ...\n",
      "    Found the data of interest:\n",
      "        t =   -1000.00 ...    2000.00 ms (fq06hz/target/disp/ae06)\n",
      "        0 CTF compensation matrices available\n",
      "        nave = 73 - aspect type = 100\n",
      "No projector specified for this dataset. Please consider the method self.add_proj.\n",
      "Loaded Evoked data is baseline-corrected (baseline: [-1, 0] s)\n",
      "    Found the data of interest:\n",
      "        t =   -1000.00 ...    2000.00 ms (fq40hz/target/disp/ae40)\n",
      "        0 CTF compensation matrices available\n",
      "        nave = 75 - aspect type = 100\n",
      "No projector specified for this dataset. Please consider the method self.add_proj.\n",
      "Loaded Evoked data is baseline-corrected (baseline: [-1, 0] s)\n",
      "Reading /home/james/q1k/pilot/q1k-external-pilot/erp_fif_files/ap/009_1_ap_ave.fif ...\n",
      "    Found the data of interest:\n",
      "        t =   -1000.00 ...    2000.00 ms (fq06hz/target/disp/ae06)\n",
      "        0 CTF compensation matrices available\n",
      "        nave = 68 - aspect type = 100\n",
      "No projector specified for this dataset. Please consider the method self.add_proj.\n",
      "Loaded Evoked data is baseline-corrected (baseline: [-1, 0] s)\n",
      "    Found the data of interest:\n",
      "        t =   -1000.00 ...    2000.00 ms (fq40hz/target/disp/ae40)\n",
      "        0 CTF compensation matrices available\n",
      "        nave = 70 - aspect type = 100\n",
      "No projector specified for this dataset. Please consider the method self.add_proj.\n",
      "Loaded Evoked data is baseline-corrected (baseline: [-1, 0] s)\n",
      "Reading /home/james/q1k/pilot/q1k-external-pilot/erp_fif_files/ap/013_1_ap_ave.fif ...\n",
      "    Found the data of interest:\n",
      "        t =   -1000.00 ...    2000.00 ms (fq06hz/target/disp/ae06)\n",
      "        0 CTF compensation matrices available\n",
      "        nave = 69 - aspect type = 100\n",
      "No projector specified for this dataset. Please consider the method self.add_proj.\n",
      "Loaded Evoked data is baseline-corrected (baseline: [-1, 0] s)\n",
      "    Found the data of interest:\n",
      "        t =   -1000.00 ...    2000.00 ms (fq40hz/target/disp/ae40)\n",
      "        0 CTF compensation matrices available\n",
      "        nave = 67 - aspect type = 100\n",
      "No projector specified for this dataset. Please consider the method self.add_proj.\n",
      "Loaded Evoked data is baseline-corrected (baseline: [-1, 0] s)\n",
      "Reading /home/james/q1k/pilot/q1k-external-pilot/erp_fif_files/ap/006_1_ap_ave.fif ...\n",
      "    Found the data of interest:\n",
      "        t =   -1000.00 ...    2000.00 ms (fq06hz/target/disp/ae06)\n",
      "        0 CTF compensation matrices available\n",
      "        nave = 66 - aspect type = 100\n",
      "No projector specified for this dataset. Please consider the method self.add_proj.\n",
      "Loaded Evoked data is baseline-corrected (baseline: [-1, 0] s)\n",
      "    Found the data of interest:\n",
      "        t =   -1000.00 ...    2000.00 ms (fq40hz/target/disp/ae40)\n",
      "        0 CTF compensation matrices available\n",
      "        nave = 66 - aspect type = 100\n",
      "No projector specified for this dataset. Please consider the method self.add_proj.\n",
      "Loaded Evoked data is baseline-corrected (baseline: [-1, 0] s)\n",
      "Reading /home/james/q1k/pilot/q1k-external-pilot/erp_fif_files/ap/018_1_ap_ave.fif ...\n",
      "    Found the data of interest:\n",
      "        t =   -1000.00 ...    2000.00 ms (fq06hz/target/disp/ae06)\n",
      "        0 CTF compensation matrices available\n",
      "        nave = 78 - aspect type = 100\n",
      "No projector specified for this dataset. Please consider the method self.add_proj.\n",
      "Loaded Evoked data is baseline-corrected (baseline: [-1, 0] s)\n",
      "    Found the data of interest:\n",
      "        t =   -1000.00 ...    2000.00 ms (fq40hz/target/disp/ae40)\n",
      "        0 CTF compensation matrices available\n",
      "        nave = 75 - aspect type = 100\n",
      "No projector specified for this dataset. Please consider the method self.add_proj.\n",
      "Loaded Evoked data is baseline-corrected (baseline: [-1, 0] s)\n",
      "Reading /home/james/q1k/pilot/q1k-external-pilot/erp_fif_files/ap/024_1_ap_ave.fif ...\n",
      "    Found the data of interest:\n",
      "        t =   -1000.00 ...    2000.00 ms (fq06hz/target/disp/ae06)\n",
      "        0 CTF compensation matrices available\n",
      "        nave = 75 - aspect type = 100\n",
      "No projector specified for this dataset. Please consider the method self.add_proj.\n",
      "Loaded Evoked data is baseline-corrected (baseline: [-1, 0] s)\n",
      "    Found the data of interest:\n",
      "        t =   -1000.00 ...    2000.00 ms (fq40hz/target/disp/ae40)\n",
      "        0 CTF compensation matrices available\n",
      "        nave = 78 - aspect type = 100\n",
      "No projector specified for this dataset. Please consider the method self.add_proj.\n",
      "Loaded Evoked data is baseline-corrected (baseline: [-1, 0] s)\n",
      "Reading /home/james/q1k/pilot/q1k-external-pilot/erp_fif_files/ap/023_1_ap_ave.fif ...\n",
      "    Found the data of interest:\n",
      "        t =   -1000.00 ...    2000.00 ms (fq06hz/target/disp/ae06)\n",
      "        0 CTF compensation matrices available\n",
      "        nave = 67 - aspect type = 100\n",
      "No projector specified for this dataset. Please consider the method self.add_proj.\n",
      "Loaded Evoked data is baseline-corrected (baseline: [-1, 0] s)\n",
      "    Found the data of interest:\n",
      "        t =   -1000.00 ...    2000.00 ms (fq40hz/target/disp/ae40)\n",
      "        0 CTF compensation matrices available\n",
      "        nave = 70 - aspect type = 100\n",
      "No projector specified for this dataset. Please consider the method self.add_proj.\n",
      "Loaded Evoked data is baseline-corrected (baseline: [-1, 0] s)\n",
      "Reading /home/james/q1k/pilot/q1k-external-pilot/erp_fif_files/ap/020_1_ap_ave.fif ...\n",
      "    Found the data of interest:\n",
      "        t =   -1000.00 ...    2000.00 ms (fq06hz/target/disp/ae06)\n",
      "        0 CTF compensation matrices available\n",
      "        nave = 77 - aspect type = 100\n",
      "No projector specified for this dataset. Please consider the method self.add_proj.\n",
      "Loaded Evoked data is baseline-corrected (baseline: [-1, 0] s)\n",
      "    Found the data of interest:\n",
      "        t =   -1000.00 ...    2000.00 ms (fq40hz/target/disp/ae40)\n",
      "        0 CTF compensation matrices available\n",
      "        nave = 79 - aspect type = 100\n",
      "No projector specified for this dataset. Please consider the method self.add_proj.\n",
      "Loaded Evoked data is baseline-corrected (baseline: [-1, 0] s)\n",
      "Reading /home/james/q1k/pilot/q1k-external-pilot/erp_fif_files/ap/017_1_ap_ave.fif ...\n",
      "    Found the data of interest:\n",
      "        t =   -1000.00 ...    2000.00 ms (fq06hz/target/disp/ae06)\n",
      "        0 CTF compensation matrices available\n",
      "        nave = 60 - aspect type = 100\n",
      "No projector specified for this dataset. Please consider the method self.add_proj.\n",
      "Loaded Evoked data is baseline-corrected (baseline: [-1, 0] s)\n",
      "    Found the data of interest:\n",
      "        t =   -1000.00 ...    2000.00 ms (fq40hz/target/disp/ae40)\n",
      "        0 CTF compensation matrices available\n",
      "        nave = 60 - aspect type = 100\n",
      "No projector specified for this dataset. Please consider the method self.add_proj.\n",
      "Loaded Evoked data is baseline-corrected (baseline: [-1, 0] s)\n",
      "Reading /home/james/q1k/pilot/q1k-external-pilot/erp_fif_files/ap/004_1_ap_ave.fif ...\n",
      "    Found the data of interest:\n",
      "        t =   -1000.00 ...    2000.00 ms (fq06hz/target/disp/ae06)\n",
      "        0 CTF compensation matrices available\n",
      "        nave = 44 - aspect type = 100\n",
      "No projector specified for this dataset. Please consider the method self.add_proj.\n",
      "Loaded Evoked data is baseline-corrected (baseline: [-1, 0] s)\n",
      "    Found the data of interest:\n",
      "        t =   -1000.00 ...    2000.00 ms (fq40hz/target/disp/ae40)\n",
      "        0 CTF compensation matrices available\n",
      "        nave = 44 - aspect type = 100\n",
      "No projector specified for this dataset. Please consider the method self.add_proj.\n",
      "Loaded Evoked data is baseline-corrected (baseline: [-1, 0] s)\n",
      "Reading /home/james/q1k/pilot/q1k-external-pilot/erp_fif_files/ap/008_1_ap_ave.fif ...\n",
      "    Found the data of interest:\n",
      "        t =   -1000.00 ...    2000.00 ms (fq06hz/target/disp/ae06)\n",
      "        0 CTF compensation matrices available\n",
      "        nave = 69 - aspect type = 100\n",
      "No projector specified for this dataset. Please consider the method self.add_proj.\n",
      "Loaded Evoked data is baseline-corrected (baseline: [-1, 0] s)\n",
      "    Found the data of interest:\n",
      "        t =   -1000.00 ...    2000.00 ms (fq40hz/target/disp/ae40)\n",
      "        0 CTF compensation matrices available\n",
      "        nave = 73 - aspect type = 100\n",
      "No projector specified for this dataset. Please consider the method self.add_proj.\n",
      "Loaded Evoked data is baseline-corrected (baseline: [-1, 0] s)\n",
      "Reading /home/james/q1k/pilot/q1k-external-pilot/erp_fif_files/ap/012_1_ap_ave.fif ...\n",
      "    Found the data of interest:\n",
      "        t =   -1000.00 ...    2000.00 ms (fq06hz/target/disp/ae06)\n",
      "        0 CTF compensation matrices available\n",
      "        nave = 69 - aspect type = 100\n",
      "No projector specified for this dataset. Please consider the method self.add_proj.\n",
      "Loaded Evoked data is baseline-corrected (baseline: [-1, 0] s)\n",
      "    Found the data of interest:\n",
      "        t =   -1000.00 ...    2000.00 ms (fq40hz/target/disp/ae40)\n",
      "        0 CTF compensation matrices available\n",
      "        nave = 71 - aspect type = 100\n",
      "No projector specified for this dataset. Please consider the method self.add_proj.\n",
      "Loaded Evoked data is baseline-corrected (baseline: [-1, 0] s)\n",
      "Reading /home/james/q1k/pilot/q1k-external-pilot/erp_fif_files/ap/014_1_ap_ave.fif ...\n",
      "    Found the data of interest:\n",
      "        t =   -1000.00 ...    2000.00 ms (fq06hz/target/disp/ae06)\n",
      "        0 CTF compensation matrices available\n",
      "        nave = 65 - aspect type = 100\n",
      "No projector specified for this dataset. Please consider the method self.add_proj.\n",
      "Loaded Evoked data is baseline-corrected (baseline: [-1, 0] s)\n",
      "    Found the data of interest:\n",
      "        t =   -1000.00 ...    2000.00 ms (fq40hz/target/disp/ae40)\n",
      "        0 CTF compensation matrices available\n",
      "        nave = 65 - aspect type = 100\n",
      "No projector specified for this dataset. Please consider the method self.add_proj.\n",
      "Loaded Evoked data is baseline-corrected (baseline: [-1, 0] s)\n",
      "Reading /home/james/q1k/pilot/q1k-external-pilot/erp_fif_files/ap/015_1_ap_ave.fif ...\n",
      "    Found the data of interest:\n",
      "        t =   -1000.00 ...    2000.00 ms (fq06hz/target/disp/ae06)\n",
      "        0 CTF compensation matrices available\n",
      "        nave = 68 - aspect type = 100\n",
      "No projector specified for this dataset. Please consider the method self.add_proj.\n",
      "Loaded Evoked data is baseline-corrected (baseline: [-1, 0] s)\n",
      "    Found the data of interest:\n",
      "        t =   -1000.00 ...    2000.00 ms (fq40hz/target/disp/ae40)\n",
      "        0 CTF compensation matrices available\n",
      "        nave = 69 - aspect type = 100\n",
      "No projector specified for this dataset. Please consider the method self.add_proj.\n",
      "Loaded Evoked data is baseline-corrected (baseline: [-1, 0] s)\n",
      "Reading /home/james/q1k/pilot/q1k-external-pilot/erp_fif_files/ap/010_1_ap_ave.fif ...\n",
      "    Found the data of interest:\n",
      "        t =   -1000.00 ...    2000.00 ms (fq06hz/target/disp/ae06)\n",
      "        0 CTF compensation matrices available\n",
      "        nave = 73 - aspect type = 100\n",
      "No projector specified for this dataset. Please consider the method self.add_proj.\n",
      "Loaded Evoked data is baseline-corrected (baseline: [-1, 0] s)\n",
      "    Found the data of interest:\n",
      "        t =   -1000.00 ...    2000.00 ms (fq40hz/target/disp/ae40)\n",
      "        0 CTF compensation matrices available\n",
      "        nave = 75 - aspect type = 100\n",
      "No projector specified for this dataset. Please consider the method self.add_proj.\n",
      "Loaded Evoked data is baseline-corrected (baseline: [-1, 0] s)\n",
      "Reading /home/james/q1k/pilot/q1k-external-pilot/erp_fif_files/ap/009_1_ap_ave.fif ...\n",
      "    Found the data of interest:\n",
      "        t =   -1000.00 ...    2000.00 ms (fq06hz/target/disp/ae06)\n",
      "        0 CTF compensation matrices available\n",
      "        nave = 68 - aspect type = 100\n",
      "No projector specified for this dataset. Please consider the method self.add_proj.\n",
      "Loaded Evoked data is baseline-corrected (baseline: [-1, 0] s)\n",
      "    Found the data of interest:\n",
      "        t =   -1000.00 ...    2000.00 ms (fq40hz/target/disp/ae40)\n",
      "        0 CTF compensation matrices available\n",
      "        nave = 70 - aspect type = 100\n",
      "No projector specified for this dataset. Please consider the method self.add_proj.\n",
      "Loaded Evoked data is baseline-corrected (baseline: [-1, 0] s)\n",
      "Reading /home/james/q1k/pilot/q1k-external-pilot/erp_fif_files/ap/013_1_ap_ave.fif ...\n",
      "    Found the data of interest:\n",
      "        t =   -1000.00 ...    2000.00 ms (fq06hz/target/disp/ae06)\n",
      "        0 CTF compensation matrices available\n",
      "        nave = 69 - aspect type = 100\n",
      "No projector specified for this dataset. Please consider the method self.add_proj.\n",
      "Loaded Evoked data is baseline-corrected (baseline: [-1, 0] s)\n",
      "    Found the data of interest:\n",
      "        t =   -1000.00 ...    2000.00 ms (fq40hz/target/disp/ae40)\n",
      "        0 CTF compensation matrices available\n",
      "        nave = 67 - aspect type = 100\n",
      "No projector specified for this dataset. Please consider the method self.add_proj.\n",
      "Loaded Evoked data is baseline-corrected (baseline: [-1, 0] s)\n",
      "Reading /home/james/q1k/pilot/q1k-external-pilot/erp_fif_files/ap/006_1_ap_ave.fif ...\n",
      "    Found the data of interest:\n",
      "        t =   -1000.00 ...    2000.00 ms (fq06hz/target/disp/ae06)\n",
      "        0 CTF compensation matrices available\n",
      "        nave = 66 - aspect type = 100\n",
      "No projector specified for this dataset. Please consider the method self.add_proj.\n",
      "Loaded Evoked data is baseline-corrected (baseline: [-1, 0] s)\n",
      "    Found the data of interest:\n",
      "        t =   -1000.00 ...    2000.00 ms (fq40hz/target/disp/ae40)\n",
      "        0 CTF compensation matrices available\n",
      "        nave = 66 - aspect type = 100\n",
      "No projector specified for this dataset. Please consider the method self.add_proj.\n",
      "Loaded Evoked data is baseline-corrected (baseline: [-1, 0] s)\n",
      "Reading /home/james/q1k/pilot/q1k-external-pilot/erp_fif_files/ap/018_1_ap_ave.fif ...\n",
      "    Found the data of interest:\n",
      "        t =   -1000.00 ...    2000.00 ms (fq06hz/target/disp/ae06)\n",
      "        0 CTF compensation matrices available\n",
      "        nave = 78 - aspect type = 100\n",
      "No projector specified for this dataset. Please consider the method self.add_proj.\n",
      "Loaded Evoked data is baseline-corrected (baseline: [-1, 0] s)\n",
      "    Found the data of interest:\n",
      "        t =   -1000.00 ...    2000.00 ms (fq40hz/target/disp/ae40)\n",
      "        0 CTF compensation matrices available\n",
      "        nave = 75 - aspect type = 100\n",
      "No projector specified for this dataset. Please consider the method self.add_proj.\n",
      "Loaded Evoked data is baseline-corrected (baseline: [-1, 0] s)\n",
      "Reading /home/james/q1k/pilot/q1k-external-pilot/erp_fif_files/ap/024_1_ap_ave.fif ...\n",
      "    Found the data of interest:\n",
      "        t =   -1000.00 ...    2000.00 ms (fq06hz/target/disp/ae06)\n",
      "        0 CTF compensation matrices available\n",
      "        nave = 75 - aspect type = 100\n",
      "No projector specified for this dataset. Please consider the method self.add_proj.\n",
      "Loaded Evoked data is baseline-corrected (baseline: [-1, 0] s)\n",
      "    Found the data of interest:\n",
      "        t =   -1000.00 ...    2000.00 ms (fq40hz/target/disp/ae40)\n",
      "        0 CTF compensation matrices available\n",
      "        nave = 78 - aspect type = 100\n",
      "No projector specified for this dataset. Please consider the method self.add_proj.\n",
      "Loaded Evoked data is baseline-corrected (baseline: [-1, 0] s)\n",
      "Reading /home/james/q1k/pilot/q1k-external-pilot/erp_fif_files/ap/023_1_ap_ave.fif ...\n",
      "    Found the data of interest:\n",
      "        t =   -1000.00 ...    2000.00 ms (fq06hz/target/disp/ae06)\n",
      "        0 CTF compensation matrices available\n",
      "        nave = 67 - aspect type = 100\n",
      "No projector specified for this dataset. Please consider the method self.add_proj.\n",
      "Loaded Evoked data is baseline-corrected (baseline: [-1, 0] s)\n",
      "    Found the data of interest:\n",
      "        t =   -1000.00 ...    2000.00 ms (fq40hz/target/disp/ae40)\n",
      "        0 CTF compensation matrices available\n",
      "        nave = 70 - aspect type = 100\n",
      "No projector specified for this dataset. Please consider the method self.add_proj.\n",
      "Loaded Evoked data is baseline-corrected (baseline: [-1, 0] s)\n",
      "Reading /home/james/q1k/pilot/q1k-external-pilot/erp_fif_files/ap/020_1_ap_ave.fif ...\n",
      "    Found the data of interest:\n",
      "        t =   -1000.00 ...    2000.00 ms (fq06hz/target/disp/ae06)\n",
      "        0 CTF compensation matrices available\n",
      "        nave = 77 - aspect type = 100\n",
      "No projector specified for this dataset. Please consider the method self.add_proj.\n",
      "Loaded Evoked data is baseline-corrected (baseline: [-1, 0] s)\n",
      "    Found the data of interest:\n",
      "        t =   -1000.00 ...    2000.00 ms (fq40hz/target/disp/ae40)\n",
      "        0 CTF compensation matrices available\n",
      "        nave = 79 - aspect type = 100\n",
      "No projector specified for this dataset. Please consider the method self.add_proj.\n",
      "Loaded Evoked data is baseline-corrected (baseline: [-1, 0] s)\n",
      "Reading /home/james/q1k/pilot/q1k-external-pilot/erp_fif_files/ap/017_1_ap_ave.fif ...\n",
      "    Found the data of interest:\n",
      "        t =   -1000.00 ...    2000.00 ms (fq06hz/target/disp/ae06)\n",
      "        0 CTF compensation matrices available\n",
      "        nave = 60 - aspect type = 100\n",
      "No projector specified for this dataset. Please consider the method self.add_proj.\n",
      "Loaded Evoked data is baseline-corrected (baseline: [-1, 0] s)\n",
      "    Found the data of interest:\n",
      "        t =   -1000.00 ...    2000.00 ms (fq40hz/target/disp/ae40)\n",
      "        0 CTF compensation matrices available\n",
      "        nave = 60 - aspect type = 100\n",
      "No projector specified for this dataset. Please consider the method self.add_proj.\n",
      "Loaded Evoked data is baseline-corrected (baseline: [-1, 0] s)\n",
      "Reading /home/james/q1k/pilot/q1k-external-pilot/erp_fif_files/ap/004_1_ap_ave.fif ...\n",
      "    Found the data of interest:\n",
      "        t =   -1000.00 ...    2000.00 ms (fq06hz/target/disp/ae06)\n",
      "        0 CTF compensation matrices available\n",
      "        nave = 44 - aspect type = 100\n",
      "No projector specified for this dataset. Please consider the method self.add_proj.\n",
      "Loaded Evoked data is baseline-corrected (baseline: [-1, 0] s)\n",
      "    Found the data of interest:\n",
      "        t =   -1000.00 ...    2000.00 ms (fq40hz/target/disp/ae40)\n",
      "        0 CTF compensation matrices available\n",
      "        nave = 44 - aspect type = 100\n",
      "No projector specified for this dataset. Please consider the method self.add_proj.\n",
      "Loaded Evoked data is baseline-corrected (baseline: [-1, 0] s)\n",
      "Reading /home/james/q1k/pilot/q1k-external-pilot/erp_fif_files/ap/008_1_ap_ave.fif ...\n",
      "    Found the data of interest:\n",
      "        t =   -1000.00 ...    2000.00 ms (fq06hz/target/disp/ae06)\n",
      "        0 CTF compensation matrices available\n",
      "        nave = 69 - aspect type = 100\n",
      "No projector specified for this dataset. Please consider the method self.add_proj.\n",
      "Loaded Evoked data is baseline-corrected (baseline: [-1, 0] s)\n",
      "    Found the data of interest:\n",
      "        t =   -1000.00 ...    2000.00 ms (fq40hz/target/disp/ae40)\n",
      "        0 CTF compensation matrices available\n",
      "        nave = 73 - aspect type = 100\n",
      "No projector specified for this dataset. Please consider the method self.add_proj.\n",
      "Loaded Evoked data is baseline-corrected (baseline: [-1, 0] s)\n"
     ]
    },
    {
     "data": {
      "text/plain": [
       "{'fq06hz': [<Evoked | 'fq06hz/target/disp/ae06' (average, N=69), -1 – 2 s, baseline -1 – 0 s, 129 ch, ~3.1 MB>,\n",
       "  <Evoked | 'fq06hz/target/disp/ae06' (average, N=65), -1 – 2 s, baseline -1 – 0 s, 129 ch, ~3.1 MB>,\n",
       "  <Evoked | 'fq06hz/target/disp/ae06' (average, N=68), -1 – 2 s, baseline -1 – 0 s, 129 ch, ~3.1 MB>,\n",
       "  <Evoked | 'fq06hz/target/disp/ae06' (average, N=73), -1 – 2 s, baseline -1 – 0 s, 129 ch, ~3.1 MB>,\n",
       "  <Evoked | 'fq06hz/target/disp/ae06' (average, N=68), -1 – 2 s, baseline -1 – 0 s, 129 ch, ~3.1 MB>,\n",
       "  <Evoked | 'fq06hz/target/disp/ae06' (average, N=69), -1 – 2 s, baseline -1 – 0 s, 129 ch, ~3.1 MB>,\n",
       "  <Evoked | 'fq06hz/target/disp/ae06' (average, N=66), -1 – 2 s, baseline -1 – 0 s, 129 ch, ~3.1 MB>,\n",
       "  <Evoked | 'fq06hz/target/disp/ae06' (average, N=78), -1 – 2 s, baseline -1 – 0 s, 129 ch, ~3.1 MB>,\n",
       "  <Evoked | 'fq06hz/target/disp/ae06' (average, N=75), -1 – 2 s, baseline -1 – 0 s, 129 ch, ~3.1 MB>,\n",
       "  <Evoked | 'fq06hz/target/disp/ae06' (average, N=67), -1 – 2 s, baseline -1 – 0 s, 129 ch, ~3.1 MB>,\n",
       "  <Evoked | 'fq06hz/target/disp/ae06' (average, N=77), -1 – 2 s, baseline -1 – 0 s, 129 ch, ~3.1 MB>,\n",
       "  <Evoked | 'fq06hz/target/disp/ae06' (average, N=60), -1 – 2 s, baseline -1 – 0 s, 129 ch, ~3.1 MB>,\n",
       "  <Evoked | 'fq06hz/target/disp/ae06' (average, N=44), -1 – 2 s, baseline -1 – 0 s, 129 ch, ~3.1 MB>,\n",
       "  <Evoked | 'fq06hz/target/disp/ae06' (average, N=69), -1 – 2 s, baseline -1 – 0 s, 129 ch, ~3.1 MB>],\n",
       " 'fq40hz': [<Evoked | 'fq40hz/target/disp/ae40' (average, N=71), -1 – 2 s, baseline -1 – 0 s, 129 ch, ~3.1 MB>,\n",
       "  <Evoked | 'fq40hz/target/disp/ae40' (average, N=65), -1 – 2 s, baseline -1 – 0 s, 129 ch, ~3.1 MB>,\n",
       "  <Evoked | 'fq40hz/target/disp/ae40' (average, N=69), -1 – 2 s, baseline -1 – 0 s, 129 ch, ~3.1 MB>,\n",
       "  <Evoked | 'fq40hz/target/disp/ae40' (average, N=75), -1 – 2 s, baseline -1 – 0 s, 129 ch, ~3.1 MB>,\n",
       "  <Evoked | 'fq40hz/target/disp/ae40' (average, N=70), -1 – 2 s, baseline -1 – 0 s, 129 ch, ~3.1 MB>,\n",
       "  <Evoked | 'fq40hz/target/disp/ae40' (average, N=67), -1 – 2 s, baseline -1 – 0 s, 129 ch, ~3.1 MB>,\n",
       "  <Evoked | 'fq40hz/target/disp/ae40' (average, N=66), -1 – 2 s, baseline -1 – 0 s, 129 ch, ~3.1 MB>,\n",
       "  <Evoked | 'fq40hz/target/disp/ae40' (average, N=75), -1 – 2 s, baseline -1 – 0 s, 129 ch, ~3.1 MB>,\n",
       "  <Evoked | 'fq40hz/target/disp/ae40' (average, N=78), -1 – 2 s, baseline -1 – 0 s, 129 ch, ~3.1 MB>,\n",
       "  <Evoked | 'fq40hz/target/disp/ae40' (average, N=70), -1 – 2 s, baseline -1 – 0 s, 129 ch, ~3.1 MB>,\n",
       "  <Evoked | 'fq40hz/target/disp/ae40' (average, N=79), -1 – 2 s, baseline -1 – 0 s, 129 ch, ~3.1 MB>,\n",
       "  <Evoked | 'fq40hz/target/disp/ae40' (average, N=60), -1 – 2 s, baseline -1 – 0 s, 129 ch, ~3.1 MB>,\n",
       "  <Evoked | 'fq40hz/target/disp/ae40' (average, N=44), -1 – 2 s, baseline -1 – 0 s, 129 ch, ~3.1 MB>,\n",
       "  <Evoked | 'fq40hz/target/disp/ae40' (average, N=73), -1 – 2 s, baseline -1 – 0 s, 129 ch, ~3.1 MB>]}"
      ]
     },
     "execution_count": 5,
     "metadata": {},
     "output_type": "execute_result"
    }
   ],
   "source": [
    "evokeds = {}\n",
    "\n",
    "for idx, c in enumerate(conditions):\n",
    "    evokeds[c] = [mne.read_evokeds(d)[idx] for d in data_files]\n",
    "\n",
    "evokeds"
   ]
  },
  {
   "cell_type": "code",
   "execution_count": 6,
   "metadata": {},
   "outputs": [
    {
     "name": "stderr",
     "output_type": "stream",
     "text": [
      "/tmp/ipykernel_3736/2951502249.py:7: RuntimeWarning: Only 1 channel in \"picks\"; cannot combine by method \"mean\".\n",
      "  mne.viz.plot_compare_evokeds(evokeds,\n"
     ]
    },
    {
     "name": "stdout",
     "output_type": "stream",
     "text": [
      "combining channels using \"mean\"\n",
      "combining channels using \"mean\"\n"
     ]
    }
   ],
   "source": [
    "roi = ['E55']\n",
    "\n",
    "color_dict = {'fq06hz':'blue', 'fq40hz':'red'}\n",
    "linestyle_dict = {'fq06hz':'-', 'fq40hz':'-'}\n",
    "\n",
    "\n",
    "mne.viz.plot_compare_evokeds(evokeds,\n",
    "                             combine='mean',\n",
    "                             legend='lower right',\n",
    "                             picks=roi, show_sensors='upper right',\n",
    "                             colors=color_dict,\n",
    "                             linestyles=linestyle_dict,\n",
    "                             title='f06 vs. f40 ERPs'\n",
    "                            )\n",
    "plt.show()"
   ]
  },
  {
   "cell_type": "code",
   "execution_count": 7,
   "metadata": {},
   "outputs": [
    {
     "data": {
      "text/plain": [
       "[<Evoked | 'target/disp/baseline/dtbc - target/disp/gap/dtgc' (average, N=5.5), -0.5 – 1 s, baseline -0.5 – 0 s, 129 ch, ~1.7 MB>,\n",
       " <Evoked | 'target/disp/baseline/dtbc - target/disp/gap/dtgc' (average, N=6.0), -0.5 – 1 s, baseline -0.5 – 0 s, 129 ch, ~1.7 MB>,\n",
       " <Evoked | 'target/disp/baseline/dtbc - target/disp/gap/dtgc' (average, N=5.454545454545454), -0.5 – 1 s, baseline -0.5 – 0 s, 129 ch, ~1.7 MB>,\n",
       " <Evoked | 'target/disp/baseline/dtbc - target/disp/gap/dtgc' (average, N=5.0), -0.5 – 1 s, baseline -0.5 – 0 s, 129 ch, ~1.7 MB>,\n",
       " <Evoked | 'target/disp/baseline/dtbc - target/disp/gap/dtgc' (average, N=5.0), -0.5 – 1 s, baseline -0.5 – 0 s, 129 ch, ~1.7 MB>,\n",
       " <Evoked | 'target/disp/baseline/dtbc - target/disp/gap/dtgc' (average, N=6.0), -0.5 – 1 s, baseline -0.5 – 0 s, 129 ch, ~1.7 MB>,\n",
       " <Evoked | 'target/disp/baseline/dtbc - target/disp/gap/dtgc' (average, N=5.739130434782608), -0.5 – 1 s, baseline -0.5 – 0 s, 129 ch, ~1.7 MB>,\n",
       " <Evoked | 'target/disp/baseline/dtbc - target/disp/gap/dtgc' (average, N=5.454545454545454), -0.5 – 1 s, baseline -0.5 – 0 s, 129 ch, ~1.7 MB>,\n",
       " <Evoked | 'target/disp/baseline/dtbc - target/disp/gap/dtgc' (average, N=6.0), -0.5 – 1 s, baseline -0.5 – 0 s, 129 ch, ~1.7 MB>]"
      ]
     },
     "execution_count": 7,
     "metadata": {},
     "output_type": "execute_result"
    }
   ],
   "source": [
    "diff_waves = []\n",
    "for i in range(len(data_files)):\n",
    "    diff_waves.append(mne.combine_evoked([evokeds['distractor'][i], evokeds['target'][i]],\n",
    "                                          weights=[1, -1]\n",
    "                                         )\n",
    "                     )\n",
    "\n",
    "diff_waves\n"
   ]
  },
  {
   "cell_type": "code",
   "execution_count": 8,
   "metadata": {},
   "outputs": [
    {
     "name": "stdout",
     "output_type": "stream",
     "text": [
      "combining channels using \"mean\"\n"
     ]
    },
    {
     "name": "stderr",
     "output_type": "stream",
     "text": [
      "/tmp/ipykernel_11612/3757534987.py:2: RuntimeWarning: Only 1 channel in \"picks\"; cannot combine by method \"mean\".\n",
      "  mne.viz.plot_compare_evokeds({contrast:diff_waves}, combine='mean',\n"
     ]
    }
   ],
   "source": [
    "contrast = 'distractor-target'\n",
    "mne.viz.plot_compare_evokeds({contrast:diff_waves}, combine='mean',\n",
    "                            legend=None,\n",
    "                            picks=roi, show_sensors='upper right',\n",
    "                            title=contrast\n",
    "                            )\n",
    "plt.show()\n"
   ]
  },
  {
   "cell_type": "code",
   "execution_count": 10,
   "metadata": {},
   "outputs": [
    {
     "name": "stdout",
     "output_type": "stream",
     "text": [
      "Interpolating bad channels\n",
      "    Automatic origin fit: head of radius 99.1 mm\n",
      "Computing interpolation matrix from 112 sensor positions\n",
      "Interpolating 17 sensors\n",
      "Interpolating bad channels\n"
     ]
    },
    {
     "name": "stdout",
     "output_type": "stream",
     "text": [
      "    Automatic origin fit: head of radius 99.1 mm\n",
      "Computing interpolation matrix from 115 sensor positions\n",
      "Interpolating 14 sensors\n",
      "Interpolating bad channels\n",
      "    Automatic origin fit: head of radius 99.1 mm\n",
      "Computing interpolation matrix from 107 sensor positions\n",
      "Interpolating 22 sensors\n",
      "Interpolating bad channels\n",
      "    Automatic origin fit: head of radius 99.1 mm\n",
      "Computing interpolation matrix from 104 sensor positions\n",
      "Interpolating 25 sensors\n",
      "Interpolating bad channels\n",
      "    Automatic origin fit: head of radius 99.1 mm\n",
      "Computing interpolation matrix from 95 sensor positions\n",
      "Interpolating 34 sensors\n",
      "Interpolating bad channels\n",
      "    Automatic origin fit: head of radius 99.1 mm\n",
      "Computing interpolation matrix from 102 sensor positions\n",
      "Interpolating 27 sensors\n",
      "Interpolating bad channels\n",
      "    Automatic origin fit: head of radius 99.1 mm\n",
      "Computing interpolation matrix from 100 sensor positions\n",
      "Interpolating 29 sensors\n",
      "Interpolating bad channels\n",
      "    Automatic origin fit: head of radius 99.1 mm\n",
      "Computing interpolation matrix from 108 sensor positions\n",
      "Interpolating 21 sensors\n",
      "Interpolating bad channels\n",
      "    Automatic origin fit: head of radius 99.1 mm\n",
      "Computing interpolation matrix from 80 sensor positions\n",
      "Interpolating 49 sensors\n",
      "Identifying common channels ...\n"
     ]
    }
   ],
   "source": [
    "mne.viz.plot_evoked_topomap(mne.grand_average(diff_waves), \n",
    "                            times=.500, average=1.4,\n",
    "                            size=3\n",
    "                           )\n",
    "plt.show()"
   ]
  },
  {
   "cell_type": "markdown",
   "metadata": {},
   "source": [
    "t-test"
   ]
  },
  {
   "cell_type": "code",
   "execution_count": 17,
   "metadata": {},
   "outputs": [],
   "source": [
    "evoked_data = np.array([np.mean(e.get_data(picks='E71', tmin=-0.4, tmax=1.0), axis=1) for e in diff_waves])"
   ]
  },
  {
   "cell_type": "code",
   "execution_count": 18,
   "metadata": {},
   "outputs": [
    {
     "name": "stdout",
     "output_type": "stream",
     "text": [
      "Difference t =  -1.09 p =  0.3089\n"
     ]
    }
   ],
   "source": [
    "from scipy import stats \n",
    "\n",
    "t, pval = stats.ttest_1samp(evoked_data, 0)\n",
    "print('Difference t = ', str(round(t[0], 2)), 'p = ', str(round(pval[0], 4)))"
   ]
  },
  {
   "cell_type": "code",
   "execution_count": 19,
   "metadata": {},
   "outputs": [],
   "source": [
    "from mne.stats import permutation_t_test"
   ]
  },
  {
   "cell_type": "code",
   "execution_count": 20,
   "metadata": {},
   "outputs": [],
   "source": [
    "evoked_data = np.array([np.mean(e.get_data(tmin=-0.4, tmax=1.0), axis=1) for e in diff_waves])\n"
   ]
  },
  {
   "cell_type": "code",
   "execution_count": 21,
   "metadata": {},
   "outputs": [
    {
     "name": "stdout",
     "output_type": "stream",
     "text": [
      "Permuting 511 times (exact test)...\n"
     ]
    },
    {
     "name": "stderr",
     "output_type": "stream",
     "text": [
      "/tmp/ipykernel_11612/3685603320.py:2: RuntimeWarning: The MNE-Python config file (/home/james/.mne/mne-python.json) is not a valid JSON file and might be corrupted\n",
      "  T0, p_values, H0 = permutation_t_test(evoked_data, n_permutations, tail=-1)\n",
      "/tmp/ipykernel_11612/3685603320.py:2: RuntimeWarning: The MNE-Python config file (/home/james/.mne/mne-python.json) is not a valid JSON file and might be corrupted\n",
      "  T0, p_values, H0 = permutation_t_test(evoked_data, n_permutations, tail=-1)\n",
      "[Parallel(n_jobs=1)]: Using backend SequentialBackend with 1 concurrent workers.\n",
      "[Parallel(n_jobs=1)]: Done   1 out of   1 | elapsed:    0.0s remaining:    0.0s\n",
      "[Parallel(n_jobs=1)]: Done   1 out of   1 | elapsed:    0.0s finished\n"
     ]
    }
   ],
   "source": [
    "n_permutations = 50000\n",
    "T0, p_values, H0 = permutation_t_test(evoked_data, n_permutations, tail=-1)"
   ]
  },
  {
   "cell_type": "code",
   "execution_count": 16,
   "metadata": {},
   "outputs": [
    {
     "data": {
      "text/plain": [
       "array([1.        , 1.        , 1.        , 1.        , 1.        ,\n",
       "       1.        , 1.        , 1.        , 1.        , 1.        ,\n",
       "       1.        , 1.        , 1.        , 1.        , 1.        ,\n",
       "       1.        , 1.        , 1.        , 1.        , 1.        ,\n",
       "       1.        , 1.        , 1.        , 1.        , 1.        ,\n",
       "       1.        , 1.        , 1.        , 1.        , 1.        ,\n",
       "       1.        , 1.        , 1.        , 1.        , 0.68359375,\n",
       "       1.        , 1.        , 1.        , 1.        , 1.        ,\n",
       "       1.        , 1.        , 1.        , 1.        , 1.        ,\n",
       "       1.        , 1.        , 1.        , 1.        , 1.        ,\n",
       "       1.        , 1.        , 1.        , 1.        , 1.        ,\n",
       "       1.        , 1.        , 1.        , 1.        , 1.        ,\n",
       "       1.        , 1.        , 1.        , 1.        , 1.        ,\n",
       "       1.        , 1.        , 1.        , 1.        , 1.        ,\n",
       "       1.        , 1.        , 1.        , 1.        , 1.        ,\n",
       "       1.        , 1.        , 1.        , 1.        , 1.        ,\n",
       "       1.        , 1.        , 1.        , 1.        , 1.        ,\n",
       "       1.        , 1.        , 1.        , 1.        , 1.        ,\n",
       "       1.        , 1.        , 1.        , 1.        , 1.        ,\n",
       "       1.        , 1.        , 1.        , 1.        , 1.        ,\n",
       "       1.        , 1.        , 1.        , 1.        , 1.        ,\n",
       "       1.        , 1.        , 1.        , 1.        , 1.        ,\n",
       "       1.        , 1.        , 1.        , 1.        , 1.        ,\n",
       "       1.        , 1.        , 1.        , 1.        , 1.        ,\n",
       "       1.        , 1.        , 0.9375    , 1.        , 1.        ,\n",
       "       1.        , 1.        , 1.        , 1.        ])"
      ]
     },
     "execution_count": 16,
     "metadata": {},
     "output_type": "execute_result"
    }
   ],
   "source": [
    "p_values"
   ]
  },
  {
   "cell_type": "code",
   "execution_count": 5,
   "metadata": {},
   "outputs": [
    {
     "data": {
      "text/plain": [
       "['erp_fif_files/ap/004_1_ap_ep.fif']"
      ]
     },
     "execution_count": 5,
     "metadata": {},
     "output_type": "execute_result"
    }
   ],
   "source": [
    "epoch_files = glob.glob('erp_fif_files/ap/*_ep.fif')\n",
    "epoch_files"
   ]
  },
  {
   "cell_type": "code",
   "execution_count": 6,
   "metadata": {},
   "outputs": [
    {
     "name": "stdout",
     "output_type": "stream",
     "text": [
      "Reading /home/james/q1k/pilot/q1k-external-pilot/erp_fif_files/ap/004_1_ap_ep.fif ...\n"
     ]
    },
    {
     "name": "stderr",
     "output_type": "stream",
     "text": [
      "/tmp/ipykernel_19338/995894155.py:8: RuntimeWarning: This filename (erp_fif_files/ap/004_1_ap_ep.fif) does not conform to MNE naming conventions. All epochs files should end with -epo.fif, -epo.fif.gz, _epo.fif or _epo.fif.gz\n",
      "  epochs = mne.read_epochs('erp_fif_files/ap/004_1_ap_ep.fif')\n"
     ]
    },
    {
     "name": "stdout",
     "output_type": "stream",
     "text": [
      "    Found the data of interest:\n",
      "        t =   -1000.00 ...    2000.00 ms\n",
      "        0 CTF compensation matrices available\n",
      "Not setting metadata\n",
      "178 matching events found\n",
      "No baseline correction applied\n",
      "0 projection items activated\n"
     ]
    }
   ],
   "source": [
    "#epochs = {}\n",
    "\n",
    "#for idx, c in enumerate(conditions):\n",
    "#    epochs[c] = [mne.read_epochs(d)[idx] for d in epoch_files]\n",
    "\n",
    "#epochs\n",
    "\n",
    "epochs = mne.read_epochs('erp_fif_files/ap/004_1_ap_ep.fif')"
   ]
  },
  {
   "cell_type": "code",
   "execution_count": 7,
   "metadata": {},
   "outputs": [],
   "source": [
    "from mne.time_frequency import (\n",
    "    tfr_multitaper,\n",
    "    tfr_stockwell,\n",
    "    tfr_morlet,\n",
    "    tfr_array_morlet,\n",
    "    AverageTFR,\n",
    ")\n",
    "from mne.viz import centers_to_edges"
   ]
  },
  {
   "cell_type": "code",
   "execution_count": 15,
   "metadata": {},
   "outputs": [
    {
     "name": "stderr",
     "output_type": "stream",
     "text": [
      "/tmp/ipykernel_3736/3053103598.py:7: RuntimeWarning: The MNE-Python config file (/home/james/.mne/mne-python.json) is not a valid JSON file and might be corrupted\n",
      "  power = tfr_morlet(epochs, freqs=freqs, n_cycles=n_cycles, return_itc=False)\n",
      "/tmp/ipykernel_3736/3053103598.py:7: RuntimeWarning: The MNE-Python config file (/home/james/.mne/mne-python.json) is not a valid JSON file and might be corrupted\n",
      "  power = tfr_morlet(epochs, freqs=freqs, n_cycles=n_cycles, return_itc=False)\n",
      "[Parallel(n_jobs=1)]: Using backend SequentialBackend with 1 concurrent workers.\n",
      "[Parallel(n_jobs=1)]: Done   1 out of   1 | elapsed:    2.1s remaining:    0.0s\n",
      "[Parallel(n_jobs=1)]: Done   2 out of   2 | elapsed:    4.2s remaining:    0.0s\n",
      "[Parallel(n_jobs=1)]: Done   3 out of   3 | elapsed:    6.8s remaining:    0.0s\n",
      "[Parallel(n_jobs=1)]: Done   4 out of   4 | elapsed:    9.1s remaining:    0.0s\n"
     ]
    },
    {
     "name": "stdout",
     "output_type": "stream",
     "text": [
      "NOTE: pick_channels() is a legacy function. New code should use inst.pick(...).\n",
      "Applying baseline correction (mode: mean)\n"
     ]
    },
    {
     "name": "stderr",
     "output_type": "stream",
     "text": [
      "[Parallel(n_jobs=1)]: Done 100 out of 100 | elapsed:  3.9min finished\n",
      "/tmp/ipykernel_3736/3053103598.py:7: RuntimeWarning: The MNE-Python config file (/home/james/.mne/mne-python.json) is not a valid JSON file and might be corrupted\n",
      "  power = tfr_morlet(epochs, freqs=freqs, n_cycles=n_cycles, return_itc=False)\n",
      "/tmp/ipykernel_3736/3053103598.py:7: RuntimeWarning: The MNE-Python config file (/home/james/.mne/mne-python.json) is not a valid JSON file and might be corrupted\n",
      "  power = tfr_morlet(epochs, freqs=freqs, n_cycles=n_cycles, return_itc=False)\n",
      "[Parallel(n_jobs=1)]: Using backend SequentialBackend with 1 concurrent workers.\n",
      "[Parallel(n_jobs=1)]: Done   1 out of   1 | elapsed:    3.2s remaining:    0.0s\n",
      "[Parallel(n_jobs=1)]: Done   2 out of   2 | elapsed:    7.0s remaining:    0.0s\n",
      "[Parallel(n_jobs=1)]: Done   3 out of   3 | elapsed:   10.2s remaining:    0.0s\n",
      "[Parallel(n_jobs=1)]: Done   4 out of   4 | elapsed:   13.1s remaining:    0.0s\n"
     ]
    },
    {
     "name": "stdout",
     "output_type": "stream",
     "text": [
      "NOTE: pick_channels() is a legacy function. New code should use inst.pick(...).\n",
      "Applying baseline correction (mode: mean)\n"
     ]
    },
    {
     "name": "stderr",
     "output_type": "stream",
     "text": [
      "[Parallel(n_jobs=1)]: Done 100 out of 100 | elapsed:  4.8min finished\n",
      "/tmp/ipykernel_3736/3053103598.py:7: RuntimeWarning: The MNE-Python config file (/home/james/.mne/mne-python.json) is not a valid JSON file and might be corrupted\n",
      "  power = tfr_morlet(epochs, freqs=freqs, n_cycles=n_cycles, return_itc=False)\n",
      "/tmp/ipykernel_3736/3053103598.py:7: RuntimeWarning: The MNE-Python config file (/home/james/.mne/mne-python.json) is not a valid JSON file and might be corrupted\n",
      "  power = tfr_morlet(epochs, freqs=freqs, n_cycles=n_cycles, return_itc=False)\n",
      "[Parallel(n_jobs=1)]: Using backend SequentialBackend with 1 concurrent workers.\n",
      "[Parallel(n_jobs=1)]: Done   1 out of   1 | elapsed:    6.5s remaining:    0.0s\n",
      "[Parallel(n_jobs=1)]: Done   2 out of   2 | elapsed:   13.1s remaining:    0.0s\n",
      "[Parallel(n_jobs=1)]: Done   3 out of   3 | elapsed:   19.5s remaining:    0.0s\n",
      "[Parallel(n_jobs=1)]: Done   4 out of   4 | elapsed:   25.7s remaining:    0.0s\n"
     ]
    },
    {
     "name": "stdout",
     "output_type": "stream",
     "text": [
      "NOTE: pick_channels() is a legacy function. New code should use inst.pick(...).\n",
      "Applying baseline correction (mode: mean)\n"
     ]
    },
    {
     "name": "stderr",
     "output_type": "stream",
     "text": [
      "[Parallel(n_jobs=1)]: Done 100 out of 100 | elapsed: 10.9min finished\n"
     ]
    },
    {
     "name": "stderr",
     "output_type": "stream",
     "text": [
      "qt.qpa.xcb: QXcbConnection: XCB error: 148 (Unknown), sequence: 5754, resource id: 0, major code: 140 (Unknown), minor code: 20\n"
     ]
    }
   ],
   "source": [
    "freqs = np.arange(2.0, 50, 3.0)\n",
    "vmin, vmax = -3.0, 3.0  # Define our color limits.\n",
    "\n",
    "#fig, axs = plt.subplots(1, 3, figsize=(15, 5), sharey=True)\n",
    "all_n_cycles = [1, 3, freqs / 2.0]\n",
    "for n_cycles, ax in zip(all_n_cycles, axs):\n",
    "    power, itc = tfr_morlet(epochs, freqs=freqs, n_cycles=n_cycles, return_itc=True)\n",
    "    power.plot(\n",
    "        [0],\n",
    "        baseline=(0.0, 0.1),\n",
    "        mode=\"mean\",\n",
    "        vmin=vmin,\n",
    "        vmax=vmax,\n",
    "        axes=ax,\n",
    "        show=False,\n",
    "        colorbar=False,\n",
    "    )\n",
    "    n_cycles = \"scaled by freqs\" if not isinstance(n_cycles, int) else n_cycles\n",
    "    ax.set_title(f\"Sim: Using Morlet wavelet, n_cycles = {n_cycles}\")\n",
    "plt.tight_layout()"
   ]
  },
  {
   "cell_type": "code",
   "execution_count": 8,
   "metadata": {},
   "outputs": [
    {
     "name": "stderr",
     "output_type": "stream",
     "text": [
      "/tmp/ipykernel_19338/4037057111.py:2: RuntimeWarning: The MNE-Python config file (/home/james/.mne/mne-python.json) is not a valid JSON file and might be corrupted\n",
      "  power, itc = tfr_morlet(epochs, freqs=freqs, n_cycles=1, return_itc=True)\n",
      "/tmp/ipykernel_19338/4037057111.py:2: RuntimeWarning: The MNE-Python config file (/home/james/.mne/mne-python.json) is not a valid JSON file and might be corrupted\n",
      "  power, itc = tfr_morlet(epochs, freqs=freqs, n_cycles=1, return_itc=True)\n",
      "[Parallel(n_jobs=1)]: Using backend SequentialBackend with 1 concurrent workers.\n",
      "[Parallel(n_jobs=1)]: Done   1 out of   1 | elapsed:    1.7s remaining:    0.0s\n",
      "[Parallel(n_jobs=1)]: Done   2 out of   2 | elapsed:    3.2s remaining:    0.0s\n",
      "[Parallel(n_jobs=1)]: Done   3 out of   3 | elapsed:    4.6s remaining:    0.0s\n",
      "[Parallel(n_jobs=1)]: Done   4 out of   4 | elapsed:    5.9s remaining:    0.0s\n",
      "[Parallel(n_jobs=1)]: Done 100 out of 100 | elapsed:  2.3min finished\n"
     ]
    }
   ],
   "source": [
    "freqs = np.arange(2.0, 50, 3.0)\n",
    "power, itc = tfr_morlet(epochs, freqs=freqs, n_cycles=1, return_itc=True)"
   ]
  },
  {
   "cell_type": "code",
   "execution_count": 12,
   "metadata": {},
   "outputs": [
    {
     "name": "stderr",
     "output_type": "stream",
     "text": [
      "/tmp/ipykernel_19338/2584546321.py:3: RuntimeWarning: The MNE-Python config file (/home/james/.mne/mne-python.json) is not a valid JSON file and might be corrupted\n",
      "  power, itc = mne.time_frequency.tfr_morlet(\n",
      "/tmp/ipykernel_19338/2584546321.py:3: RuntimeWarning: The MNE-Python config file (/home/james/.mne/mne-python.json) is not a valid JSON file and might be corrupted\n",
      "  power, itc = mne.time_frequency.tfr_morlet(\n",
      "[Parallel(n_jobs=1)]: Using backend SequentialBackend with 1 concurrent workers.\n",
      "[Parallel(n_jobs=1)]: Done   1 out of   1 | elapsed:    0.5s remaining:    0.0s\n",
      "[Parallel(n_jobs=1)]: Done   2 out of   2 | elapsed:    0.9s remaining:    0.0s\n",
      "[Parallel(n_jobs=1)]: Done   3 out of   3 | elapsed:    1.3s remaining:    0.0s\n",
      "[Parallel(n_jobs=1)]: Done   4 out of   4 | elapsed:    1.7s remaining:    0.0s\n",
      "[Parallel(n_jobs=1)]: Done 100 out of 100 | elapsed:   38.4s finished\n"
     ]
    }
   ],
   "source": [
    "freqs = np.array([4,6,8,10,12,16,32,36,40,48])\n",
    "n_cycles = freqs / 2.0  # different number of cycle per frequency\n",
    "power, itc = mne.time_frequency.tfr_morlet(\n",
    "    epochs,\n",
    "    freqs=freqs,\n",
    "    n_cycles=n_cycles,\n",
    "    use_fft=True,\n",
    "    return_itc=True,\n",
    "    decim=3,\n",
    "    n_jobs=None,\n",
    ")"
   ]
  },
  {
   "cell_type": "code",
   "execution_count": 16,
   "metadata": {},
   "outputs": [
    {
     "data": {
      "text/plain": [
       "<AverageTFR | time : [-1.000000, 2.000000], freq : [5.000000, 98.000000], nave : 178, channels : 100, ~73.4 MB>"
      ]
     },
     "execution_count": 16,
     "metadata": {},
     "output_type": "execute_result"
    }
   ],
   "source": [
    "power"
   ]
  },
  {
   "cell_type": "code",
   "execution_count": 16,
   "metadata": {},
   "outputs": [
    {
     "name": "stdout",
     "output_type": "stream",
     "text": [
      "NOTE: pick_channels() is a legacy function. New code should use inst.pick(...).\n",
      "Applying baseline correction (mode: logratio)\n"
     ]
    },
    {
     "data": {
      "text/plain": [
       "[<Figure size 640x480 with 2 Axes>]"
      ]
     },
     "execution_count": 16,
     "metadata": {},
     "output_type": "execute_result"
    }
   ],
   "source": [
    "power.plot(picks='E6', baseline=(-0.5, 0), mode=\"logratio\", title='power')"
   ]
  },
  {
   "cell_type": "code",
   "execution_count": 14,
   "metadata": {},
   "outputs": [
    {
     "name": "stdout",
     "output_type": "stream",
     "text": [
      "NOTE: pick_channels() is a legacy function. New code should use inst.pick(...).\n",
      "No baseline correction applied\n"
     ]
    },
    {
     "data": {
      "text/plain": [
       "[<Figure size 640x480 with 2 Axes>]"
      ]
     },
     "execution_count": 14,
     "metadata": {},
     "output_type": "execute_result"
    }
   ],
   "source": [
    "itc.plot(picks='E6')"
   ]
  },
  {
   "cell_type": "code",
   "execution_count": null,
   "metadata": {},
   "outputs": [],
   "source": []
  }
 ],
 "metadata": {
  "kernelspec": {
   "display_name": "eeg-env",
   "language": "python",
   "name": "python3"
  },
  "language_info": {
   "codemirror_mode": {
    "name": "ipython",
    "version": 3
   },
   "file_extension": ".py",
   "mimetype": "text/x-python",
   "name": "python",
   "nbconvert_exporter": "python",
   "pygments_lexer": "ipython3",
   "version": "3.8.10"
  }
 },
 "nbformat": 4,
 "nbformat_minor": 2
}
