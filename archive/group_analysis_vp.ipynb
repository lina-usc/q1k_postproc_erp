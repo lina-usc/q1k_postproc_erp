{
 "cells": [
  {
   "cell_type": "code",
   "execution_count": 1,
   "metadata": {},
   "outputs": [
    {
     "name": "stderr",
     "output_type": "stream",
     "text": [
      "<frozen importlib._bootstrap>:219: RuntimeWarning: The MNE-Python config file (/home/james/.mne/mne-python.json) is not a valid JSON file and might be corrupted\n"
     ]
    },
    {
     "name": "stdout",
     "output_type": "stream",
     "text": [
      "Using qt as 2D backend.\n"
     ]
    }
   ],
   "source": [
    "import mne\n",
    "import glob\n",
    "import matplotlib.pyplot as plt\n",
    "import numpy as np\n",
    "mne.viz.set_browser_backend('qt')\n",
    "%matplotlib qt"
   ]
  },
  {
   "cell_type": "code",
   "execution_count": 2,
   "metadata": {},
   "outputs": [],
   "source": [
    "conditions = ['fq06hz','fq15hz']"
   ]
  },
  {
   "cell_type": "code",
   "execution_count": 3,
   "metadata": {},
   "outputs": [],
   "source": [
    "data_files = glob.glob('erp_fif_files/vp/*_ave.fif')"
   ]
  },
  {
   "cell_type": "code",
   "execution_count": 4,
   "metadata": {},
   "outputs": [
    {
     "data": {
      "text/plain": [
       "['erp_fif_files/vp/010_1_vp_ave.fif',\n",
       " 'erp_fif_files/vp/020_1_vp_ave.fif',\n",
       " 'erp_fif_files/vp/017_1_vp_ave.fif',\n",
       " 'erp_fif_files/vp/014_1_vp_ave.fif',\n",
       " 'erp_fif_files/vp/015_1_vp_ave.fif',\n",
       " 'erp_fif_files/vp/009_1_vp_ave.fif',\n",
       " 'erp_fif_files/vp/012_1_vp_ave.fif',\n",
       " 'erp_fif_files/vp/024_1_vp_ave.fif',\n",
       " 'erp_fif_files/vp/013_1_vp_ave.fif']"
      ]
     },
     "execution_count": 4,
     "metadata": {},
     "output_type": "execute_result"
    }
   ],
   "source": [
    "data_files"
   ]
  },
  {
   "cell_type": "code",
   "execution_count": 5,
   "metadata": {},
   "outputs": [
    {
     "name": "stdout",
     "output_type": "stream",
     "text": [
      "Reading /home/james/q1k/pilot/q1k-external-pilot/erp_fif_files/vp/010_1_vp_ave.fif ...\n",
      "    Found the data of interest:\n",
      "        t =   -1000.00 ...    2000.00 ms (fq06hz/target/disp/dstr)\n",
      "        0 CTF compensation matrices available\n",
      "        nave = 57 - aspect type = 100\n",
      "No projector specified for this dataset. Please consider the method self.add_proj.\n",
      "Loaded Evoked data is baseline-corrected (baseline: [-1, 0] s)\n",
      "    Found the data of interest:\n",
      "        t =   -1000.00 ...    2000.00 ms (fq15hz/target/disp/TSYN)\n",
      "        0 CTF compensation matrices available\n",
      "        nave = 50 - aspect type = 100\n",
      "No projector specified for this dataset. Please consider the method self.add_proj.\n",
      "Loaded Evoked data is baseline-corrected (baseline: [-1, 0] s)\n",
      "Reading /home/james/q1k/pilot/q1k-external-pilot/erp_fif_files/vp/020_1_vp_ave.fif ...\n",
      "    Found the data of interest:\n",
      "        t =   -1000.00 ...    2000.00 ms (fq06hz/target/disp/dstr)\n",
      "        0 CTF compensation matrices available\n",
      "        nave = 55 - aspect type = 100\n",
      "No projector specified for this dataset. Please consider the method self.add_proj.\n",
      "Loaded Evoked data is baseline-corrected (baseline: [-1, 0] s)\n",
      "    Found the data of interest:\n",
      "        t =   -1000.00 ...    2000.00 ms (fq15hz/target/disp/fvsb)\n",
      "        0 CTF compensation matrices available\n",
      "        nave = 53 - aspect type = 100\n",
      "No projector specified for this dataset. Please consider the method self.add_proj.\n",
      "Loaded Evoked data is baseline-corrected (baseline: [-1, 0] s)\n",
      "Reading /home/james/q1k/pilot/q1k-external-pilot/erp_fif_files/vp/017_1_vp_ave.fif ...\n",
      "    Found the data of interest:\n",
      "        t =   -1000.00 ...    2000.00 ms (fq06hz/target/disp/dstr)\n",
      "        0 CTF compensation matrices available\n",
      "        nave = 47 - aspect type = 100\n",
      "No projector specified for this dataset. Please consider the method self.add_proj.\n",
      "Loaded Evoked data is baseline-corrected (baseline: [-1, 0] s)\n",
      "    Found the data of interest:\n",
      "        t =   -1000.00 ...    2000.00 ms (fq15hz/target/disp/fvct)\n",
      "        0 CTF compensation matrices available\n",
      "        nave = 41 - aspect type = 100\n",
      "No projector specified for this dataset. Please consider the method self.add_proj.\n",
      "Loaded Evoked data is baseline-corrected (baseline: [-1, 0] s)\n",
      "Reading /home/james/q1k/pilot/q1k-external-pilot/erp_fif_files/vp/014_1_vp_ave.fif ...\n",
      "    Found the data of interest:\n",
      "        t =   -1000.00 ...    2000.00 ms (fq06hz/target/disp/sv06)\n",
      "        0 CTF compensation matrices available\n",
      "        nave = 76 - aspect type = 100\n",
      "No projector specified for this dataset. Please consider the method self.add_proj.\n",
      "Loaded Evoked data is baseline-corrected (baseline: [-1, 0] s)\n",
      "    Found the data of interest:\n",
      "        t =   -1000.00 ...    2000.00 ms (fq15hz/target/disp/sv15)\n",
      "        0 CTF compensation matrices available\n",
      "        nave = 73 - aspect type = 100\n",
      "No projector specified for this dataset. Please consider the method self.add_proj.\n",
      "Loaded Evoked data is baseline-corrected (baseline: [-1, 0] s)\n",
      "Reading /home/james/q1k/pilot/q1k-external-pilot/erp_fif_files/vp/015_1_vp_ave.fif ...\n",
      "    Found the data of interest:\n",
      "        t =   -1000.00 ...    2000.00 ms (fq06hz/target/disp/sv06)\n",
      "        0 CTF compensation matrices available\n",
      "        nave = 59 - aspect type = 100\n",
      "No projector specified for this dataset. Please consider the method self.add_proj.\n",
      "Loaded Evoked data is baseline-corrected (baseline: [-1, 0] s)\n",
      "    Found the data of interest:\n",
      "        t =   -1000.00 ...    2000.00 ms (fq15hz/target/disp/sv15)\n",
      "        0 CTF compensation matrices available\n",
      "        nave = 57 - aspect type = 100\n",
      "No projector specified for this dataset. Please consider the method self.add_proj.\n",
      "Loaded Evoked data is baseline-corrected (baseline: [-1, 0] s)\n",
      "Reading /home/james/q1k/pilot/q1k-external-pilot/erp_fif_files/vp/009_1_vp_ave.fif ...\n",
      "    Found the data of interest:\n",
      "        t =   -1000.00 ...    2000.00 ms (fq06hz/target/disp/dstr)\n",
      "        0 CTF compensation matrices available\n",
      "        nave = 53 - aspect type = 100\n",
      "No projector specified for this dataset. Please consider the method self.add_proj.\n",
      "Loaded Evoked data is baseline-corrected (baseline: [-1, 0] s)\n",
      "    Found the data of interest:\n",
      "        t =   -1000.00 ...    2000.00 ms (fq15hz/target/disp/fvct)\n",
      "        0 CTF compensation matrices available\n",
      "        nave = 47 - aspect type = 100\n",
      "No projector specified for this dataset. Please consider the method self.add_proj.\n",
      "Loaded Evoked data is baseline-corrected (baseline: [-1, 0] s)\n",
      "Reading /home/james/q1k/pilot/q1k-external-pilot/erp_fif_files/vp/012_1_vp_ave.fif ...\n",
      "    Found the data of interest:\n",
      "        t =   -1000.00 ...    2000.00 ms (fq06hz/target/disp/dstr)\n",
      "        0 CTF compensation matrices available\n",
      "        nave = 47 - aspect type = 100\n",
      "No projector specified for this dataset. Please consider the method self.add_proj.\n",
      "Loaded Evoked data is baseline-corrected (baseline: [-1, 0] s)\n",
      "    Found the data of interest:\n",
      "        t =   -1000.00 ...    2000.00 ms (fq15hz/target/disp/fvct)\n",
      "        0 CTF compensation matrices available\n",
      "        nave = 49 - aspect type = 100\n",
      "No projector specified for this dataset. Please consider the method self.add_proj.\n",
      "Loaded Evoked data is baseline-corrected (baseline: [-1, 0] s)\n",
      "Reading /home/james/q1k/pilot/q1k-external-pilot/erp_fif_files/vp/024_1_vp_ave.fif ...\n",
      "    Found the data of interest:\n",
      "        t =   -1000.00 ...    2000.00 ms (fq06hz/target/disp/dstr)\n",
      "        0 CTF compensation matrices available\n",
      "        nave = 56 - aspect type = 100\n",
      "No projector specified for this dataset. Please consider the method self.add_proj.\n",
      "Loaded Evoked data is baseline-corrected (baseline: [-1, 0] s)\n",
      "    Found the data of interest:\n",
      "        t =   -1000.00 ...    2000.00 ms (fq15hz/target/disp/fvct)\n",
      "        0 CTF compensation matrices available\n",
      "        nave = 56 - aspect type = 100\n",
      "No projector specified for this dataset. Please consider the method self.add_proj.\n",
      "Loaded Evoked data is baseline-corrected (baseline: [-1, 0] s)\n",
      "Reading /home/james/q1k/pilot/q1k-external-pilot/erp_fif_files/vp/013_1_vp_ave.fif ...\n",
      "    Found the data of interest:\n",
      "        t =   -1000.00 ...    2000.00 ms (fq06hz/target/disp/dstr)\n",
      "        0 CTF compensation matrices available\n",
      "        nave = 54 - aspect type = 100\n",
      "No projector specified for this dataset. Please consider the method self.add_proj.\n",
      "Loaded Evoked data is baseline-corrected (baseline: [-1, 0] s)\n",
      "    Found the data of interest:\n",
      "        t =   -1000.00 ...    2000.00 ms (fq15hz/target/disp/fvsb)\n",
      "        0 CTF compensation matrices available\n",
      "        nave = 50 - aspect type = 100\n",
      "No projector specified for this dataset. Please consider the method self.add_proj.\n",
      "Loaded Evoked data is baseline-corrected (baseline: [-1, 0] s)\n",
      "Reading /home/james/q1k/pilot/q1k-external-pilot/erp_fif_files/vp/010_1_vp_ave.fif ...\n",
      "    Found the data of interest:\n",
      "        t =   -1000.00 ...    2000.00 ms (fq06hz/target/disp/dstr)\n",
      "        0 CTF compensation matrices available\n",
      "        nave = 57 - aspect type = 100\n",
      "No projector specified for this dataset. Please consider the method self.add_proj.\n",
      "Loaded Evoked data is baseline-corrected (baseline: [-1, 0] s)\n",
      "    Found the data of interest:\n",
      "        t =   -1000.00 ...    2000.00 ms (fq15hz/target/disp/TSYN)\n",
      "        0 CTF compensation matrices available\n",
      "        nave = 50 - aspect type = 100\n",
      "No projector specified for this dataset. Please consider the method self.add_proj.\n",
      "Loaded Evoked data is baseline-corrected (baseline: [-1, 0] s)\n",
      "Reading /home/james/q1k/pilot/q1k-external-pilot/erp_fif_files/vp/020_1_vp_ave.fif ...\n",
      "    Found the data of interest:\n",
      "        t =   -1000.00 ...    2000.00 ms (fq06hz/target/disp/dstr)\n",
      "        0 CTF compensation matrices available\n",
      "        nave = 55 - aspect type = 100\n",
      "No projector specified for this dataset. Please consider the method self.add_proj.\n",
      "Loaded Evoked data is baseline-corrected (baseline: [-1, 0] s)\n",
      "    Found the data of interest:\n",
      "        t =   -1000.00 ...    2000.00 ms (fq15hz/target/disp/fvsb)\n",
      "        0 CTF compensation matrices available\n",
      "        nave = 53 - aspect type = 100\n",
      "No projector specified for this dataset. Please consider the method self.add_proj.\n",
      "Loaded Evoked data is baseline-corrected (baseline: [-1, 0] s)\n",
      "Reading /home/james/q1k/pilot/q1k-external-pilot/erp_fif_files/vp/017_1_vp_ave.fif ...\n",
      "    Found the data of interest:\n",
      "        t =   -1000.00 ...    2000.00 ms (fq06hz/target/disp/dstr)\n",
      "        0 CTF compensation matrices available\n",
      "        nave = 47 - aspect type = 100\n",
      "No projector specified for this dataset. Please consider the method self.add_proj.\n",
      "Loaded Evoked data is baseline-corrected (baseline: [-1, 0] s)\n",
      "    Found the data of interest:\n",
      "        t =   -1000.00 ...    2000.00 ms (fq15hz/target/disp/fvct)\n",
      "        0 CTF compensation matrices available\n",
      "        nave = 41 - aspect type = 100\n",
      "No projector specified for this dataset. Please consider the method self.add_proj.\n",
      "Loaded Evoked data is baseline-corrected (baseline: [-1, 0] s)\n",
      "Reading /home/james/q1k/pilot/q1k-external-pilot/erp_fif_files/vp/014_1_vp_ave.fif ...\n",
      "    Found the data of interest:\n",
      "        t =   -1000.00 ...    2000.00 ms (fq06hz/target/disp/sv06)\n",
      "        0 CTF compensation matrices available\n",
      "        nave = 76 - aspect type = 100\n",
      "No projector specified for this dataset. Please consider the method self.add_proj.\n",
      "Loaded Evoked data is baseline-corrected (baseline: [-1, 0] s)\n",
      "    Found the data of interest:\n",
      "        t =   -1000.00 ...    2000.00 ms (fq15hz/target/disp/sv15)\n",
      "        0 CTF compensation matrices available\n",
      "        nave = 73 - aspect type = 100\n",
      "No projector specified for this dataset. Please consider the method self.add_proj.\n",
      "Loaded Evoked data is baseline-corrected (baseline: [-1, 0] s)\n",
      "Reading /home/james/q1k/pilot/q1k-external-pilot/erp_fif_files/vp/015_1_vp_ave.fif ...\n",
      "    Found the data of interest:\n",
      "        t =   -1000.00 ...    2000.00 ms (fq06hz/target/disp/sv06)\n",
      "        0 CTF compensation matrices available\n",
      "        nave = 59 - aspect type = 100\n",
      "No projector specified for this dataset. Please consider the method self.add_proj.\n",
      "Loaded Evoked data is baseline-corrected (baseline: [-1, 0] s)\n",
      "    Found the data of interest:\n",
      "        t =   -1000.00 ...    2000.00 ms (fq15hz/target/disp/sv15)\n",
      "        0 CTF compensation matrices available\n",
      "        nave = 57 - aspect type = 100\n",
      "No projector specified for this dataset. Please consider the method self.add_proj.\n",
      "Loaded Evoked data is baseline-corrected (baseline: [-1, 0] s)\n",
      "Reading /home/james/q1k/pilot/q1k-external-pilot/erp_fif_files/vp/009_1_vp_ave.fif ...\n",
      "    Found the data of interest:\n",
      "        t =   -1000.00 ...    2000.00 ms (fq06hz/target/disp/dstr)\n",
      "        0 CTF compensation matrices available\n",
      "        nave = 53 - aspect type = 100\n",
      "No projector specified for this dataset. Please consider the method self.add_proj.\n",
      "Loaded Evoked data is baseline-corrected (baseline: [-1, 0] s)\n",
      "    Found the data of interest:\n",
      "        t =   -1000.00 ...    2000.00 ms (fq15hz/target/disp/fvct)\n",
      "        0 CTF compensation matrices available\n",
      "        nave = 47 - aspect type = 100\n",
      "No projector specified for this dataset. Please consider the method self.add_proj.\n",
      "Loaded Evoked data is baseline-corrected (baseline: [-1, 0] s)\n",
      "Reading /home/james/q1k/pilot/q1k-external-pilot/erp_fif_files/vp/012_1_vp_ave.fif ...\n",
      "    Found the data of interest:\n",
      "        t =   -1000.00 ...    2000.00 ms (fq06hz/target/disp/dstr)\n",
      "        0 CTF compensation matrices available\n",
      "        nave = 47 - aspect type = 100\n",
      "No projector specified for this dataset. Please consider the method self.add_proj.\n",
      "Loaded Evoked data is baseline-corrected (baseline: [-1, 0] s)\n",
      "    Found the data of interest:\n",
      "        t =   -1000.00 ...    2000.00 ms (fq15hz/target/disp/fvct)\n",
      "        0 CTF compensation matrices available\n",
      "        nave = 49 - aspect type = 100\n",
      "No projector specified for this dataset. Please consider the method self.add_proj.\n",
      "Loaded Evoked data is baseline-corrected (baseline: [-1, 0] s)\n",
      "Reading /home/james/q1k/pilot/q1k-external-pilot/erp_fif_files/vp/024_1_vp_ave.fif ...\n",
      "    Found the data of interest:\n",
      "        t =   -1000.00 ...    2000.00 ms (fq06hz/target/disp/dstr)\n",
      "        0 CTF compensation matrices available\n",
      "        nave = 56 - aspect type = 100\n",
      "No projector specified for this dataset. Please consider the method self.add_proj.\n",
      "Loaded Evoked data is baseline-corrected (baseline: [-1, 0] s)\n",
      "    Found the data of interest:\n",
      "        t =   -1000.00 ...    2000.00 ms (fq15hz/target/disp/fvct)\n",
      "        0 CTF compensation matrices available\n",
      "        nave = 56 - aspect type = 100\n",
      "No projector specified for this dataset. Please consider the method self.add_proj.\n",
      "Loaded Evoked data is baseline-corrected (baseline: [-1, 0] s)\n",
      "Reading /home/james/q1k/pilot/q1k-external-pilot/erp_fif_files/vp/013_1_vp_ave.fif ...\n",
      "    Found the data of interest:\n",
      "        t =   -1000.00 ...    2000.00 ms (fq06hz/target/disp/dstr)\n",
      "        0 CTF compensation matrices available\n",
      "        nave = 54 - aspect type = 100\n",
      "No projector specified for this dataset. Please consider the method self.add_proj.\n",
      "Loaded Evoked data is baseline-corrected (baseline: [-1, 0] s)\n",
      "    Found the data of interest:\n",
      "        t =   -1000.00 ...    2000.00 ms (fq15hz/target/disp/fvsb)\n",
      "        0 CTF compensation matrices available\n",
      "        nave = 50 - aspect type = 100\n",
      "No projector specified for this dataset. Please consider the method self.add_proj.\n",
      "Loaded Evoked data is baseline-corrected (baseline: [-1, 0] s)\n"
     ]
    },
    {
     "data": {
      "text/plain": [
       "{'fq06hz': [<Evoked | 'fq06hz/target/disp/dstr' (average, N=57), -1 – 2 s, baseline -1 – 0 s, 129 ch, ~3.1 MB>,\n",
       "  <Evoked | 'fq06hz/target/disp/dstr' (average, N=55), -1 – 2 s, baseline -1 – 0 s, 129 ch, ~3.1 MB>,\n",
       "  <Evoked | 'fq06hz/target/disp/dstr' (average, N=47), -1 – 2 s, baseline -1 – 0 s, 129 ch, ~3.1 MB>,\n",
       "  <Evoked | 'fq06hz/target/disp/sv06' (average, N=76), -1 – 2 s, baseline -1 – 0 s, 129 ch, ~3.1 MB>,\n",
       "  <Evoked | 'fq06hz/target/disp/sv06' (average, N=59), -1 – 2 s, baseline -1 – 0 s, 129 ch, ~3.1 MB>,\n",
       "  <Evoked | 'fq06hz/target/disp/dstr' (average, N=53), -1 – 2 s, baseline -1 – 0 s, 129 ch, ~3.1 MB>,\n",
       "  <Evoked | 'fq06hz/target/disp/dstr' (average, N=47), -1 – 2 s, baseline -1 – 0 s, 129 ch, ~3.1 MB>,\n",
       "  <Evoked | 'fq06hz/target/disp/dstr' (average, N=56), -1 – 2 s, baseline -1 – 0 s, 129 ch, ~3.1 MB>,\n",
       "  <Evoked | 'fq06hz/target/disp/dstr' (average, N=54), -1 – 2 s, baseline -1 – 0 s, 129 ch, ~3.1 MB>],\n",
       " 'fq15hz': [<Evoked | 'fq15hz/target/disp/TSYN' (average, N=50), -1 – 2 s, baseline -1 – 0 s, 129 ch, ~3.1 MB>,\n",
       "  <Evoked | 'fq15hz/target/disp/fvsb' (average, N=53), -1 – 2 s, baseline -1 – 0 s, 129 ch, ~3.1 MB>,\n",
       "  <Evoked | 'fq15hz/target/disp/fvct' (average, N=41), -1 – 2 s, baseline -1 – 0 s, 129 ch, ~3.1 MB>,\n",
       "  <Evoked | 'fq15hz/target/disp/sv15' (average, N=73), -1 – 2 s, baseline -1 – 0 s, 129 ch, ~3.1 MB>,\n",
       "  <Evoked | 'fq15hz/target/disp/sv15' (average, N=57), -1 – 2 s, baseline -1 – 0 s, 129 ch, ~3.1 MB>,\n",
       "  <Evoked | 'fq15hz/target/disp/fvct' (average, N=47), -1 – 2 s, baseline -1 – 0 s, 129 ch, ~3.1 MB>,\n",
       "  <Evoked | 'fq15hz/target/disp/fvct' (average, N=49), -1 – 2 s, baseline -1 – 0 s, 129 ch, ~3.1 MB>,\n",
       "  <Evoked | 'fq15hz/target/disp/fvct' (average, N=56), -1 – 2 s, baseline -1 – 0 s, 129 ch, ~3.1 MB>,\n",
       "  <Evoked | 'fq15hz/target/disp/fvsb' (average, N=50), -1 – 2 s, baseline -1 – 0 s, 129 ch, ~3.1 MB>]}"
      ]
     },
     "execution_count": 5,
     "metadata": {},
     "output_type": "execute_result"
    }
   ],
   "source": [
    "evokeds = {}\n",
    "\n",
    "for idx, c in enumerate(conditions):\n",
    "    evokeds[c] = [mne.read_evokeds(d)[idx] for d in data_files]\n",
    "\n",
    "evokeds"
   ]
  },
  {
   "cell_type": "code",
   "execution_count": 6,
   "metadata": {},
   "outputs": [
    {
     "name": "stderr",
     "output_type": "stream",
     "text": [
      "/tmp/ipykernel_6857/2536604418.py:7: RuntimeWarning: Only 1 channel in \"picks\"; cannot combine by method \"mean\".\n",
      "  mne.viz.plot_compare_evokeds(evokeds,\n"
     ]
    },
    {
     "name": "stdout",
     "output_type": "stream",
     "text": [
      "combining channels using \"mean\"\n",
      "combining channels using \"mean\"\n"
     ]
    }
   ],
   "source": [
    "roi = ['E72']\n",
    "\n",
    "color_dict = {'fq06hz':'blue', 'fq15hz':'red'}\n",
    "linestyle_dict = {'fq06hz':'-', 'fq15hz':'-'}\n",
    "\n",
    "\n",
    "mne.viz.plot_compare_evokeds(evokeds,\n",
    "                             combine='mean',\n",
    "                             legend='lower right',\n",
    "                             picks=roi, show_sensors='upper right',\n",
    "                             colors=color_dict,\n",
    "                             linestyles=linestyle_dict,\n",
    "                             title='f06 vs. f15 ERPs'\n",
    "                            )\n",
    "plt.show()"
   ]
  },
  {
   "cell_type": "code",
   "execution_count": 7,
   "metadata": {},
   "outputs": [
    {
     "data": {
      "text/plain": [
       "[<Evoked | 'target/disp/baseline/dtbc - target/disp/gap/dtgc' (average, N=5.5), -0.5 – 1 s, baseline -0.5 – 0 s, 129 ch, ~1.7 MB>,\n",
       " <Evoked | 'target/disp/baseline/dtbc - target/disp/gap/dtgc' (average, N=6.0), -0.5 – 1 s, baseline -0.5 – 0 s, 129 ch, ~1.7 MB>,\n",
       " <Evoked | 'target/disp/baseline/dtbc - target/disp/gap/dtgc' (average, N=5.454545454545454), -0.5 – 1 s, baseline -0.5 – 0 s, 129 ch, ~1.7 MB>,\n",
       " <Evoked | 'target/disp/baseline/dtbc - target/disp/gap/dtgc' (average, N=5.0), -0.5 – 1 s, baseline -0.5 – 0 s, 129 ch, ~1.7 MB>,\n",
       " <Evoked | 'target/disp/baseline/dtbc - target/disp/gap/dtgc' (average, N=5.0), -0.5 – 1 s, baseline -0.5 – 0 s, 129 ch, ~1.7 MB>,\n",
       " <Evoked | 'target/disp/baseline/dtbc - target/disp/gap/dtgc' (average, N=6.0), -0.5 – 1 s, baseline -0.5 – 0 s, 129 ch, ~1.7 MB>,\n",
       " <Evoked | 'target/disp/baseline/dtbc - target/disp/gap/dtgc' (average, N=5.739130434782608), -0.5 – 1 s, baseline -0.5 – 0 s, 129 ch, ~1.7 MB>,\n",
       " <Evoked | 'target/disp/baseline/dtbc - target/disp/gap/dtgc' (average, N=5.454545454545454), -0.5 – 1 s, baseline -0.5 – 0 s, 129 ch, ~1.7 MB>,\n",
       " <Evoked | 'target/disp/baseline/dtbc - target/disp/gap/dtgc' (average, N=6.0), -0.5 – 1 s, baseline -0.5 – 0 s, 129 ch, ~1.7 MB>]"
      ]
     },
     "execution_count": 7,
     "metadata": {},
     "output_type": "execute_result"
    }
   ],
   "source": [
    "diff_waves = []\n",
    "for i in range(len(data_files)):\n",
    "    diff_waves.append(mne.combine_evoked([evokeds['distractor'][i], evokeds['target'][i]],\n",
    "                                          weights=[1, -1]\n",
    "                                         )\n",
    "                     )\n",
    "\n",
    "diff_waves\n"
   ]
  },
  {
   "cell_type": "code",
   "execution_count": 8,
   "metadata": {},
   "outputs": [
    {
     "name": "stdout",
     "output_type": "stream",
     "text": [
      "combining channels using \"mean\"\n"
     ]
    },
    {
     "name": "stderr",
     "output_type": "stream",
     "text": [
      "/tmp/ipykernel_11612/3757534987.py:2: RuntimeWarning: Only 1 channel in \"picks\"; cannot combine by method \"mean\".\n",
      "  mne.viz.plot_compare_evokeds({contrast:diff_waves}, combine='mean',\n"
     ]
    }
   ],
   "source": [
    "contrast = 'distractor-target'\n",
    "mne.viz.plot_compare_evokeds({contrast:diff_waves}, combine='mean',\n",
    "                            legend=None,\n",
    "                            picks=roi, show_sensors='upper right',\n",
    "                            title=contrast\n",
    "                            )\n",
    "plt.show()\n"
   ]
  },
  {
   "cell_type": "code",
   "execution_count": 10,
   "metadata": {},
   "outputs": [
    {
     "name": "stdout",
     "output_type": "stream",
     "text": [
      "Interpolating bad channels\n",
      "    Automatic origin fit: head of radius 99.1 mm\n",
      "Computing interpolation matrix from 112 sensor positions\n",
      "Interpolating 17 sensors\n",
      "Interpolating bad channels\n"
     ]
    },
    {
     "name": "stdout",
     "output_type": "stream",
     "text": [
      "    Automatic origin fit: head of radius 99.1 mm\n",
      "Computing interpolation matrix from 115 sensor positions\n",
      "Interpolating 14 sensors\n",
      "Interpolating bad channels\n",
      "    Automatic origin fit: head of radius 99.1 mm\n",
      "Computing interpolation matrix from 107 sensor positions\n",
      "Interpolating 22 sensors\n",
      "Interpolating bad channels\n",
      "    Automatic origin fit: head of radius 99.1 mm\n",
      "Computing interpolation matrix from 104 sensor positions\n",
      "Interpolating 25 sensors\n",
      "Interpolating bad channels\n",
      "    Automatic origin fit: head of radius 99.1 mm\n",
      "Computing interpolation matrix from 95 sensor positions\n",
      "Interpolating 34 sensors\n",
      "Interpolating bad channels\n",
      "    Automatic origin fit: head of radius 99.1 mm\n",
      "Computing interpolation matrix from 102 sensor positions\n",
      "Interpolating 27 sensors\n",
      "Interpolating bad channels\n",
      "    Automatic origin fit: head of radius 99.1 mm\n",
      "Computing interpolation matrix from 100 sensor positions\n",
      "Interpolating 29 sensors\n",
      "Interpolating bad channels\n",
      "    Automatic origin fit: head of radius 99.1 mm\n",
      "Computing interpolation matrix from 108 sensor positions\n",
      "Interpolating 21 sensors\n",
      "Interpolating bad channels\n",
      "    Automatic origin fit: head of radius 99.1 mm\n",
      "Computing interpolation matrix from 80 sensor positions\n",
      "Interpolating 49 sensors\n",
      "Identifying common channels ...\n"
     ]
    }
   ],
   "source": [
    "mne.viz.plot_evoked_topomap(mne.grand_average(diff_waves), \n",
    "                            times=.500, average=1.4,\n",
    "                            size=3\n",
    "                           )\n",
    "plt.show()"
   ]
  },
  {
   "cell_type": "markdown",
   "metadata": {},
   "source": [
    "t-test"
   ]
  },
  {
   "cell_type": "code",
   "execution_count": 17,
   "metadata": {},
   "outputs": [],
   "source": [
    "evoked_data = np.array([np.mean(e.get_data(picks='E71', tmin=-0.4, tmax=1.0), axis=1) for e in diff_waves])"
   ]
  },
  {
   "cell_type": "code",
   "execution_count": 18,
   "metadata": {},
   "outputs": [
    {
     "name": "stdout",
     "output_type": "stream",
     "text": [
      "Difference t =  -1.09 p =  0.3089\n"
     ]
    }
   ],
   "source": [
    "from scipy import stats \n",
    "\n",
    "t, pval = stats.ttest_1samp(evoked_data, 0)\n",
    "print('Difference t = ', str(round(t[0], 2)), 'p = ', str(round(pval[0], 4)))"
   ]
  },
  {
   "cell_type": "code",
   "execution_count": 19,
   "metadata": {},
   "outputs": [],
   "source": [
    "from mne.stats import permutation_t_test"
   ]
  },
  {
   "cell_type": "code",
   "execution_count": 20,
   "metadata": {},
   "outputs": [],
   "source": [
    "evoked_data = np.array([np.mean(e.get_data(tmin=-0.4, tmax=1.0), axis=1) for e in diff_waves])\n"
   ]
  },
  {
   "cell_type": "code",
   "execution_count": 21,
   "metadata": {},
   "outputs": [
    {
     "name": "stdout",
     "output_type": "stream",
     "text": [
      "Permuting 511 times (exact test)...\n"
     ]
    },
    {
     "name": "stderr",
     "output_type": "stream",
     "text": [
      "/tmp/ipykernel_11612/3685603320.py:2: RuntimeWarning: The MNE-Python config file (/home/james/.mne/mne-python.json) is not a valid JSON file and might be corrupted\n",
      "  T0, p_values, H0 = permutation_t_test(evoked_data, n_permutations, tail=-1)\n",
      "/tmp/ipykernel_11612/3685603320.py:2: RuntimeWarning: The MNE-Python config file (/home/james/.mne/mne-python.json) is not a valid JSON file and might be corrupted\n",
      "  T0, p_values, H0 = permutation_t_test(evoked_data, n_permutations, tail=-1)\n",
      "[Parallel(n_jobs=1)]: Using backend SequentialBackend with 1 concurrent workers.\n",
      "[Parallel(n_jobs=1)]: Done   1 out of   1 | elapsed:    0.0s remaining:    0.0s\n",
      "[Parallel(n_jobs=1)]: Done   1 out of   1 | elapsed:    0.0s finished\n"
     ]
    }
   ],
   "source": [
    "n_permutations = 50000\n",
    "T0, p_values, H0 = permutation_t_test(evoked_data, n_permutations, tail=-1)"
   ]
  },
  {
   "cell_type": "code",
   "execution_count": 16,
   "metadata": {},
   "outputs": [
    {
     "data": {
      "text/plain": [
       "array([1.        , 1.        , 1.        , 1.        , 1.        ,\n",
       "       1.        , 1.        , 1.        , 1.        , 1.        ,\n",
       "       1.        , 1.        , 1.        , 1.        , 1.        ,\n",
       "       1.        , 1.        , 1.        , 1.        , 1.        ,\n",
       "       1.        , 1.        , 1.        , 1.        , 1.        ,\n",
       "       1.        , 1.        , 1.        , 1.        , 1.        ,\n",
       "       1.        , 1.        , 1.        , 1.        , 0.68359375,\n",
       "       1.        , 1.        , 1.        , 1.        , 1.        ,\n",
       "       1.        , 1.        , 1.        , 1.        , 1.        ,\n",
       "       1.        , 1.        , 1.        , 1.        , 1.        ,\n",
       "       1.        , 1.        , 1.        , 1.        , 1.        ,\n",
       "       1.        , 1.        , 1.        , 1.        , 1.        ,\n",
       "       1.        , 1.        , 1.        , 1.        , 1.        ,\n",
       "       1.        , 1.        , 1.        , 1.        , 1.        ,\n",
       "       1.        , 1.        , 1.        , 1.        , 1.        ,\n",
       "       1.        , 1.        , 1.        , 1.        , 1.        ,\n",
       "       1.        , 1.        , 1.        , 1.        , 1.        ,\n",
       "       1.        , 1.        , 1.        , 1.        , 1.        ,\n",
       "       1.        , 1.        , 1.        , 1.        , 1.        ,\n",
       "       1.        , 1.        , 1.        , 1.        , 1.        ,\n",
       "       1.        , 1.        , 1.        , 1.        , 1.        ,\n",
       "       1.        , 1.        , 1.        , 1.        , 1.        ,\n",
       "       1.        , 1.        , 1.        , 1.        , 1.        ,\n",
       "       1.        , 1.        , 1.        , 1.        , 1.        ,\n",
       "       1.        , 1.        , 0.9375    , 1.        , 1.        ,\n",
       "       1.        , 1.        , 1.        , 1.        ])"
      ]
     },
     "execution_count": 16,
     "metadata": {},
     "output_type": "execute_result"
    }
   ],
   "source": [
    "p_values"
   ]
  },
  {
   "cell_type": "code",
   "execution_count": null,
   "metadata": {},
   "outputs": [],
   "source": []
  }
 ],
 "metadata": {
  "kernelspec": {
   "display_name": "eeg-env",
   "language": "python",
   "name": "python3"
  },
  "language_info": {
   "codemirror_mode": {
    "name": "ipython",
    "version": 3
   },
   "file_extension": ".py",
   "mimetype": "text/x-python",
   "name": "python",
   "nbconvert_exporter": "python",
   "pygments_lexer": "ipython3",
   "version": "3.8.10"
  }
 },
 "nbformat": 4,
 "nbformat_minor": 2
}
