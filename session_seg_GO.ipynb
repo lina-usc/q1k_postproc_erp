{
 "cells": [
  {
   "cell_type": "markdown",
   "id": "793c3da2-34a6-4fce-a4d7-a6bcbe92219f",
   "metadata": {},
   "source": [
    "# Single Subject Segmentation Q1K"
   ]
  },
  {
   "cell_type": "code",
   "execution_count": null,
   "id": "1112aca4-41d1-4c95-b9c6-29f605655ef8",
   "metadata": {
    "tags": [
     "parameters"
    ]
   },
   "outputs": [],
   "source": [
    "##use these commented parameters for testing this notebook outside of the automated loop of q1k_automated_reports.ipynb\n",
    "#subject_id = \"10043F1\"\n",
    "#task_id = \"GO\"\n",
    "#session_id = \"01\"\n",
    "#run_id = \"1\"\n",
    "\n",
    "#use these parameters when executing this notebook from the automation notebook..\n",
    "subject_id = \"\"\n",
    "task_id = \"\"\n",
    "session_id = \"\"\n",
    "run_id = \"\"\n"
   ]
  },
  {
   "cell_type": "code",
   "execution_count": null,
   "id": "9450f6bf-4cb0-4e7e-bd64-f9dd953de143",
   "metadata": {},
   "outputs": [],
   "source": [
    "# import packages\n",
    "#import q1k_sync_tools as qst\n",
    "import mne\n",
    "import mne_bids\n",
    "#mne.viz.set_browser_backend('qt')\n",
    "#%matplotlib qt\n",
    "#pd.options.mode.chained_assignment = None\n",
    "#import pylossless as ll\n",
    "import numpy as np\n",
    "import pandas as pd\n",
    "#import glob\n",
    "\n",
    "import matplotlib.pyplot as plt\n",
    "\n",
    "from pathlib import Path\n",
    "import shutil\n",
    "import pylossless as ll\n",
    "\n",
    "import warnings\n",
    "warnings.filterwarnings('ignore')\n"
   ]
  },
  {
   "cell_type": "markdown",
   "id": "d5961caa",
   "metadata": {},
   "source": [
    "# Set the parameters and read the pylossless data."
   ]
  },
  {
   "cell_type": "code",
   "execution_count": null,
   "id": "14258a9e",
   "metadata": {},
   "outputs": [],
   "source": [
    "project_path = \"/project/def-emayada/q1k/experimental/hsj/\"\n",
    "pylossless_path = \"derivatives/pylossless/\"\n",
    "postproc_path = \"derivatives/postproc/\"\n",
    "#task_id_in = \"VEP\"\n",
    "#task_id_out = \"VEP\"\n",
    "#subject_id = '096'\n",
    "#session_id = '01'\n",
    "\n",
    "bids_path = mne_bids.BIDSPath(\n",
    "    subject=subject_id, session=session_id, task=task_id, run=\"1\", datatype=\"eeg\", suffix=\"eeg\",root=project_path + pylossless_path\n",
    ")\n",
    "print(bids_path)"
   ]
  },
  {
   "cell_type": "code",
   "execution_count": null,
   "id": "5cb698e8",
   "metadata": {},
   "outputs": [],
   "source": [
    "# Read the BIDS pylossless output file..\n",
    "eeg_raw = mne_bids.read_raw_bids(bids_path=bids_path, verbose=False)"
   ]
  },
  {
   "cell_type": "markdown",
   "id": "e0f4200a",
   "metadata": {},
   "source": [
    "# Interpret the annotations and apply the data selections."
   ]
  },
  {
   "cell_type": "code",
   "execution_count": null,
   "id": "8877b53c",
   "metadata": {},
   "outputs": [],
   "source": [
    "# Get the events form the annotations\n",
    "eeg_events, eeg_event_dict  = mne.events_from_annotations(eeg_raw)"
   ]
  },
  {
   "cell_type": "code",
   "execution_count": null,
   "id": "24e51517",
   "metadata": {},
   "outputs": [],
   "source": [
    "ll_state = ll.LosslessPipeline()\n",
    "ll_state = ll_state.load_ll_derivative(bids_path)\n",
    "bids_path_str=str(bids_path)\n",
    "# Merge marks down to bads (aka manual)\n",
    "ll_qcr = ll_state.raw.copy()\n",
    "manual = []\n",
    "for flag_type in ll_state.flags['ch']:\n",
    "    manual.extend(ll_state.flags['ch'][flag_type])\n",
    "print(ll_state.flags['ch'])\n",
    "ll_qcr.info['bads'].extend(manual)\n",
    "ll_qcr.info['bads'] = list(set(ll_qcr.info['bads']))\n",
    "\n",
    "fig = ll_qcr.plot_sensors(show_names=True)\n",
    "\n",
    "# Read the ICLabel info from file and add to exclude\n",
    "df = pd.read_csv(bids_path_str.replace('_eeg.edf', '_iclabels.tsv'), sep='\\t')\n",
    "ll_state.ica2.exclude = list(df[df['ic_type'].str.match('eog|muscle|ch_noise|ecg')].index)\n",
    "\n",
    "# Load the data and apply the ICA\n",
    "ll_qcr.load_data()\n",
    "ll_state.ica2.apply(ll_qcr)\n",
    "ll_qcr = ll_qcr.filter(l_freq=1.0, h_freq=50.0)\n",
    "ll_qcr = ll_qcr.interpolate_bads()\n",
    "ll_qcr = ll_qcr.set_eeg_reference(ref_channels=\"average\")\n",
    "ll_qcr"
   ]
  },
  {
   "cell_type": "markdown",
   "id": "ffa549e1",
   "metadata": {
    "tags": []
   },
   "source": [
    "# Segment the data to 'dtbc', 'dtgc' and 'dtoc'"
   ]
  },
  {
   "cell_type": "code",
   "execution_count": null,
   "id": "324bdd13",
   "metadata": {},
   "outputs": [],
   "source": [
    "# Relabel condition vars for niceness\n",
    "eeg_event_dict['go/visual/disp/dtbc'] = eeg_event_dict.pop('dtbc')\n",
    "eeg_event_dict['go/visual/disp/dtgc'] = eeg_event_dict.pop('dtgc')\n",
    "eeg_event_dict['go/visual/disp/dtoc'] = eeg_event_dict.pop('dtoc')\n"
   ]
  },
  {
   "cell_type": "code",
   "execution_count": null,
   "id": "3fc2575e",
   "metadata": {},
   "outputs": [],
   "source": [
    "# Epoch structure is created for ALL events, then you 'segment' by indexing into it\n",
    "epochs = mne.Epochs(ll_qcr, eeg_events, event_id=eeg_event_dict, tmin=-1, tmax=2.0, on_missing='warn', event_repeated='drop')\n",
    "epochs = epochs[['dtbc', 'dtgc', 'dtoc']]\n",
    "display(epochs)\n",
    "epochs.save(project_path + pylossless_path + postproc_path + 'epoch_fif_files/GO/' + bids_path.basename + '_epo.fif', overwrite=True)"
   ]
  },
  {
   "cell_type": "code",
   "execution_count": null,
   "id": "93f39d71",
   "metadata": {},
   "outputs": [],
   "source": [
    "evokeds = {'dtbc': epochs['dtbc'].average(), 'dtgc': epochs['dtgc'].average(), 'dtoc': epochs['dtoc'].average()}\n",
    "mne.write_evokeds(project_path + pylossless_path + postproc_path + 'erp_fif_files/GO/' + bids_path.basename + '_erp.fif',list(evokeds.values()), overwrite=True)"
   ]
  },
  {
   "cell_type": "markdown",
   "id": "5122057f",
   "metadata": {},
   "source": [
    "# Plot ERP envelopes and topographies"
   ]
  },
  {
   "cell_type": "code",
   "execution_count": null,
   "id": "6d05fc62",
   "metadata": {},
   "outputs": [],
   "source": [
    "evokeds['dtbc'].plot_joint(title='baseline')"
   ]
  },
  {
   "cell_type": "code",
   "execution_count": null,
   "id": "14ed786f",
   "metadata": {},
   "outputs": [],
   "source": [
    "evokeds['dtgc'].plot_joint(title='gap')"
   ]
  },
  {
   "cell_type": "code",
   "execution_count": null,
   "id": "1efae837-598e-43f9-9849-093766c1acbc",
   "metadata": {},
   "outputs": [],
   "source": [
    "evokeds['dtoc'].plot_joint(title='overlap')"
   ]
  },
  {
   "cell_type": "markdown",
   "id": "ff3b3dab",
   "metadata": {},
   "source": [
    "# Plot the ERP overlay"
   ]
  },
  {
   "cell_type": "code",
   "execution_count": null,
   "id": "98e36a79",
   "metadata": {},
   "outputs": [],
   "source": [
    "# Plot ERP overlay\n",
    "mne.viz.plot_compare_evokeds(evokeds, picks=['E55'], combine='mean')"
   ]
  },
  {
   "cell_type": "code",
   "execution_count": null,
   "id": "2c45b6d0",
   "metadata": {},
   "outputs": [],
   "source": [
    "#epochs_condition_1 = epochs['sv06']\n",
    "#epochs_condition_2 = epochs['sv15']\n",
    "ch_name = 'E55'\n",
    "\n",
    "decim = 2\n",
    "freqs = np.arange(3, 50, 2)  # define frequencies of interest\n",
    "n_cycles = freqs / 2\n",
    "\n",
    "#epochs_chan = epochs.pick_channels([ch_name])\n"
   ]
  },
  {
   "cell_type": "code",
   "execution_count": null,
   "id": "b708d0e4",
   "metadata": {},
   "outputs": [],
   "source": [
    "decim = 2\n",
    "freqs = np.arange(2, 50, 2)  # define frequencies of interest\n",
    "n_cycles = freqs / 2\n",
    "\n",
    "pow_1, itc_1 = mne.time_frequency.tfr_morlet(\n",
    "    epochs['dtbc'],\n",
    "    freqs,\n",
    "    picks=ch_name,\n",
    "    n_cycles=n_cycles,\n",
    "    decim=decim,\n",
    "    return_itc=True,\n",
    "    average=True,\n",
    ")\n",
    "\n",
    "pow_2, itc_2 = mne.time_frequency.tfr_morlet(\n",
    "    epochs['dtoc'],\n",
    "    freqs,\n",
    "    picks=ch_name,\n",
    "    n_cycles=n_cycles,\n",
    "    decim=decim,\n",
    "    return_itc=True,\n",
    "    average=True,\n",
    ")\n",
    "\n",
    "itc_dat_1 = itc_1.data[0, :, :]  # only 1 channel as 3D matrix\n",
    "pow_dat_1 = pow_1.data[0, :, :]  # only 1 channel as 3D matrix\n",
    "\n",
    "itc_dat_2 = itc_2.data[0, :, :]  # only 1 channel as 3D matrix\n",
    "pow_dat_2 = pow_2.data[0, :, :]  # only 1 channel as 3D matrix"
   ]
  },
  {
   "cell_type": "code",
   "execution_count": null,
   "id": "004608c3",
   "metadata": {},
   "outputs": [],
   "source": [
    "times = 1e3 * epochs['dtbc'].times  # change unit to ms\n",
    "\n",
    "fig1, (ax1t, ax1b) = plt.subplots(2, 1, figsize=(6, 4))\n",
    "fig1.subplots_adjust(0.12, 0.08, 0.96, 0.94, 0.2, 0.43)\n",
    "\n",
    "ax1t.imshow(\n",
    "    pow_dat_1,\n",
    "    extent=[times[0], times[-1], freqs[0], freqs[-1]],\n",
    "    aspect=\"auto\",\n",
    "    origin=\"lower\",\n",
    "    cmap=\"RdBu_r\",\n",
    ")\n",
    "\n",
    "ax1b.imshow(\n",
    "    itc_dat_1,\n",
    "    extent=[times[0], times[-1], freqs[0], freqs[-1]],\n",
    "    aspect=\"auto\",\n",
    "    origin=\"lower\",\n",
    "    cmap=\"RdBu_r\",\n",
    ")\n",
    "\n",
    "ax1t.set_ylabel(\"Frequency (Hz)\")\n",
    "ax1t.set_title(f\" BaselineInduced power ({ch_name})\")\n",
    "ax1b.set_title(f\"baseline Inter Trial Coherence ({ch_name})\")\n",
    "ax1b.set_xlabel(\"Time (ms)\")"
   ]
  },
  {
   "cell_type": "code",
   "execution_count": null,
   "id": "9e706eef",
   "metadata": {},
   "outputs": [],
   "source": [
    "fig2, (ax2t, ax2b) = plt.subplots(2, 1, figsize=(6, 4))\n",
    "fig2.subplots_adjust(0.12, 0.08, 0.96, 0.94, 0.2, 0.43)\n",
    "\n",
    "ax2t.imshow(\n",
    "    pow_dat_2,\n",
    "    extent=[times[0], times[-1], freqs[0], freqs[-1]],\n",
    "    aspect=\"auto\",\n",
    "    origin=\"lower\",\n",
    "    cmap=\"RdBu_r\",\n",
    ")\n",
    "\n",
    "ax2b.imshow(\n",
    "    itc_dat_2,\n",
    "    extent=[times[0], times[-1], freqs[0], freqs[-1]],\n",
    "    aspect=\"auto\",\n",
    "    origin=\"lower\",\n",
    "    cmap=\"RdBu_r\",\n",
    ")\n",
    "\n",
    "ax2t.set_ylabel(\"Frequency (Hz)\")\n",
    "ax2t.set_title(f\"Overlap Induced power ({ch_name})\")\n",
    "ax2b.set_title(f\"Overlap Inter Trial Coherence ({ch_name})\")\n",
    "ax2b.set_xlabel(\"Time (ms)\")\n"
   ]
  },
  {
   "cell_type": "code",
   "execution_count": null,
   "id": "5831546d",
   "metadata": {},
   "outputs": [],
   "source": [
    "fig3, (ax3t, ax3b) = plt.subplots(2, 1, figsize=(6, 4))\n",
    "fig3.subplots_adjust(0.12, 0.08, 0.96, 0.94, 0.2, 0.43)\n",
    "\n",
    "ax3t.imshow(\n",
    "    pow_dat_2 - pow_dat_1,\n",
    "    extent=[times[0], times[-1], freqs[0], freqs[-1]],\n",
    "    aspect=\"auto\",\n",
    "    origin=\"lower\",\n",
    "    cmap=\"RdBu_r\",\n",
    ")\n",
    "\n",
    "ax3b.imshow(\n",
    "    itc_dat_2 - itc_dat_1,\n",
    "    extent=[times[0], times[-1], freqs[0], freqs[-1]],\n",
    "    aspect=\"auto\",\n",
    "    origin=\"lower\",\n",
    "    cmap=\"RdBu_r\",\n",
    ")\n",
    "\n",
    "ax3t.set_ylabel(\"Frequency (Hz)\")\n",
    "ax3t.set_title(f\"baseline - overlap Induced power ({ch_name})\")\n",
    "ax3b.set_title(f\"baseline - overlap Inter Trial Coherence ({ch_name})\")\n",
    "ax3b.set_xlabel(\"Time (ms)\")\n"
   ]
  },
  {
   "cell_type": "code",
   "execution_count": null,
   "id": "4b2d55ba",
   "metadata": {},
   "outputs": [],
   "source": [
    "!jupyter nbconvert --output {\"session_reports/\" + bids_path.basename + \".html\"} --TagRemovePreprocessor.remove_all_outputs_tags='{\"exclude\"}' --no-input --to html session_seg_vp.ipynb"
   ]
  },
  {
   "cell_type": "code",
   "execution_count": null,
   "id": "c3158e95",
   "metadata": {},
   "outputs": [],
   "source": []
  }
 ],
 "metadata": {
  "kernelspec": {
   "display_name": "q1k_env",
   "language": "python",
   "name": "q1k_env"
  },
  "language_info": {
   "codemirror_mode": {
    "name": "ipython",
    "version": 3
   },
   "file_extension": ".py",
   "mimetype": "text/x-python",
   "name": "python",
   "nbconvert_exporter": "python",
   "pygments_lexer": "ipython3",
   "version": "3.11.5"
  }
 },
 "nbformat": 4,
 "nbformat_minor": 5
}
