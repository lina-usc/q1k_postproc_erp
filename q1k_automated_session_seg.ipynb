{
 "cells": [
  {
   "cell_type": "markdown",
   "metadata": {},
   "source": [
    "# Generate automated session reports for all participants"
   ]
  },
  {
   "cell_type": "code",
   "execution_count": 1,
   "metadata": {},
   "outputs": [],
   "source": [
    "import pandas as pd\n",
    "import numpy as np\n",
    "import mne\n",
    "import mne_bids\n",
    "#from matplotlib import pyplot as plt\n",
    "#import plotly.express as px\n",
    "#import plotly.graph_objects as go\n",
    "#import plotly.offline as py\n",
    "#import plotly.io as pio\n",
    "#pio.renderers.default = \"plotly_mimetype+notebook\"\n",
    "#import q1k_init_tools as qit\n",
    "import glob\n",
    "import warnings\n",
    "#from nbconvert import HTMLExporter\n",
    "#from nbconvert.preprocessors import ExecutePreprocessor\n",
    "#from nbformat import read\n",
    "\n",
    "import re\n",
    "import subprocess\n",
    "\n",
    "import os\n",
    "import papermill as pm\n",
    "warnings.filterwarnings('ignore')\n",
    "\n",
    "#from matplotlib import pyplot as plt\n",
    "#import plotly.express as px\n",
    "#import plotly.graph_objects as go\n",
    "#import plotly.offline as py\n",
    "#import plotly.io as pio\n",
    "#pio.renderers.default = \"plotly_mimetype+notebook\"\n",
    "from nbconvert import HTMLExporter\n",
    "from nbconvert.preprocessors import ExecutePreprocessor\n",
    "from nbformat import read\n"
   ]
  },
  {
   "cell_type": "markdown",
   "metadata": {
    "tags": []
   },
   "source": [
    "### Select task parameters and file paths"
   ]
  },
  {
   "cell_type": "code",
   "execution_count": 2,
   "metadata": {},
   "outputs": [],
   "source": [
    "# Select kind of data experimental or control group\n",
    "\n",
    "dataset_group = \"experimental\"\n",
    "\n",
    "if dataset_group == \"control\":\n",
    "    # Control group data\n",
    "    project_path = \"/home/james/q1k/pilot/q1k-external-pilot/\"\n",
    "    task_id_in = \"ap\"\n",
    "    task_id_in_et = \"ap\"\n",
    "    task_id_out = \"ap\"\n",
    "    #subject_id = '002'\n",
    "    session_id = '01'\n",
    "    run_id = '1'\n",
    "\n",
    "elif dataset_group == \"experimental\":\n",
    "# Experimental group data\n",
    "\n",
    "    project_path = \"/project/def-emayada/q1k/experimental/hsj/\"\n",
    "    pyll_path = \"derivatives/pylossless/\"\n",
    "    post_path = \"derivatives/postproc/\"\n",
    "    out_seg_path = \"epoch_fif_files/\"\n",
    "    out_avg_path = \"erp_fif_files/\"\n",
    "    html_reports_path = \"session_reports/\"\n",
    "    task_id_in = \"VEP\"\n",
    "    task_id_in_et = \"VEP\"\n",
    "    task_id_out = \"VEP\"\n",
    "    #subject_id = 'Q1K_HSJ_100123_F1'\n",
    "    run_id = '1'\n",
    "    session_id = '01'\n",
    "    #sourcedata_path = \"sourcedata/\" \n",
    "    #html_reports_path = \"session_reports/\" + task_id_in  + '/'\n",
    "\n"
   ]
  },
  {
   "cell_type": "code",
   "execution_count": 3,
   "metadata": {},
   "outputs": [
    {
     "name": "stdout",
     "output_type": "stream",
     "text": [
      "VEP\n"
     ]
    }
   ],
   "source": [
    "# Sanity check to see which task you would like to make reports for \n",
    "print(task_id_in)"
   ]
  },
  {
   "cell_type": "code",
   "execution_count": 4,
   "metadata": {},
   "outputs": [
    {
     "name": "stdout",
     "output_type": "stream",
     "text": [
      "Input files:\n",
      "File Path: /project/def-emayada/q1k/experimental/hsj/derivatives/pylossless/sub-100114M1/ses-01/eeg/sub-100114M1_ses-01_task-VEP_run-1_eeg.edf, File Name: sub-100114M1_ses-01_task-VEP_run-1_eeg.edf\n",
      "File Path: /project/def-emayada/q1k/experimental/hsj/derivatives/pylossless/sub-10251061M/ses-01/eeg/sub-10251061M_ses-01_task-VEP_run-1_eeg.edf, File Name: sub-10251061M_ses-01_task-VEP_run-1_eeg.edf\n",
      "File Path: /project/def-emayada/q1k/experimental/hsj/derivatives/pylossless/sub-100100F1/ses-01/eeg/sub-100100F1_ses-01_task-VEP_run-1_eeg.edf, File Name: sub-100100F1_ses-01_task-VEP_run-1_eeg.edf\n",
      "File Path: /project/def-emayada/q1k/experimental/hsj/derivatives/pylossless/sub-100146P/ses-01/eeg/sub-100146P_ses-01_task-VEP_run-1_eeg.edf, File Name: sub-100146P_ses-01_task-VEP_run-1_eeg.edf\n",
      "File Path: /project/def-emayada/q1k/experimental/hsj/derivatives/pylossless/sub-15251026P/ses-01/eeg/sub-15251026P_ses-01_task-VEP_run-1_eeg.edf, File Name: sub-15251026P_ses-01_task-VEP_run-1_eeg.edf\n",
      "File Path: /project/def-emayada/q1k/experimental/hsj/derivatives/pylossless/sub-10043F1/ses-01/eeg/sub-10043F1_ses-01_task-VEP_run-1_eeg.edf, File Name: sub-10043F1_ses-01_task-VEP_run-1_eeg.edf\n",
      "File Path: /project/def-emayada/q1k/experimental/hsj/derivatives/pylossless/sub-10251042M1/ses-01/eeg/sub-10251042M1_ses-01_task-VEP_run-1_eeg.edf, File Name: sub-10251042M1_ses-01_task-VEP_run-1_eeg.edf\n",
      "File Path: /project/def-emayada/q1k/experimental/hsj/derivatives/pylossless/sub-10083P/ses-01/eeg/sub-10083P_ses-01_task-VEP_run-1_eeg.edf, File Name: sub-10083P_ses-01_task-VEP_run-1_eeg.edf\n",
      "File Path: /project/def-emayada/q1k/experimental/hsj/derivatives/pylossless/sub-10064S1/ses-01/eeg/sub-10064S1_ses-01_task-VEP_run-1_eeg.edf, File Name: sub-10064S1_ses-01_task-VEP_run-1_eeg.edf\n",
      "File Path: /project/def-emayada/q1k/experimental/hsj/derivatives/pylossless/sub-100105M1/ses-01/eeg/sub-100105M1_ses-01_task-VEP_run-1_eeg.edf, File Name: sub-100105M1_ses-01_task-VEP_run-1_eeg.edf\n",
      "File Path: /project/def-emayada/q1k/experimental/hsj/derivatives/pylossless/sub-100111F1/ses-01/eeg/sub-100111F1_ses-01_task-VEP_run-1_eeg.edf, File Name: sub-100111F1_ses-01_task-VEP_run-1_eeg.edf\n",
      "File Path: /project/def-emayada/q1k/experimental/hsj/derivatives/pylossless/sub-100147M1/ses-01/eeg/sub-100147M1_ses-01_task-VEP_run-1_eeg.edf, File Name: sub-100147M1_ses-01_task-VEP_run-1_eeg.edf\n",
      "File Path: /project/def-emayada/q1k/experimental/hsj/derivatives/pylossless/sub-100157M1/ses-01/eeg/sub-100157M1_ses-01_task-VEP_run-1_eeg.edf, File Name: sub-100157M1_ses-01_task-VEP_run-1_eeg.edf\n",
      "File Path: /project/def-emayada/q1k/experimental/hsj/derivatives/pylossless/sub-100134M1/ses-01/eeg/sub-100134M1_ses-01_task-VEP_run-1_eeg.edf, File Name: sub-100134M1_ses-01_task-VEP_run-1_eeg.edf\n",
      "File Path: /project/def-emayada/q1k/experimental/hsj/derivatives/pylossless/sub-10086F1/ses-01/eeg/sub-10086F1_ses-01_task-VEP_run-1_eeg.edf, File Name: sub-10086F1_ses-01_task-VEP_run-1_eeg.edf\n",
      "File Path: /project/def-emayada/q1k/experimental/hsj/derivatives/pylossless/sub-100104P/ses-01/eeg/sub-100104P_ses-01_task-VEP_run-1_eeg.edf, File Name: sub-100104P_ses-01_task-VEP_run-1_eeg.edf\n",
      "File Path: /project/def-emayada/q1k/experimental/hsj/derivatives/pylossless/sub-100147P/ses-01/eeg/sub-100147P_ses-01_task-VEP_run-1_eeg.edf, File Name: sub-100147P_ses-01_task-VEP_run-1_eeg.edf\n",
      "File Path: /project/def-emayada/q1k/experimental/hsj/derivatives/pylossless/sub-100114S1/ses-01/eeg/sub-100114S1_ses-01_task-VEP_run-1_eeg.edf, File Name: sub-100114S1_ses-01_task-VEP_run-1_eeg.edf\n",
      "File Path: /project/def-emayada/q1k/experimental/hsj/derivatives/pylossless/sub-100108F1/ses-01/eeg/sub-100108F1_ses-01_task-VEP_run-1_eeg.edf, File Name: sub-100108F1_ses-01_task-VEP_run-1_eeg.edf\n",
      "File Path: /project/def-emayada/q1k/experimental/hsj/derivatives/pylossless/sub-10083M1/ses-01/eeg/sub-10083M1_ses-01_task-VEP_run-1_eeg.edf, File Name: sub-10083M1_ses-01_task-VEP_run-1_eeg.edf\n",
      "File Path: /project/def-emayada/q1k/experimental/hsj/derivatives/pylossless/sub-100134S1/ses-01/eeg/sub-100134S1_ses-01_task-VEP_run-1_eeg.edf, File Name: sub-100134S1_ses-01_task-VEP_run-1_eeg.edf\n",
      "File Path: /project/def-emayada/q1k/experimental/hsj/derivatives/pylossless/sub-100114P/ses-01/eeg/sub-100114P_ses-01_task-VEP_run-1_eeg.edf, File Name: sub-100114P_ses-01_task-VEP_run-1_eeg.edf\n",
      "File Path: /project/def-emayada/q1k/experimental/hsj/derivatives/pylossless/sub-100123F1/ses-01/eeg/sub-100123F1_ses-01_task-VEP_run-1_eeg.edf, File Name: sub-100123F1_ses-01_task-VEP_run-1_eeg.edf\n",
      "File Path: /project/def-emayada/q1k/experimental/hsj/derivatives/pylossless/sub-10064M1/ses-01/eeg/sub-10064M1_ses-01_task-VEP_run-1_eeg.edf, File Name: sub-10064M1_ses-01_task-VEP_run-1_eeg.edf\n",
      "File Path: /project/def-emayada/q1k/experimental/hsj/derivatives/pylossless/sub-100131P/ses-01/eeg/sub-100131P_ses-01_task-VEP_run-1_eeg.edf, File Name: sub-100131P_ses-01_task-VEP_run-1_eeg.edf\n",
      "File Path: /project/def-emayada/q1k/experimental/hsj/derivatives/pylossless/sub-100162S1/ses-01/eeg/sub-100162S1_ses-01_task-VEP_run-1_eeg.edf, File Name: sub-100162S1_ses-01_task-VEP_run-1_eeg.edf\n",
      "File Path: /project/def-emayada/q1k/experimental/hsj/derivatives/pylossless/sub-100150M1/ses-01/eeg/sub-100150M1_ses-01_task-VEP_run-1_eeg.edf, File Name: sub-100150M1_ses-01_task-VEP_run-1_eeg.edf\n",
      "File Path: /project/def-emayada/q1k/experimental/hsj/derivatives/pylossless/sub-10083F1/ses-01/eeg/sub-10083F1_ses-01_task-VEP_run-1_eeg.edf, File Name: sub-10083F1_ses-01_task-VEP_run-1_eeg.edf\n",
      "File Path: /project/def-emayada/q1k/experimental/hsj/derivatives/pylossless/sub-100123M1/ses-01/eeg/sub-100123M1_ses-01_task-VEP_run-1_eeg.edf, File Name: sub-100123M1_ses-01_task-VEP_run-1_eeg.edf\n",
      "File Path: /project/def-emayada/q1k/experimental/hsj/derivatives/pylossless/sub-10062P/ses-01/eeg/sub-10062P_ses-01_task-VEP_run-1_eeg.edf, File Name: sub-10062P_ses-01_task-VEP_run-1_eeg.edf\n",
      "File Path: /project/def-emayada/q1k/experimental/hsj/derivatives/pylossless/sub-10086M1/ses-01/eeg/sub-10086M1_ses-01_task-VEP_run-1_eeg.edf, File Name: sub-10086M1_ses-01_task-VEP_run-1_eeg.edf\n",
      "File Path: /project/def-emayada/q1k/experimental/hsj/derivatives/pylossless/sub-15251021F1/ses-01/eeg/sub-15251021F1_ses-01_task-VEP_run-1_eeg.edf, File Name: sub-15251021F1_ses-01_task-VEP_run-1_eeg.edf\n",
      "File Path: /project/def-emayada/q1k/experimental/hsj/derivatives/pylossless/sub-100131S1/ses-01/eeg/sub-100131S1_ses-01_task-VEP_run-1_eeg.edf, File Name: sub-100131S1_ses-01_task-VEP_run-1_eeg.edf\n",
      "File Path: /project/def-emayada/q1k/experimental/hsj/derivatives/pylossless/sub-10050M1/ses-01/eeg/sub-10050M1_ses-01_task-VEP_run-1_eeg.edf, File Name: sub-10050M1_ses-01_task-VEP_run-1_eeg.edf\n",
      "File Path: /project/def-emayada/q1k/experimental/hsj/derivatives/pylossless/sub-100119M1/ses-01/eeg/sub-100119M1_ses-01_task-VEP_run-1_eeg.edf, File Name: sub-100119M1_ses-01_task-VEP_run-1_eeg.edf\n",
      "File Path: /project/def-emayada/q1k/experimental/hsj/derivatives/pylossless/sub-100162P/ses-01/eeg/sub-100162P_ses-01_task-VEP_run-1_eeg.edf, File Name: sub-100162P_ses-01_task-VEP_run-1_eeg.edf\n",
      "File Path: /project/def-emayada/q1k/experimental/hsj/derivatives/pylossless/sub-10251061F1/ses-01/eeg/sub-10251061F1_ses-01_task-VEP_run-1_eeg.edf, File Name: sub-10251061F1_ses-01_task-VEP_run-1_eeg.edf\n",
      "File Path: /project/def-emayada/q1k/experimental/hsj/derivatives/pylossless/sub-15251024P/ses-01/eeg/sub-15251024P_ses-01_task-VEP_run-1_eeg.edf, File Name: sub-15251024P_ses-01_task-VEP_run-1_eeg.edf\n",
      "File Path: /project/def-emayada/q1k/experimental/hsj/derivatives/pylossless/sub-100111M1/ses-01/eeg/sub-100111M1_ses-01_task-VEP_run-1_eeg.edf, File Name: sub-100111M1_ses-01_task-VEP_run-1_eeg.edf\n",
      "File Path: /project/def-emayada/q1k/experimental/hsj/derivatives/pylossless/sub-10251042P/ses-01/eeg/sub-10251042P_ses-01_task-VEP_run-1_eeg.edf, File Name: sub-10251042P_ses-01_task-VEP_run-1_eeg.edf\n",
      "File Path: /project/def-emayada/q1k/experimental/hsj/derivatives/pylossless/sub-100105F1/ses-01/eeg/sub-100105F1_ses-01_task-VEP_run-1_eeg.edf, File Name: sub-100105F1_ses-01_task-VEP_run-1_eeg.edf\n",
      "File Path: /project/def-emayada/q1k/experimental/hsj/derivatives/pylossless/sub-15251006M1/ses-01/eeg/sub-15251006M1_ses-01_task-VEP_run-1_eeg.edf, File Name: sub-15251006M1_ses-01_task-VEP_run-1_eeg.edf\n",
      "File Path: /project/def-emayada/q1k/experimental/hsj/derivatives/pylossless/sub-100134F1/ses-01/eeg/sub-100134F1_ses-01_task-VEP_run-1_eeg.edf, File Name: sub-100134F1_ses-01_task-VEP_run-1_eeg.edf\n",
      "File Path: /project/def-emayada/q1k/experimental/hsj/derivatives/pylossless/sub-100162M1/ses-01/eeg/sub-100162M1_ses-01_task-VEP_run-1_eeg.edf, File Name: sub-100162M1_ses-01_task-VEP_run-1_eeg.edf\n",
      "File Path: /project/def-emayada/q1k/experimental/hsj/derivatives/pylossless/sub-10093O1/ses-01/eeg/sub-10093O1_ses-01_task-VEP_run-1_eeg.edf, File Name: sub-10093O1_ses-01_task-VEP_run-1_eeg.edf\n",
      "File Path: /project/def-emayada/q1k/experimental/hsj/derivatives/pylossless/sub-100159M1/ses-01/eeg/sub-100159M1_ses-01_task-VEP_run-1_eeg.edf, File Name: sub-100159M1_ses-01_task-VEP_run-1_eeg.edf\n",
      "File Path: /project/def-emayada/q1k/experimental/hsj/derivatives/pylossless/sub-100114F1/ses-01/eeg/sub-100114F1_ses-01_task-VEP_run-1_eeg.edf, File Name: sub-100114F1_ses-01_task-VEP_run-1_eeg.edf\n",
      "File Path: /project/def-emayada/q1k/experimental/hsj/derivatives/pylossless/sub-100152M1/ses-01/eeg/sub-100152M1_ses-01_task-VEP_run-1_eeg.edf, File Name: sub-100152M1_ses-01_task-VEP_run-1_eeg.edf\n",
      "File Path: /project/def-emayada/q1k/experimental/hsj/derivatives/pylossless/sub-15251026M1/ses-01/eeg/sub-15251026M1_ses-01_task-VEP_run-1_eeg.edf, File Name: sub-15251026M1_ses-01_task-VEP_run-1_eeg.edf\n",
      "File Path: /project/def-emayada/q1k/experimental/hsj/derivatives/pylossless/sub-100119S1/ses-01/eeg/sub-100119S1_ses-01_task-VEP_run-1_eeg.edf, File Name: sub-100119S1_ses-01_task-VEP_run-1_eeg.edf\n",
      "File Path: /project/def-emayada/q1k/experimental/hsj/derivatives/pylossless/sub-10251061S3/ses-01/eeg/sub-10251061S3_ses-01_task-VEP_run-1_eeg.edf, File Name: sub-10251061S3_ses-01_task-VEP_run-1_eeg.edf\n",
      "File Path: /project/def-emayada/q1k/experimental/hsj/derivatives/pylossless/sub-100128P/ses-01/eeg/sub-100128P_ses-01_task-VEP_run-1_eeg.edf, File Name: sub-100128P_ses-01_task-VEP_run-1_eeg.edf\n",
      "File Path: /project/def-emayada/q1k/experimental/hsj/derivatives/pylossless/sub-10086S1/ses-01/eeg/sub-10086S1_ses-01_task-VEP_run-1_eeg.edf, File Name: sub-10086S1_ses-01_task-VEP_run-1_eeg.edf\n",
      "existing output epoch files:\n",
      "File Path: /project/def-emayada/q1k/experimental/hsj/derivatives/pylossless/derivatives/postproc/epoch_fif_files/VEP/sub-100162P_ses-01_task-VEP_run-1_eeg_epo.fif, File Name: sub-100162P_ses-01_task-VEP_run-1_eeg_epo.fif\n",
      "File Path: /project/def-emayada/q1k/experimental/hsj/derivatives/pylossless/derivatives/postproc/epoch_fif_files/VEP/sub-100111M1_ses-01_task-VEP_run-1_eeg_epo.fif, File Name: sub-100111M1_ses-01_task-VEP_run-1_eeg_epo.fif\n",
      "File Path: /project/def-emayada/q1k/experimental/hsj/derivatives/pylossless/derivatives/postproc/epoch_fif_files/VEP/sub-10043F1_ses-01_task-VEP_run-1_eeg_epo.fif, File Name: sub-10043F1_ses-01_task-VEP_run-1_eeg_epo.fif\n",
      "File Path: /project/def-emayada/q1k/experimental/hsj/derivatives/pylossless/derivatives/postproc/epoch_fif_files/VEP/sub-100114P_ses-01_task-VEP_run-1_eeg_epo.fif, File Name: sub-100114P_ses-01_task-VEP_run-1_eeg_epo.fif\n",
      "File Path: /project/def-emayada/q1k/experimental/hsj/derivatives/pylossless/derivatives/postproc/epoch_fif_files/VEP/sub-100152M1_ses-01_task-VEP_run-1_eeg_epo.fif, File Name: sub-100152M1_ses-01_task-VEP_run-1_eeg_epo.fif\n",
      "File Path: /project/def-emayada/q1k/experimental/hsj/derivatives/pylossless/derivatives/postproc/epoch_fif_files/VEP/sub-100119M1_ses-01_task-VEP_run-1_eeg_epo.fif, File Name: sub-100119M1_ses-01_task-VEP_run-1_eeg_epo.fif\n",
      "File Path: /project/def-emayada/q1k/experimental/hsj/derivatives/pylossless/derivatives/postproc/epoch_fif_files/VEP/sub-10086F1_ses-01_task-VEP_run-1_eeg_epo.fif, File Name: sub-10086F1_ses-01_task-VEP_run-1_eeg_epo.fif\n",
      "File Path: /project/def-emayada/q1k/experimental/hsj/derivatives/pylossless/derivatives/postproc/epoch_fif_files/VEP/sub-10251061S3_ses-01_task-VEP_run-1_eeg_epo.fif, File Name: sub-10251061S3_ses-01_task-VEP_run-1_eeg_epo.fif\n",
      "File Path: /project/def-emayada/q1k/experimental/hsj/derivatives/pylossless/derivatives/postproc/epoch_fif_files/VEP/sub-10064M1_ses-01_task-VEP_run-1_eeg_epo.fif, File Name: sub-10064M1_ses-01_task-VEP_run-1_eeg_epo.fif\n",
      "File Path: /project/def-emayada/q1k/experimental/hsj/derivatives/pylossless/derivatives/postproc/epoch_fif_files/VEP/sub-100105M1_ses-01_task-VEP_run-1_eeg_epo.fif, File Name: sub-100105M1_ses-01_task-VEP_run-1_eeg_epo.fif\n",
      "File Path: /project/def-emayada/q1k/experimental/hsj/derivatives/pylossless/derivatives/postproc/epoch_fif_files/VEP/sub-100147P_ses-01_task-VEP_run-1_eeg_epo.fif, File Name: sub-100147P_ses-01_task-VEP_run-1_eeg_epo.fif\n",
      "File Path: /project/def-emayada/q1k/experimental/hsj/derivatives/pylossless/derivatives/postproc/epoch_fif_files/VEP/sub-10062P_ses-01_task-VEP_run-1_eeg_epo.fif, File Name: sub-10062P_ses-01_task-VEP_run-1_eeg_epo.fif\n",
      "File Path: /project/def-emayada/q1k/experimental/hsj/derivatives/pylossless/derivatives/postproc/epoch_fif_files/VEP/sub-100131P_ses-01_task-VEP_run-1_eeg_epo.fif, File Name: sub-100131P_ses-01_task-VEP_run-1_eeg_epo.fif\n",
      "File Path: /project/def-emayada/q1k/experimental/hsj/derivatives/pylossless/derivatives/postproc/epoch_fif_files/VEP/sub-100134M1_ses-01_task-VEP_run-1_eeg_epo.fif, File Name: sub-100134M1_ses-01_task-VEP_run-1_eeg_epo.fif\n",
      "File Path: /project/def-emayada/q1k/experimental/hsj/derivatives/pylossless/derivatives/postproc/epoch_fif_files/VEP/sub-10251061M_ses-01_task-VEP_run-1_eeg_epo.fif, File Name: sub-10251061M_ses-01_task-VEP_run-1_eeg_epo.fif\n",
      "File Path: /project/def-emayada/q1k/experimental/hsj/derivatives/pylossless/derivatives/postproc/epoch_fif_files/VEP/sub-10083F1_ses-01_task-VEP_run-1_eeg_epo.fif, File Name: sub-10083F1_ses-01_task-VEP_run-1_eeg_epo.fif\n",
      "File Path: /project/def-emayada/q1k/experimental/hsj/derivatives/pylossless/derivatives/postproc/epoch_fif_files/VEP/sub-10093O1_ses-01_task-VEP_run-1_eeg_epo.fif, File Name: sub-10093O1_ses-01_task-VEP_run-1_eeg_epo.fif\n",
      "File Path: /project/def-emayada/q1k/experimental/hsj/derivatives/pylossless/derivatives/postproc/epoch_fif_files/VEP/sub-100147M1_ses-01_task-VEP_run-1_eeg_epo.fif, File Name: sub-100147M1_ses-01_task-VEP_run-1_eeg_epo.fif\n",
      "File Path: /project/def-emayada/q1k/experimental/hsj/derivatives/pylossless/derivatives/postproc/epoch_fif_files/VEP/sub-10086S1_ses-01_task-VEP_run-1_eeg_epo.fif, File Name: sub-10086S1_ses-01_task-VEP_run-1_eeg_epo.fif\n",
      "File Path: /project/def-emayada/q1k/experimental/hsj/derivatives/pylossless/derivatives/postproc/epoch_fif_files/VEP/sub-10050M1_ses-01_task-VEP_run-1_eeg_epo.fif, File Name: sub-10050M1_ses-01_task-VEP_run-1_eeg_epo.fif\n",
      "File Path: /project/def-emayada/q1k/experimental/hsj/derivatives/pylossless/derivatives/postproc/epoch_fif_files/VEP/sub-10083P_ses-01_task-VEP_run-1_eeg_epo.fif, File Name: sub-10083P_ses-01_task-VEP_run-1_eeg_epo.fif\n",
      "File Path: /project/def-emayada/q1k/experimental/hsj/derivatives/pylossless/derivatives/postproc/epoch_fif_files/VEP/sub-100162M1_ses-01_task-VEP_run-1_eeg_epo.fif, File Name: sub-100162M1_ses-01_task-VEP_run-1_eeg_epo.fif\n",
      "File Path: /project/def-emayada/q1k/experimental/hsj/derivatives/pylossless/derivatives/postproc/epoch_fif_files/VEP/sub-100114M1_ses-01_task-VEP_run-1_eeg_epo.fif, File Name: sub-100114M1_ses-01_task-VEP_run-1_eeg_epo.fif\n",
      "File Path: /project/def-emayada/q1k/experimental/hsj/derivatives/pylossless/derivatives/postproc/epoch_fif_files/VEP/sub-100123F1_ses-01_task-VEP_run-1_eeg_epo.fif, File Name: sub-100123F1_ses-01_task-VEP_run-1_eeg_epo.fif\n",
      "File Path: /project/def-emayada/q1k/experimental/hsj/derivatives/pylossless/derivatives/postproc/epoch_fif_files/VEP/sub-100104P_ses-01_task-VEP_run-1_eeg_epo.fif, File Name: sub-100104P_ses-01_task-VEP_run-1_eeg_epo.fif\n",
      "File Path: /project/def-emayada/q1k/experimental/hsj/derivatives/pylossless/derivatives/postproc/epoch_fif_files/VEP/sub-100128P_ses-01_task-VEP_run-1_eeg_epo.fif, File Name: sub-100128P_ses-01_task-VEP_run-1_eeg_epo.fif\n",
      "File Path: /project/def-emayada/q1k/experimental/hsj/derivatives/pylossless/derivatives/postproc/epoch_fif_files/VEP/sub-15251026P_ses-01_task-VEP_run-1_eeg_epo.fif, File Name: sub-15251026P_ses-01_task-VEP_run-1_eeg_epo.fif\n",
      "File Path: /project/def-emayada/q1k/experimental/hsj/derivatives/pylossless/derivatives/postproc/epoch_fif_files/VEP/sub-100157M1_ses-01_task-VEP_run-1_eeg_epo.fif, File Name: sub-100157M1_ses-01_task-VEP_run-1_eeg_epo.fif\n",
      "File Path: /project/def-emayada/q1k/experimental/hsj/derivatives/pylossless/derivatives/postproc/epoch_fif_files/VEP/sub-10064S1_ses-01_task-VEP_run-1_eeg_epo.fif, File Name: sub-10064S1_ses-01_task-VEP_run-1_eeg_epo.fif\n",
      "File Path: /project/def-emayada/q1k/experimental/hsj/derivatives/pylossless/derivatives/postproc/epoch_fif_files/VEP/sub-10251042P_ses-01_task-VEP_run-1_eeg_epo.fif, File Name: sub-10251042P_ses-01_task-VEP_run-1_eeg_epo.fif\n",
      "File Path: /project/def-emayada/q1k/experimental/hsj/derivatives/pylossless/derivatives/postproc/epoch_fif_files/VEP/sub-100146P_ses-01_task-VEP_run-1_eeg_epo.fif, File Name: sub-100146P_ses-01_task-VEP_run-1_eeg_epo.fif\n",
      "File Path: /project/def-emayada/q1k/experimental/hsj/derivatives/pylossless/derivatives/postproc/epoch_fif_files/VEP/sub-100108F1_ses-01_task-VEP_run-1_eeg_epo.fif, File Name: sub-100108F1_ses-01_task-VEP_run-1_eeg_epo.fif\n",
      "File Path: /project/def-emayada/q1k/experimental/hsj/derivatives/pylossless/derivatives/postproc/epoch_fif_files/VEP/sub-15251026M1_ses-01_task-VEP_run-1_eeg_epo.fif, File Name: sub-15251026M1_ses-01_task-VEP_run-1_eeg_epo.fif\n",
      "File Path: /project/def-emayada/q1k/experimental/hsj/derivatives/pylossless/derivatives/postproc/epoch_fif_files/VEP/sub-100134S1_ses-01_task-VEP_run-1_eeg_epo.fif, File Name: sub-100134S1_ses-01_task-VEP_run-1_eeg_epo.fif\n",
      "File Path: /project/def-emayada/q1k/experimental/hsj/derivatives/pylossless/derivatives/postproc/epoch_fif_files/VEP/sub-10083M1_ses-01_task-VEP_run-1_eeg_epo.fif, File Name: sub-10083M1_ses-01_task-VEP_run-1_eeg_epo.fif\n",
      "File Path: /project/def-emayada/q1k/experimental/hsj/derivatives/pylossless/derivatives/postproc/epoch_fif_files/VEP/sub-100100F1_ses-01_task-VEP_run-1_eeg_epo.fif, File Name: sub-100100F1_ses-01_task-VEP_run-1_eeg_epo.fif\n",
      "File Path: /project/def-emayada/q1k/experimental/hsj/derivatives/pylossless/derivatives/postproc/epoch_fif_files/VEP/sub-15251024P_ses-01_task-VEP_run-1_eeg_epo.fif, File Name: sub-15251024P_ses-01_task-VEP_run-1_eeg_epo.fif\n",
      "File Path: /project/def-emayada/q1k/experimental/hsj/derivatives/pylossless/derivatives/postproc/epoch_fif_files/VEP/sub-100159M1_ses-01_task-VEP_run-1_eeg_epo.fif, File Name: sub-100159M1_ses-01_task-VEP_run-1_eeg_epo.fif\n",
      "File Path: /project/def-emayada/q1k/experimental/hsj/derivatives/pylossless/derivatives/postproc/epoch_fif_files/VEP/sub-100123M1_ses-01_task-VEP_run-1_eeg_epo.fif, File Name: sub-100123M1_ses-01_task-VEP_run-1_eeg_epo.fif\n",
      "File Path: /project/def-emayada/q1k/experimental/hsj/derivatives/pylossless/derivatives/postproc/epoch_fif_files/VEP/sub-100119S1_ses-01_task-VEP_run-1_eeg_epo.fif, File Name: sub-100119S1_ses-01_task-VEP_run-1_eeg_epo.fif\n",
      "File Path: /project/def-emayada/q1k/experimental/hsj/derivatives/pylossless/derivatives/postproc/epoch_fif_files/VEP/sub-100114F1_ses-01_task-VEP_run-1_eeg_epo.fif, File Name: sub-100114F1_ses-01_task-VEP_run-1_eeg_epo.fif\n",
      "File Path: /project/def-emayada/q1k/experimental/hsj/derivatives/pylossless/derivatives/postproc/epoch_fif_files/VEP/sub-100114S2_ses-01_task-VEP_run-1_eeg_epo.fif, File Name: sub-100114S2_ses-01_task-VEP_run-1_eeg_epo.fif\n",
      "File Path: /project/def-emayada/q1k/experimental/hsj/derivatives/pylossless/derivatives/postproc/epoch_fif_files/VEP/sub-100162S1_ses-01_task-VEP_run-1_eeg_epo.fif, File Name: sub-100162S1_ses-01_task-VEP_run-1_eeg_epo.fif\n",
      "File Path: /project/def-emayada/q1k/experimental/hsj/derivatives/pylossless/derivatives/postproc/epoch_fif_files/VEP/sub-100114S1_ses-01_task-VEP_run-1_eeg_epo.fif, File Name: sub-100114S1_ses-01_task-VEP_run-1_eeg_epo.fif\n",
      "File Path: /project/def-emayada/q1k/experimental/hsj/derivatives/pylossless/derivatives/postproc/epoch_fif_files/VEP/sub-100111F1_ses-01_task-VEP_run-1_eeg_epo.fif, File Name: sub-100111F1_ses-01_task-VEP_run-1_eeg_epo.fif\n",
      "File Path: /project/def-emayada/q1k/experimental/hsj/derivatives/pylossless/derivatives/postproc/epoch_fif_files/VEP/sub-15251006M1_ses-01_task-VEP_run-1_eeg_epo.fif, File Name: sub-15251006M1_ses-01_task-VEP_run-1_eeg_epo.fif\n",
      "File Path: /project/def-emayada/q1k/experimental/hsj/derivatives/pylossless/derivatives/postproc/epoch_fif_files/VEP/sub-10251061F1_ses-01_task-VEP_run-1_eeg_epo.fif, File Name: sub-10251061F1_ses-01_task-VEP_run-1_eeg_epo.fif\n",
      "File Path: /project/def-emayada/q1k/experimental/hsj/derivatives/pylossless/derivatives/postproc/epoch_fif_files/VEP/sub-100150M1_ses-01_task-VEP_run-1_eeg_epo.fif, File Name: sub-100150M1_ses-01_task-VEP_run-1_eeg_epo.fif\n",
      "File Path: /project/def-emayada/q1k/experimental/hsj/derivatives/pylossless/derivatives/postproc/epoch_fif_files/VEP/sub-100134F1_ses-01_task-VEP_run-1_eeg_epo.fif, File Name: sub-100134F1_ses-01_task-VEP_run-1_eeg_epo.fif\n",
      "File Path: /project/def-emayada/q1k/experimental/hsj/derivatives/pylossless/derivatives/postproc/epoch_fif_files/VEP/sub-15251021F1_ses-01_task-VEP_run-1_eeg_epo.fif, File Name: sub-15251021F1_ses-01_task-VEP_run-1_eeg_epo.fif\n",
      "File Path: /project/def-emayada/q1k/experimental/hsj/derivatives/pylossless/derivatives/postproc/epoch_fif_files/VEP/sub-100105F1_ses-01_task-VEP_run-1_eeg_epo.fif, File Name: sub-100105F1_ses-01_task-VEP_run-1_eeg_epo.fif\n",
      "File Path: /project/def-emayada/q1k/experimental/hsj/derivatives/pylossless/derivatives/postproc/epoch_fif_files/VEP/sub-10086M1_ses-01_task-VEP_run-1_eeg_epo.fif, File Name: sub-10086M1_ses-01_task-VEP_run-1_eeg_epo.fif\n",
      "File Path: /project/def-emayada/q1k/experimental/hsj/derivatives/pylossless/derivatives/postproc/epoch_fif_files/VEP/sub-10251042M1_ses-01_task-VEP_run-1_eeg_epo.fif, File Name: sub-10251042M1_ses-01_task-VEP_run-1_eeg_epo.fif\n",
      "File Path: /project/def-emayada/q1k/experimental/hsj/derivatives/pylossless/derivatives/postproc/epoch_fif_files/VEP/sub-100131S1_ses-01_task-VEP_run-1_eeg_epo.fif, File Name: sub-100131S1_ses-01_task-VEP_run-1_eeg_epo.fif\n",
      "existing output avg files:\n",
      "File Path: /project/def-emayada/q1k/experimental/hsj/derivatives/pylossless/derivatives/postproc/epoch_fif_files/VEP/sub-100162P_ses-01_task-VEP_run-1_eeg_epo.fif, File Name: sub-100162P_ses-01_task-VEP_run-1_eeg_epo.fif\n",
      "File Path: /project/def-emayada/q1k/experimental/hsj/derivatives/pylossless/derivatives/postproc/epoch_fif_files/VEP/sub-100111M1_ses-01_task-VEP_run-1_eeg_epo.fif, File Name: sub-100111M1_ses-01_task-VEP_run-1_eeg_epo.fif\n",
      "File Path: /project/def-emayada/q1k/experimental/hsj/derivatives/pylossless/derivatives/postproc/epoch_fif_files/VEP/sub-10043F1_ses-01_task-VEP_run-1_eeg_epo.fif, File Name: sub-10043F1_ses-01_task-VEP_run-1_eeg_epo.fif\n",
      "File Path: /project/def-emayada/q1k/experimental/hsj/derivatives/pylossless/derivatives/postproc/epoch_fif_files/VEP/sub-100114P_ses-01_task-VEP_run-1_eeg_epo.fif, File Name: sub-100114P_ses-01_task-VEP_run-1_eeg_epo.fif\n",
      "File Path: /project/def-emayada/q1k/experimental/hsj/derivatives/pylossless/derivatives/postproc/epoch_fif_files/VEP/sub-100152M1_ses-01_task-VEP_run-1_eeg_epo.fif, File Name: sub-100152M1_ses-01_task-VEP_run-1_eeg_epo.fif\n",
      "File Path: /project/def-emayada/q1k/experimental/hsj/derivatives/pylossless/derivatives/postproc/epoch_fif_files/VEP/sub-100119M1_ses-01_task-VEP_run-1_eeg_epo.fif, File Name: sub-100119M1_ses-01_task-VEP_run-1_eeg_epo.fif\n",
      "File Path: /project/def-emayada/q1k/experimental/hsj/derivatives/pylossless/derivatives/postproc/epoch_fif_files/VEP/sub-10086F1_ses-01_task-VEP_run-1_eeg_epo.fif, File Name: sub-10086F1_ses-01_task-VEP_run-1_eeg_epo.fif\n",
      "File Path: /project/def-emayada/q1k/experimental/hsj/derivatives/pylossless/derivatives/postproc/epoch_fif_files/VEP/sub-10251061S3_ses-01_task-VEP_run-1_eeg_epo.fif, File Name: sub-10251061S3_ses-01_task-VEP_run-1_eeg_epo.fif\n",
      "File Path: /project/def-emayada/q1k/experimental/hsj/derivatives/pylossless/derivatives/postproc/epoch_fif_files/VEP/sub-10064M1_ses-01_task-VEP_run-1_eeg_epo.fif, File Name: sub-10064M1_ses-01_task-VEP_run-1_eeg_epo.fif\n",
      "File Path: /project/def-emayada/q1k/experimental/hsj/derivatives/pylossless/derivatives/postproc/epoch_fif_files/VEP/sub-100105M1_ses-01_task-VEP_run-1_eeg_epo.fif, File Name: sub-100105M1_ses-01_task-VEP_run-1_eeg_epo.fif\n",
      "File Path: /project/def-emayada/q1k/experimental/hsj/derivatives/pylossless/derivatives/postproc/epoch_fif_files/VEP/sub-100147P_ses-01_task-VEP_run-1_eeg_epo.fif, File Name: sub-100147P_ses-01_task-VEP_run-1_eeg_epo.fif\n",
      "File Path: /project/def-emayada/q1k/experimental/hsj/derivatives/pylossless/derivatives/postproc/epoch_fif_files/VEP/sub-10062P_ses-01_task-VEP_run-1_eeg_epo.fif, File Name: sub-10062P_ses-01_task-VEP_run-1_eeg_epo.fif\n",
      "File Path: /project/def-emayada/q1k/experimental/hsj/derivatives/pylossless/derivatives/postproc/epoch_fif_files/VEP/sub-100131P_ses-01_task-VEP_run-1_eeg_epo.fif, File Name: sub-100131P_ses-01_task-VEP_run-1_eeg_epo.fif\n",
      "File Path: /project/def-emayada/q1k/experimental/hsj/derivatives/pylossless/derivatives/postproc/epoch_fif_files/VEP/sub-100134M1_ses-01_task-VEP_run-1_eeg_epo.fif, File Name: sub-100134M1_ses-01_task-VEP_run-1_eeg_epo.fif\n",
      "File Path: /project/def-emayada/q1k/experimental/hsj/derivatives/pylossless/derivatives/postproc/epoch_fif_files/VEP/sub-10251061M_ses-01_task-VEP_run-1_eeg_epo.fif, File Name: sub-10251061M_ses-01_task-VEP_run-1_eeg_epo.fif\n",
      "File Path: /project/def-emayada/q1k/experimental/hsj/derivatives/pylossless/derivatives/postproc/epoch_fif_files/VEP/sub-10083F1_ses-01_task-VEP_run-1_eeg_epo.fif, File Name: sub-10083F1_ses-01_task-VEP_run-1_eeg_epo.fif\n",
      "File Path: /project/def-emayada/q1k/experimental/hsj/derivatives/pylossless/derivatives/postproc/epoch_fif_files/VEP/sub-10093O1_ses-01_task-VEP_run-1_eeg_epo.fif, File Name: sub-10093O1_ses-01_task-VEP_run-1_eeg_epo.fif\n",
      "File Path: /project/def-emayada/q1k/experimental/hsj/derivatives/pylossless/derivatives/postproc/epoch_fif_files/VEP/sub-100147M1_ses-01_task-VEP_run-1_eeg_epo.fif, File Name: sub-100147M1_ses-01_task-VEP_run-1_eeg_epo.fif\n",
      "File Path: /project/def-emayada/q1k/experimental/hsj/derivatives/pylossless/derivatives/postproc/epoch_fif_files/VEP/sub-10086S1_ses-01_task-VEP_run-1_eeg_epo.fif, File Name: sub-10086S1_ses-01_task-VEP_run-1_eeg_epo.fif\n",
      "File Path: /project/def-emayada/q1k/experimental/hsj/derivatives/pylossless/derivatives/postproc/epoch_fif_files/VEP/sub-10050M1_ses-01_task-VEP_run-1_eeg_epo.fif, File Name: sub-10050M1_ses-01_task-VEP_run-1_eeg_epo.fif\n",
      "File Path: /project/def-emayada/q1k/experimental/hsj/derivatives/pylossless/derivatives/postproc/epoch_fif_files/VEP/sub-10083P_ses-01_task-VEP_run-1_eeg_epo.fif, File Name: sub-10083P_ses-01_task-VEP_run-1_eeg_epo.fif\n",
      "File Path: /project/def-emayada/q1k/experimental/hsj/derivatives/pylossless/derivatives/postproc/epoch_fif_files/VEP/sub-100162M1_ses-01_task-VEP_run-1_eeg_epo.fif, File Name: sub-100162M1_ses-01_task-VEP_run-1_eeg_epo.fif\n",
      "File Path: /project/def-emayada/q1k/experimental/hsj/derivatives/pylossless/derivatives/postproc/epoch_fif_files/VEP/sub-100114M1_ses-01_task-VEP_run-1_eeg_epo.fif, File Name: sub-100114M1_ses-01_task-VEP_run-1_eeg_epo.fif\n",
      "File Path: /project/def-emayada/q1k/experimental/hsj/derivatives/pylossless/derivatives/postproc/epoch_fif_files/VEP/sub-100123F1_ses-01_task-VEP_run-1_eeg_epo.fif, File Name: sub-100123F1_ses-01_task-VEP_run-1_eeg_epo.fif\n",
      "File Path: /project/def-emayada/q1k/experimental/hsj/derivatives/pylossless/derivatives/postproc/epoch_fif_files/VEP/sub-100104P_ses-01_task-VEP_run-1_eeg_epo.fif, File Name: sub-100104P_ses-01_task-VEP_run-1_eeg_epo.fif\n",
      "File Path: /project/def-emayada/q1k/experimental/hsj/derivatives/pylossless/derivatives/postproc/epoch_fif_files/VEP/sub-100128P_ses-01_task-VEP_run-1_eeg_epo.fif, File Name: sub-100128P_ses-01_task-VEP_run-1_eeg_epo.fif\n",
      "File Path: /project/def-emayada/q1k/experimental/hsj/derivatives/pylossless/derivatives/postproc/epoch_fif_files/VEP/sub-15251026P_ses-01_task-VEP_run-1_eeg_epo.fif, File Name: sub-15251026P_ses-01_task-VEP_run-1_eeg_epo.fif\n",
      "File Path: /project/def-emayada/q1k/experimental/hsj/derivatives/pylossless/derivatives/postproc/epoch_fif_files/VEP/sub-100157M1_ses-01_task-VEP_run-1_eeg_epo.fif, File Name: sub-100157M1_ses-01_task-VEP_run-1_eeg_epo.fif\n",
      "File Path: /project/def-emayada/q1k/experimental/hsj/derivatives/pylossless/derivatives/postproc/epoch_fif_files/VEP/sub-10064S1_ses-01_task-VEP_run-1_eeg_epo.fif, File Name: sub-10064S1_ses-01_task-VEP_run-1_eeg_epo.fif\n",
      "File Path: /project/def-emayada/q1k/experimental/hsj/derivatives/pylossless/derivatives/postproc/epoch_fif_files/VEP/sub-10251042P_ses-01_task-VEP_run-1_eeg_epo.fif, File Name: sub-10251042P_ses-01_task-VEP_run-1_eeg_epo.fif\n",
      "File Path: /project/def-emayada/q1k/experimental/hsj/derivatives/pylossless/derivatives/postproc/epoch_fif_files/VEP/sub-100146P_ses-01_task-VEP_run-1_eeg_epo.fif, File Name: sub-100146P_ses-01_task-VEP_run-1_eeg_epo.fif\n",
      "File Path: /project/def-emayada/q1k/experimental/hsj/derivatives/pylossless/derivatives/postproc/epoch_fif_files/VEP/sub-100108F1_ses-01_task-VEP_run-1_eeg_epo.fif, File Name: sub-100108F1_ses-01_task-VEP_run-1_eeg_epo.fif\n",
      "File Path: /project/def-emayada/q1k/experimental/hsj/derivatives/pylossless/derivatives/postproc/epoch_fif_files/VEP/sub-15251026M1_ses-01_task-VEP_run-1_eeg_epo.fif, File Name: sub-15251026M1_ses-01_task-VEP_run-1_eeg_epo.fif\n",
      "File Path: /project/def-emayada/q1k/experimental/hsj/derivatives/pylossless/derivatives/postproc/epoch_fif_files/VEP/sub-100134S1_ses-01_task-VEP_run-1_eeg_epo.fif, File Name: sub-100134S1_ses-01_task-VEP_run-1_eeg_epo.fif\n",
      "File Path: /project/def-emayada/q1k/experimental/hsj/derivatives/pylossless/derivatives/postproc/epoch_fif_files/VEP/sub-10083M1_ses-01_task-VEP_run-1_eeg_epo.fif, File Name: sub-10083M1_ses-01_task-VEP_run-1_eeg_epo.fif\n",
      "File Path: /project/def-emayada/q1k/experimental/hsj/derivatives/pylossless/derivatives/postproc/epoch_fif_files/VEP/sub-100100F1_ses-01_task-VEP_run-1_eeg_epo.fif, File Name: sub-100100F1_ses-01_task-VEP_run-1_eeg_epo.fif\n",
      "File Path: /project/def-emayada/q1k/experimental/hsj/derivatives/pylossless/derivatives/postproc/epoch_fif_files/VEP/sub-15251024P_ses-01_task-VEP_run-1_eeg_epo.fif, File Name: sub-15251024P_ses-01_task-VEP_run-1_eeg_epo.fif\n",
      "File Path: /project/def-emayada/q1k/experimental/hsj/derivatives/pylossless/derivatives/postproc/epoch_fif_files/VEP/sub-100159M1_ses-01_task-VEP_run-1_eeg_epo.fif, File Name: sub-100159M1_ses-01_task-VEP_run-1_eeg_epo.fif\n",
      "File Path: /project/def-emayada/q1k/experimental/hsj/derivatives/pylossless/derivatives/postproc/epoch_fif_files/VEP/sub-100123M1_ses-01_task-VEP_run-1_eeg_epo.fif, File Name: sub-100123M1_ses-01_task-VEP_run-1_eeg_epo.fif\n",
      "File Path: /project/def-emayada/q1k/experimental/hsj/derivatives/pylossless/derivatives/postproc/epoch_fif_files/VEP/sub-100119S1_ses-01_task-VEP_run-1_eeg_epo.fif, File Name: sub-100119S1_ses-01_task-VEP_run-1_eeg_epo.fif\n",
      "File Path: /project/def-emayada/q1k/experimental/hsj/derivatives/pylossless/derivatives/postproc/epoch_fif_files/VEP/sub-100114F1_ses-01_task-VEP_run-1_eeg_epo.fif, File Name: sub-100114F1_ses-01_task-VEP_run-1_eeg_epo.fif\n",
      "File Path: /project/def-emayada/q1k/experimental/hsj/derivatives/pylossless/derivatives/postproc/epoch_fif_files/VEP/sub-100114S2_ses-01_task-VEP_run-1_eeg_epo.fif, File Name: sub-100114S2_ses-01_task-VEP_run-1_eeg_epo.fif\n",
      "File Path: /project/def-emayada/q1k/experimental/hsj/derivatives/pylossless/derivatives/postproc/epoch_fif_files/VEP/sub-100162S1_ses-01_task-VEP_run-1_eeg_epo.fif, File Name: sub-100162S1_ses-01_task-VEP_run-1_eeg_epo.fif\n",
      "File Path: /project/def-emayada/q1k/experimental/hsj/derivatives/pylossless/derivatives/postproc/epoch_fif_files/VEP/sub-100114S1_ses-01_task-VEP_run-1_eeg_epo.fif, File Name: sub-100114S1_ses-01_task-VEP_run-1_eeg_epo.fif\n",
      "File Path: /project/def-emayada/q1k/experimental/hsj/derivatives/pylossless/derivatives/postproc/epoch_fif_files/VEP/sub-100111F1_ses-01_task-VEP_run-1_eeg_epo.fif, File Name: sub-100111F1_ses-01_task-VEP_run-1_eeg_epo.fif\n",
      "File Path: /project/def-emayada/q1k/experimental/hsj/derivatives/pylossless/derivatives/postproc/epoch_fif_files/VEP/sub-15251006M1_ses-01_task-VEP_run-1_eeg_epo.fif, File Name: sub-15251006M1_ses-01_task-VEP_run-1_eeg_epo.fif\n",
      "File Path: /project/def-emayada/q1k/experimental/hsj/derivatives/pylossless/derivatives/postproc/epoch_fif_files/VEP/sub-10251061F1_ses-01_task-VEP_run-1_eeg_epo.fif, File Name: sub-10251061F1_ses-01_task-VEP_run-1_eeg_epo.fif\n",
      "File Path: /project/def-emayada/q1k/experimental/hsj/derivatives/pylossless/derivatives/postproc/epoch_fif_files/VEP/sub-100150M1_ses-01_task-VEP_run-1_eeg_epo.fif, File Name: sub-100150M1_ses-01_task-VEP_run-1_eeg_epo.fif\n",
      "File Path: /project/def-emayada/q1k/experimental/hsj/derivatives/pylossless/derivatives/postproc/epoch_fif_files/VEP/sub-100134F1_ses-01_task-VEP_run-1_eeg_epo.fif, File Name: sub-100134F1_ses-01_task-VEP_run-1_eeg_epo.fif\n",
      "File Path: /project/def-emayada/q1k/experimental/hsj/derivatives/pylossless/derivatives/postproc/epoch_fif_files/VEP/sub-15251021F1_ses-01_task-VEP_run-1_eeg_epo.fif, File Name: sub-15251021F1_ses-01_task-VEP_run-1_eeg_epo.fif\n",
      "File Path: /project/def-emayada/q1k/experimental/hsj/derivatives/pylossless/derivatives/postproc/epoch_fif_files/VEP/sub-100105F1_ses-01_task-VEP_run-1_eeg_epo.fif, File Name: sub-100105F1_ses-01_task-VEP_run-1_eeg_epo.fif\n",
      "File Path: /project/def-emayada/q1k/experimental/hsj/derivatives/pylossless/derivatives/postproc/epoch_fif_files/VEP/sub-10086M1_ses-01_task-VEP_run-1_eeg_epo.fif, File Name: sub-10086M1_ses-01_task-VEP_run-1_eeg_epo.fif\n",
      "File Path: /project/def-emayada/q1k/experimental/hsj/derivatives/pylossless/derivatives/postproc/epoch_fif_files/VEP/sub-10251042M1_ses-01_task-VEP_run-1_eeg_epo.fif, File Name: sub-10251042M1_ses-01_task-VEP_run-1_eeg_epo.fif\n",
      "File Path: /project/def-emayada/q1k/experimental/hsj/derivatives/pylossless/derivatives/postproc/epoch_fif_files/VEP/sub-100131S1_ses-01_task-VEP_run-1_eeg_epo.fif, File Name: sub-100131S1_ses-01_task-VEP_run-1_eeg_epo.fif\n"
     ]
    }
   ],
   "source": [
    "# Function to extract details from filename\n",
    "def extract_job_info(filename):\n",
    "    # Define the pattern to capture the required sections\n",
    "    pattern = r\"sub-(.*?)_ses-(.*?)_task-(.*?)_run-(.*?)_eeg\\.edf\"\n",
    "    match = re.match(pattern, filename)\n",
    "\n",
    "    if match:\n",
    "        # Extract the groups from the match\n",
    "        subject_id = match.group(1)\n",
    "        session_id = match.group(2)\n",
    "        task_id = match.group(3)\n",
    "        run_id = match.group(4)\n",
    "        return subject_id, session_id, task_id, run_id\n",
    "    else:\n",
    "        raise ValueError(\"Filename pattern did not match.\")\n",
    "\n",
    "\n",
    "in_pattern = project_path + pyll_path + '**/eeg/*' + task_id_out + '*.edf'\n",
    "in_file_paths = glob.glob(in_pattern, recursive=True)\n",
    "print(f\"Input files:\")\n",
    "for file_path in in_file_paths:\n",
    "    file_name = os.path.basename(file_path)  # Extract the filename from the full path\n",
    "    print(f\"File Path: {file_path}, File Name: {file_name}\")\n",
    "\n",
    "    \n",
    "# Make sure the output directories exists\n",
    "if not os.path.exists(project_path + pyll_path + post_path + out_seg_path + task_id_out):\n",
    "    os.makedirs(project_path + pyll_path + post_path + out_seg_path + task_id_out)\n",
    "if not os.path.exists(project_path + pyll_path + post_path + out_avg_path + task_id_out):\n",
    "    os.makedirs(project_path + pyll_path + post_path + out_avg_path + task_id_out)\n",
    "    \n",
    "out_seg_pattern = project_path + pyll_path + post_path + out_seg_path + task_id_out + '/*' + task_id_out + '*epo.fif'\n",
    "out_seg_file_paths = glob.glob(out_seg_pattern, recursive=True)\n",
    "print(f\"existing output epoch files:\")\n",
    "for file_path in out_seg_file_paths:\n",
    "    file_name = os.path.basename(file_path)  # Extract the filename from the full path\n",
    "    print(f\"File Path: {file_path}, File Name: {file_name}\")\n",
    "\n",
    "out_avg_pattern = project_path + pyll_path + post_path + out_avg_path + task_id_out + '/*' + task_id_out + '*epo.fif'\n",
    "out_avg_file_paths = glob.glob(out_seg_pattern, recursive=True)\n",
    "print(f\"existing output avg files:\")\n",
    "for file_path in out_avg_file_paths:\n",
    "    file_name = os.path.basename(file_path)  # Extract the filename from the full path\n",
    "    print(f\"File Path: {file_path}, File Name: {file_name}\")\n",
    "\n",
    "    #submit_slurm_job(project_path, file_name)"
   ]
  },
  {
   "cell_type": "markdown",
   "metadata": {},
   "source": [
    "## Generate html session reports for all participants"
   ]
  },
  {
   "cell_type": "code",
   "execution_count": 5,
   "metadata": {},
   "outputs": [
    {
     "name": "stdout",
     "output_type": "stream",
     "text": [
      "Current data file: sub-100114M1_ses-01_task-VEP_run-1_eeg.edf\n",
      "Participant ID: 100114M1\n",
      "100114M1\n",
      "Output notebook file: /project/def-emayada/q1k/experimental/hsj/derivatives/pylossless/derivatives/postproc/session_reports/executed_notebooks/100114M1_VEP_executed.ipynb\n",
      "Output HTML file: /project/def-emayada/q1k/experimental/hsj/derivatives/pylossless/derivatives/postproc/session_reports/VEP/100114M1_VEP.html\n"
     ]
    },
    {
     "name": "stderr",
     "output_type": "stream",
     "text": [
      "Executing: 100%|██████████| 26/26 [00:18<00:00,  1.41cell/s]\n"
     ]
    },
    {
     "name": "stdout",
     "output_type": "stream",
     "text": [
      "HTML report saved for 100114M1.\n",
      "Current data file: sub-10251061M_ses-01_task-VEP_run-1_eeg.edf\n",
      "Participant ID: 10251061M\n",
      "10251061M\n",
      "Output notebook file: /project/def-emayada/q1k/experimental/hsj/derivatives/pylossless/derivatives/postproc/session_reports/executed_notebooks/10251061M_VEP_executed.ipynb\n",
      "Output HTML file: /project/def-emayada/q1k/experimental/hsj/derivatives/pylossless/derivatives/postproc/session_reports/VEP/10251061M_VEP.html\n"
     ]
    },
    {
     "name": "stderr",
     "output_type": "stream",
     "text": [
      "Executing: 100%|██████████| 26/26 [00:15<00:00,  1.68cell/s]\n"
     ]
    },
    {
     "name": "stdout",
     "output_type": "stream",
     "text": [
      "HTML report saved for 10251061M.\n",
      "Current data file: sub-100100F1_ses-01_task-VEP_run-1_eeg.edf\n",
      "Participant ID: 100100F1\n",
      "100100F1\n",
      "Output notebook file: /project/def-emayada/q1k/experimental/hsj/derivatives/pylossless/derivatives/postproc/session_reports/executed_notebooks/100100F1_VEP_executed.ipynb\n",
      "Output HTML file: /project/def-emayada/q1k/experimental/hsj/derivatives/pylossless/derivatives/postproc/session_reports/VEP/100100F1_VEP.html\n"
     ]
    },
    {
     "name": "stderr",
     "output_type": "stream",
     "text": [
      "Executing: 100%|██████████| 26/26 [00:11<00:00,  2.19cell/s]\n"
     ]
    },
    {
     "name": "stdout",
     "output_type": "stream",
     "text": [
      "HTML report saved for 100100F1.\n",
      "Current data file: sub-100146P_ses-01_task-VEP_run-1_eeg.edf\n",
      "Participant ID: 100146P\n",
      "100146P\n",
      "Output notebook file: /project/def-emayada/q1k/experimental/hsj/derivatives/pylossless/derivatives/postproc/session_reports/executed_notebooks/100146P_VEP_executed.ipynb\n",
      "Output HTML file: /project/def-emayada/q1k/experimental/hsj/derivatives/pylossless/derivatives/postproc/session_reports/VEP/100146P_VEP.html\n"
     ]
    },
    {
     "name": "stderr",
     "output_type": "stream",
     "text": [
      "Executing: 100%|██████████| 26/26 [00:14<00:00,  1.78cell/s]\n"
     ]
    },
    {
     "name": "stdout",
     "output_type": "stream",
     "text": [
      "HTML report saved for 100146P.\n",
      "Current data file: sub-15251026P_ses-01_task-VEP_run-1_eeg.edf\n",
      "Participant ID: 15251026P\n",
      "15251026P\n",
      "Output notebook file: /project/def-emayada/q1k/experimental/hsj/derivatives/pylossless/derivatives/postproc/session_reports/executed_notebooks/15251026P_VEP_executed.ipynb\n",
      "Output HTML file: /project/def-emayada/q1k/experimental/hsj/derivatives/pylossless/derivatives/postproc/session_reports/VEP/15251026P_VEP.html\n"
     ]
    },
    {
     "name": "stderr",
     "output_type": "stream",
     "text": [
      "Executing: 100%|██████████| 26/26 [00:14<00:00,  1.82cell/s]\n"
     ]
    },
    {
     "name": "stdout",
     "output_type": "stream",
     "text": [
      "HTML report saved for 15251026P.\n",
      "Current data file: sub-10043F1_ses-01_task-VEP_run-1_eeg.edf\n",
      "Participant ID: 10043F1\n",
      "10043F1\n",
      "Output notebook file: /project/def-emayada/q1k/experimental/hsj/derivatives/pylossless/derivatives/postproc/session_reports/executed_notebooks/10043F1_VEP_executed.ipynb\n",
      "Output HTML file: /project/def-emayada/q1k/experimental/hsj/derivatives/pylossless/derivatives/postproc/session_reports/VEP/10043F1_VEP.html\n"
     ]
    },
    {
     "name": "stderr",
     "output_type": "stream",
     "text": [
      "Executing: 100%|██████████| 26/26 [00:14<00:00,  1.80cell/s]\n"
     ]
    },
    {
     "name": "stdout",
     "output_type": "stream",
     "text": [
      "HTML report saved for 10043F1.\n",
      "Current data file: sub-10251042M1_ses-01_task-VEP_run-1_eeg.edf\n",
      "Participant ID: 10251042M1\n",
      "10251042M1\n",
      "Output notebook file: /project/def-emayada/q1k/experimental/hsj/derivatives/pylossless/derivatives/postproc/session_reports/executed_notebooks/10251042M1_VEP_executed.ipynb\n",
      "Output HTML file: /project/def-emayada/q1k/experimental/hsj/derivatives/pylossless/derivatives/postproc/session_reports/VEP/10251042M1_VEP.html\n"
     ]
    },
    {
     "name": "stderr",
     "output_type": "stream",
     "text": [
      "Executing: 100%|██████████| 26/26 [00:14<00:00,  1.82cell/s]\n"
     ]
    },
    {
     "name": "stdout",
     "output_type": "stream",
     "text": [
      "HTML report saved for 10251042M1.\n",
      "Current data file: sub-10083P_ses-01_task-VEP_run-1_eeg.edf\n",
      "Participant ID: 10083P\n",
      "10083P\n",
      "Output notebook file: /project/def-emayada/q1k/experimental/hsj/derivatives/pylossless/derivatives/postproc/session_reports/executed_notebooks/10083P_VEP_executed.ipynb\n",
      "Output HTML file: /project/def-emayada/q1k/experimental/hsj/derivatives/pylossless/derivatives/postproc/session_reports/VEP/10083P_VEP.html\n"
     ]
    },
    {
     "name": "stderr",
     "output_type": "stream",
     "text": [
      "Executing: 100%|██████████| 26/26 [00:15<00:00,  1.64cell/s]\n"
     ]
    },
    {
     "name": "stdout",
     "output_type": "stream",
     "text": [
      "HTML report saved for 10083P.\n",
      "Current data file: sub-10064S1_ses-01_task-VEP_run-1_eeg.edf\n",
      "Participant ID: 10064S1\n",
      "10064S1\n",
      "Output notebook file: /project/def-emayada/q1k/experimental/hsj/derivatives/pylossless/derivatives/postproc/session_reports/executed_notebooks/10064S1_VEP_executed.ipynb\n",
      "Output HTML file: /project/def-emayada/q1k/experimental/hsj/derivatives/pylossless/derivatives/postproc/session_reports/VEP/10064S1_VEP.html\n"
     ]
    },
    {
     "name": "stderr",
     "output_type": "stream",
     "text": [
      "Executing: 100%|██████████| 26/26 [00:13<00:00,  1.87cell/s]\n"
     ]
    },
    {
     "name": "stdout",
     "output_type": "stream",
     "text": [
      "HTML report saved for 10064S1.\n",
      "Current data file: sub-100105M1_ses-01_task-VEP_run-1_eeg.edf\n",
      "Participant ID: 100105M1\n",
      "100105M1\n",
      "Output notebook file: /project/def-emayada/q1k/experimental/hsj/derivatives/pylossless/derivatives/postproc/session_reports/executed_notebooks/100105M1_VEP_executed.ipynb\n",
      "Output HTML file: /project/def-emayada/q1k/experimental/hsj/derivatives/pylossless/derivatives/postproc/session_reports/VEP/100105M1_VEP.html\n"
     ]
    },
    {
     "name": "stderr",
     "output_type": "stream",
     "text": [
      "Executing: 100%|██████████| 26/26 [00:16<00:00,  1.56cell/s]\n"
     ]
    },
    {
     "name": "stdout",
     "output_type": "stream",
     "text": [
      "HTML report saved for 100105M1.\n",
      "Current data file: sub-100111F1_ses-01_task-VEP_run-1_eeg.edf\n",
      "Participant ID: 100111F1\n",
      "100111F1\n",
      "Output notebook file: /project/def-emayada/q1k/experimental/hsj/derivatives/pylossless/derivatives/postproc/session_reports/executed_notebooks/100111F1_VEP_executed.ipynb\n",
      "Output HTML file: /project/def-emayada/q1k/experimental/hsj/derivatives/pylossless/derivatives/postproc/session_reports/VEP/100111F1_VEP.html\n"
     ]
    },
    {
     "name": "stderr",
     "output_type": "stream",
     "text": [
      "Executing: 100%|██████████| 26/26 [00:15<00:00,  1.68cell/s]\n"
     ]
    },
    {
     "name": "stdout",
     "output_type": "stream",
     "text": [
      "HTML report saved for 100111F1.\n",
      "Current data file: sub-100147M1_ses-01_task-VEP_run-1_eeg.edf\n",
      "Participant ID: 100147M1\n",
      "100147M1\n",
      "Output notebook file: /project/def-emayada/q1k/experimental/hsj/derivatives/pylossless/derivatives/postproc/session_reports/executed_notebooks/100147M1_VEP_executed.ipynb\n",
      "Output HTML file: /project/def-emayada/q1k/experimental/hsj/derivatives/pylossless/derivatives/postproc/session_reports/VEP/100147M1_VEP.html\n"
     ]
    },
    {
     "name": "stderr",
     "output_type": "stream",
     "text": [
      "Executing: 100%|██████████| 26/26 [00:13<00:00,  1.89cell/s]\n"
     ]
    },
    {
     "name": "stdout",
     "output_type": "stream",
     "text": [
      "HTML report saved for 100147M1.\n",
      "Current data file: sub-100157M1_ses-01_task-VEP_run-1_eeg.edf\n",
      "Participant ID: 100157M1\n",
      "100157M1\n",
      "Output notebook file: /project/def-emayada/q1k/experimental/hsj/derivatives/pylossless/derivatives/postproc/session_reports/executed_notebooks/100157M1_VEP_executed.ipynb\n",
      "Output HTML file: /project/def-emayada/q1k/experimental/hsj/derivatives/pylossless/derivatives/postproc/session_reports/VEP/100157M1_VEP.html\n"
     ]
    },
    {
     "name": "stderr",
     "output_type": "stream",
     "text": [
      "Executing: 100%|██████████| 26/26 [00:14<00:00,  1.85cell/s]\n"
     ]
    },
    {
     "name": "stdout",
     "output_type": "stream",
     "text": [
      "HTML report saved for 100157M1.\n",
      "Current data file: sub-100134M1_ses-01_task-VEP_run-1_eeg.edf\n",
      "Participant ID: 100134M1\n",
      "100134M1\n",
      "Output notebook file: /project/def-emayada/q1k/experimental/hsj/derivatives/pylossless/derivatives/postproc/session_reports/executed_notebooks/100134M1_VEP_executed.ipynb\n",
      "Output HTML file: /project/def-emayada/q1k/experimental/hsj/derivatives/pylossless/derivatives/postproc/session_reports/VEP/100134M1_VEP.html\n"
     ]
    },
    {
     "name": "stderr",
     "output_type": "stream",
     "text": [
      "Executing: 100%|██████████| 26/26 [00:17<00:00,  1.49cell/s]\n"
     ]
    },
    {
     "name": "stdout",
     "output_type": "stream",
     "text": [
      "HTML report saved for 100134M1.\n",
      "Current data file: sub-10086F1_ses-01_task-VEP_run-1_eeg.edf\n",
      "Participant ID: 10086F1\n",
      "10086F1\n",
      "Output notebook file: /project/def-emayada/q1k/experimental/hsj/derivatives/pylossless/derivatives/postproc/session_reports/executed_notebooks/10086F1_VEP_executed.ipynb\n",
      "Output HTML file: /project/def-emayada/q1k/experimental/hsj/derivatives/pylossless/derivatives/postproc/session_reports/VEP/10086F1_VEP.html\n"
     ]
    },
    {
     "name": "stderr",
     "output_type": "stream",
     "text": [
      "Executing: 100%|██████████| 26/26 [00:17<00:00,  1.50cell/s]\n"
     ]
    },
    {
     "name": "stdout",
     "output_type": "stream",
     "text": [
      "HTML report saved for 10086F1.\n",
      "Current data file: sub-100104P_ses-01_task-VEP_run-1_eeg.edf\n",
      "Participant ID: 100104P\n",
      "100104P\n",
      "Output notebook file: /project/def-emayada/q1k/experimental/hsj/derivatives/pylossless/derivatives/postproc/session_reports/executed_notebooks/100104P_VEP_executed.ipynb\n",
      "Output HTML file: /project/def-emayada/q1k/experimental/hsj/derivatives/pylossless/derivatives/postproc/session_reports/VEP/100104P_VEP.html\n"
     ]
    },
    {
     "name": "stderr",
     "output_type": "stream",
     "text": [
      "Executing: 100%|██████████| 26/26 [00:14<00:00,  1.82cell/s]\n"
     ]
    },
    {
     "name": "stdout",
     "output_type": "stream",
     "text": [
      "HTML report saved for 100104P.\n",
      "Current data file: sub-100147P_ses-01_task-VEP_run-1_eeg.edf\n",
      "Participant ID: 100147P\n",
      "100147P\n",
      "Output notebook file: /project/def-emayada/q1k/experimental/hsj/derivatives/pylossless/derivatives/postproc/session_reports/executed_notebooks/100147P_VEP_executed.ipynb\n",
      "Output HTML file: /project/def-emayada/q1k/experimental/hsj/derivatives/pylossless/derivatives/postproc/session_reports/VEP/100147P_VEP.html\n"
     ]
    },
    {
     "name": "stderr",
     "output_type": "stream",
     "text": [
      "Executing: 100%|██████████| 26/26 [00:13<00:00,  1.87cell/s]\n"
     ]
    },
    {
     "name": "stdout",
     "output_type": "stream",
     "text": [
      "HTML report saved for 100147P.\n",
      "Current data file: sub-100114S1_ses-01_task-VEP_run-1_eeg.edf\n",
      "Participant ID: 100114S1\n",
      "100114S1\n",
      "Output notebook file: /project/def-emayada/q1k/experimental/hsj/derivatives/pylossless/derivatives/postproc/session_reports/executed_notebooks/100114S1_VEP_executed.ipynb\n",
      "Output HTML file: /project/def-emayada/q1k/experimental/hsj/derivatives/pylossless/derivatives/postproc/session_reports/VEP/100114S1_VEP.html\n"
     ]
    },
    {
     "name": "stderr",
     "output_type": "stream",
     "text": [
      "Executing: 100%|██████████| 26/26 [00:16<00:00,  1.57cell/s]\n"
     ]
    },
    {
     "name": "stdout",
     "output_type": "stream",
     "text": [
      "HTML report saved for 100114S1.\n",
      "Current data file: sub-100108F1_ses-01_task-VEP_run-1_eeg.edf\n",
      "Participant ID: 100108F1\n",
      "100108F1\n",
      "Output notebook file: /project/def-emayada/q1k/experimental/hsj/derivatives/pylossless/derivatives/postproc/session_reports/executed_notebooks/100108F1_VEP_executed.ipynb\n",
      "Output HTML file: /project/def-emayada/q1k/experimental/hsj/derivatives/pylossless/derivatives/postproc/session_reports/VEP/100108F1_VEP.html\n"
     ]
    },
    {
     "name": "stderr",
     "output_type": "stream",
     "text": [
      "Executing: 100%|██████████| 26/26 [00:16<00:00,  1.53cell/s]\n"
     ]
    },
    {
     "name": "stdout",
     "output_type": "stream",
     "text": [
      "HTML report saved for 100108F1.\n",
      "Current data file: sub-10083M1_ses-01_task-VEP_run-1_eeg.edf\n",
      "Participant ID: 10083M1\n",
      "10083M1\n",
      "Output notebook file: /project/def-emayada/q1k/experimental/hsj/derivatives/pylossless/derivatives/postproc/session_reports/executed_notebooks/10083M1_VEP_executed.ipynb\n",
      "Output HTML file: /project/def-emayada/q1k/experimental/hsj/derivatives/pylossless/derivatives/postproc/session_reports/VEP/10083M1_VEP.html\n"
     ]
    },
    {
     "name": "stderr",
     "output_type": "stream",
     "text": [
      "Executing: 100%|██████████| 26/26 [00:17<00:00,  1.45cell/s]\n"
     ]
    },
    {
     "name": "stdout",
     "output_type": "stream",
     "text": [
      "HTML report saved for 10083M1.\n",
      "Current data file: sub-100134S1_ses-01_task-VEP_run-1_eeg.edf\n",
      "Participant ID: 100134S1\n",
      "100134S1\n",
      "Output notebook file: /project/def-emayada/q1k/experimental/hsj/derivatives/pylossless/derivatives/postproc/session_reports/executed_notebooks/100134S1_VEP_executed.ipynb\n",
      "Output HTML file: /project/def-emayada/q1k/experimental/hsj/derivatives/pylossless/derivatives/postproc/session_reports/VEP/100134S1_VEP.html\n"
     ]
    },
    {
     "name": "stderr",
     "output_type": "stream",
     "text": [
      "Executing: 100%|██████████| 26/26 [00:16<00:00,  1.59cell/s]\n"
     ]
    },
    {
     "name": "stdout",
     "output_type": "stream",
     "text": [
      "HTML report saved for 100134S1.\n",
      "Current data file: sub-100114P_ses-01_task-VEP_run-1_eeg.edf\n",
      "Participant ID: 100114P\n",
      "100114P\n",
      "Output notebook file: /project/def-emayada/q1k/experimental/hsj/derivatives/pylossless/derivatives/postproc/session_reports/executed_notebooks/100114P_VEP_executed.ipynb\n",
      "Output HTML file: /project/def-emayada/q1k/experimental/hsj/derivatives/pylossless/derivatives/postproc/session_reports/VEP/100114P_VEP.html\n"
     ]
    },
    {
     "name": "stderr",
     "output_type": "stream",
     "text": [
      "Executing: 100%|██████████| 26/26 [00:16<00:00,  1.60cell/s]\n"
     ]
    },
    {
     "name": "stdout",
     "output_type": "stream",
     "text": [
      "HTML report saved for 100114P.\n",
      "Current data file: sub-100123F1_ses-01_task-VEP_run-1_eeg.edf\n",
      "Participant ID: 100123F1\n",
      "100123F1\n",
      "Output notebook file: /project/def-emayada/q1k/experimental/hsj/derivatives/pylossless/derivatives/postproc/session_reports/executed_notebooks/100123F1_VEP_executed.ipynb\n",
      "Output HTML file: /project/def-emayada/q1k/experimental/hsj/derivatives/pylossless/derivatives/postproc/session_reports/VEP/100123F1_VEP.html\n"
     ]
    },
    {
     "name": "stderr",
     "output_type": "stream",
     "text": [
      "Executing: 100%|██████████| 26/26 [00:17<00:00,  1.53cell/s]\n"
     ]
    },
    {
     "name": "stdout",
     "output_type": "stream",
     "text": [
      "HTML report saved for 100123F1.\n",
      "Current data file: sub-10064M1_ses-01_task-VEP_run-1_eeg.edf\n",
      "Participant ID: 10064M1\n",
      "10064M1\n",
      "Output notebook file: /project/def-emayada/q1k/experimental/hsj/derivatives/pylossless/derivatives/postproc/session_reports/executed_notebooks/10064M1_VEP_executed.ipynb\n",
      "Output HTML file: /project/def-emayada/q1k/experimental/hsj/derivatives/pylossless/derivatives/postproc/session_reports/VEP/10064M1_VEP.html\n"
     ]
    },
    {
     "name": "stderr",
     "output_type": "stream",
     "text": [
      "Executing: 100%|██████████| 26/26 [00:14<00:00,  1.76cell/s]\n"
     ]
    },
    {
     "name": "stdout",
     "output_type": "stream",
     "text": [
      "HTML report saved for 10064M1.\n",
      "Current data file: sub-100131P_ses-01_task-VEP_run-1_eeg.edf\n",
      "Participant ID: 100131P\n",
      "100131P\n",
      "Output notebook file: /project/def-emayada/q1k/experimental/hsj/derivatives/pylossless/derivatives/postproc/session_reports/executed_notebooks/100131P_VEP_executed.ipynb\n",
      "Output HTML file: /project/def-emayada/q1k/experimental/hsj/derivatives/pylossless/derivatives/postproc/session_reports/VEP/100131P_VEP.html\n"
     ]
    },
    {
     "name": "stderr",
     "output_type": "stream",
     "text": [
      "Executing: 100%|██████████| 26/26 [00:16<00:00,  1.62cell/s]\n"
     ]
    },
    {
     "name": "stdout",
     "output_type": "stream",
     "text": [
      "HTML report saved for 100131P.\n",
      "Current data file: sub-100162S1_ses-01_task-VEP_run-1_eeg.edf\n",
      "Participant ID: 100162S1\n",
      "100162S1\n",
      "Output notebook file: /project/def-emayada/q1k/experimental/hsj/derivatives/pylossless/derivatives/postproc/session_reports/executed_notebooks/100162S1_VEP_executed.ipynb\n",
      "Output HTML file: /project/def-emayada/q1k/experimental/hsj/derivatives/pylossless/derivatives/postproc/session_reports/VEP/100162S1_VEP.html\n"
     ]
    },
    {
     "name": "stderr",
     "output_type": "stream",
     "text": [
      "Executing: 100%|██████████| 26/26 [00:13<00:00,  1.88cell/s]\n"
     ]
    },
    {
     "name": "stdout",
     "output_type": "stream",
     "text": [
      "HTML report saved for 100162S1.\n",
      "Current data file: sub-100150M1_ses-01_task-VEP_run-1_eeg.edf\n",
      "Participant ID: 100150M1\n",
      "100150M1\n",
      "Output notebook file: /project/def-emayada/q1k/experimental/hsj/derivatives/pylossless/derivatives/postproc/session_reports/executed_notebooks/100150M1_VEP_executed.ipynb\n",
      "Output HTML file: /project/def-emayada/q1k/experimental/hsj/derivatives/pylossless/derivatives/postproc/session_reports/VEP/100150M1_VEP.html\n"
     ]
    },
    {
     "name": "stderr",
     "output_type": "stream",
     "text": [
      "Executing: 100%|██████████| 26/26 [00:14<00:00,  1.80cell/s]\n"
     ]
    },
    {
     "name": "stdout",
     "output_type": "stream",
     "text": [
      "HTML report saved for 100150M1.\n",
      "Current data file: sub-10083F1_ses-01_task-VEP_run-1_eeg.edf\n",
      "Participant ID: 10083F1\n",
      "10083F1\n",
      "Output notebook file: /project/def-emayada/q1k/experimental/hsj/derivatives/pylossless/derivatives/postproc/session_reports/executed_notebooks/10083F1_VEP_executed.ipynb\n",
      "Output HTML file: /project/def-emayada/q1k/experimental/hsj/derivatives/pylossless/derivatives/postproc/session_reports/VEP/10083F1_VEP.html\n"
     ]
    },
    {
     "name": "stderr",
     "output_type": "stream",
     "text": [
      "Executing: 100%|██████████| 26/26 [00:16<00:00,  1.54cell/s]\n"
     ]
    },
    {
     "name": "stdout",
     "output_type": "stream",
     "text": [
      "HTML report saved for 10083F1.\n",
      "Current data file: sub-100123M1_ses-01_task-VEP_run-1_eeg.edf\n",
      "Participant ID: 100123M1\n",
      "100123M1\n",
      "Output notebook file: /project/def-emayada/q1k/experimental/hsj/derivatives/pylossless/derivatives/postproc/session_reports/executed_notebooks/100123M1_VEP_executed.ipynb\n",
      "Output HTML file: /project/def-emayada/q1k/experimental/hsj/derivatives/pylossless/derivatives/postproc/session_reports/VEP/100123M1_VEP.html\n"
     ]
    },
    {
     "name": "stderr",
     "output_type": "stream",
     "text": [
      "Executing: 100%|██████████| 26/26 [00:21<00:00,  1.23cell/s]\n"
     ]
    },
    {
     "name": "stdout",
     "output_type": "stream",
     "text": [
      "HTML report saved for 100123M1.\n",
      "Current data file: sub-10062P_ses-01_task-VEP_run-1_eeg.edf\n",
      "Participant ID: 10062P\n",
      "10062P\n",
      "Output notebook file: /project/def-emayada/q1k/experimental/hsj/derivatives/pylossless/derivatives/postproc/session_reports/executed_notebooks/10062P_VEP_executed.ipynb\n",
      "Output HTML file: /project/def-emayada/q1k/experimental/hsj/derivatives/pylossless/derivatives/postproc/session_reports/VEP/10062P_VEP.html\n"
     ]
    },
    {
     "name": "stderr",
     "output_type": "stream",
     "text": [
      "Executing: 100%|██████████| 26/26 [00:24<00:00,  1.08cell/s]\n"
     ]
    },
    {
     "name": "stdout",
     "output_type": "stream",
     "text": [
      "HTML report saved for 10062P.\n",
      "Current data file: sub-10086M1_ses-01_task-VEP_run-1_eeg.edf\n",
      "Participant ID: 10086M1\n",
      "10086M1\n",
      "Output notebook file: /project/def-emayada/q1k/experimental/hsj/derivatives/pylossless/derivatives/postproc/session_reports/executed_notebooks/10086M1_VEP_executed.ipynb\n",
      "Output HTML file: /project/def-emayada/q1k/experimental/hsj/derivatives/pylossless/derivatives/postproc/session_reports/VEP/10086M1_VEP.html\n"
     ]
    },
    {
     "name": "stderr",
     "output_type": "stream",
     "text": [
      "Executing: 100%|██████████| 26/26 [00:16<00:00,  1.56cell/s]\n"
     ]
    },
    {
     "name": "stdout",
     "output_type": "stream",
     "text": [
      "HTML report saved for 10086M1.\n",
      "Current data file: sub-15251021F1_ses-01_task-VEP_run-1_eeg.edf\n",
      "Participant ID: 15251021F1\n",
      "15251021F1\n",
      "Output notebook file: /project/def-emayada/q1k/experimental/hsj/derivatives/pylossless/derivatives/postproc/session_reports/executed_notebooks/15251021F1_VEP_executed.ipynb\n",
      "Output HTML file: /project/def-emayada/q1k/experimental/hsj/derivatives/pylossless/derivatives/postproc/session_reports/VEP/15251021F1_VEP.html\n"
     ]
    },
    {
     "name": "stderr",
     "output_type": "stream",
     "text": [
      "Executing: 100%|██████████| 26/26 [00:14<00:00,  1.78cell/s]\n"
     ]
    },
    {
     "name": "stdout",
     "output_type": "stream",
     "text": [
      "HTML report saved for 15251021F1.\n",
      "Current data file: sub-100131S1_ses-01_task-VEP_run-1_eeg.edf\n",
      "Participant ID: 100131S1\n",
      "100131S1\n",
      "Output notebook file: /project/def-emayada/q1k/experimental/hsj/derivatives/pylossless/derivatives/postproc/session_reports/executed_notebooks/100131S1_VEP_executed.ipynb\n",
      "Output HTML file: /project/def-emayada/q1k/experimental/hsj/derivatives/pylossless/derivatives/postproc/session_reports/VEP/100131S1_VEP.html\n"
     ]
    },
    {
     "name": "stderr",
     "output_type": "stream",
     "text": [
      "Executing: 100%|██████████| 26/26 [00:15<00:00,  1.66cell/s]\n"
     ]
    },
    {
     "name": "stdout",
     "output_type": "stream",
     "text": [
      "HTML report saved for 100131S1.\n",
      "Current data file: sub-10050M1_ses-01_task-VEP_run-1_eeg.edf\n",
      "Participant ID: 10050M1\n",
      "10050M1\n",
      "Output notebook file: /project/def-emayada/q1k/experimental/hsj/derivatives/pylossless/derivatives/postproc/session_reports/executed_notebooks/10050M1_VEP_executed.ipynb\n",
      "Output HTML file: /project/def-emayada/q1k/experimental/hsj/derivatives/pylossless/derivatives/postproc/session_reports/VEP/10050M1_VEP.html\n"
     ]
    },
    {
     "name": "stderr",
     "output_type": "stream",
     "text": [
      "Executing: 100%|██████████| 26/26 [00:14<00:00,  1.78cell/s]\n"
     ]
    },
    {
     "name": "stdout",
     "output_type": "stream",
     "text": [
      "HTML report saved for 10050M1.\n",
      "Current data file: sub-100119M1_ses-01_task-VEP_run-1_eeg.edf\n",
      "Participant ID: 100119M1\n",
      "100119M1\n",
      "Output notebook file: /project/def-emayada/q1k/experimental/hsj/derivatives/pylossless/derivatives/postproc/session_reports/executed_notebooks/100119M1_VEP_executed.ipynb\n",
      "Output HTML file: /project/def-emayada/q1k/experimental/hsj/derivatives/pylossless/derivatives/postproc/session_reports/VEP/100119M1_VEP.html\n"
     ]
    },
    {
     "name": "stderr",
     "output_type": "stream",
     "text": [
      "Executing: 100%|██████████| 26/26 [00:13<00:00,  1.87cell/s]\n"
     ]
    },
    {
     "name": "stdout",
     "output_type": "stream",
     "text": [
      "HTML report saved for 100119M1.\n",
      "Current data file: sub-100162P_ses-01_task-VEP_run-1_eeg.edf\n",
      "Participant ID: 100162P\n",
      "100162P\n",
      "Output notebook file: /project/def-emayada/q1k/experimental/hsj/derivatives/pylossless/derivatives/postproc/session_reports/executed_notebooks/100162P_VEP_executed.ipynb\n",
      "Output HTML file: /project/def-emayada/q1k/experimental/hsj/derivatives/pylossless/derivatives/postproc/session_reports/VEP/100162P_VEP.html\n"
     ]
    },
    {
     "name": "stderr",
     "output_type": "stream",
     "text": [
      "Executing: 100%|██████████| 26/26 [00:13<00:00,  1.86cell/s]\n"
     ]
    },
    {
     "name": "stdout",
     "output_type": "stream",
     "text": [
      "HTML report saved for 100162P.\n",
      "Current data file: sub-10251061F1_ses-01_task-VEP_run-1_eeg.edf\n",
      "Participant ID: 10251061F1\n",
      "10251061F1\n",
      "Output notebook file: /project/def-emayada/q1k/experimental/hsj/derivatives/pylossless/derivatives/postproc/session_reports/executed_notebooks/10251061F1_VEP_executed.ipynb\n",
      "Output HTML file: /project/def-emayada/q1k/experimental/hsj/derivatives/pylossless/derivatives/postproc/session_reports/VEP/10251061F1_VEP.html\n"
     ]
    },
    {
     "name": "stderr",
     "output_type": "stream",
     "text": [
      "Executing: 100%|██████████| 26/26 [00:14<00:00,  1.73cell/s]\n"
     ]
    },
    {
     "name": "stdout",
     "output_type": "stream",
     "text": [
      "HTML report saved for 10251061F1.\n",
      "Current data file: sub-15251024P_ses-01_task-VEP_run-1_eeg.edf\n",
      "Participant ID: 15251024P\n",
      "15251024P\n",
      "Output notebook file: /project/def-emayada/q1k/experimental/hsj/derivatives/pylossless/derivatives/postproc/session_reports/executed_notebooks/15251024P_VEP_executed.ipynb\n",
      "Output HTML file: /project/def-emayada/q1k/experimental/hsj/derivatives/pylossless/derivatives/postproc/session_reports/VEP/15251024P_VEP.html\n"
     ]
    },
    {
     "name": "stderr",
     "output_type": "stream",
     "text": [
      "Executing: 100%|██████████| 26/26 [00:14<00:00,  1.85cell/s]\n"
     ]
    },
    {
     "name": "stdout",
     "output_type": "stream",
     "text": [
      "HTML report saved for 15251024P.\n",
      "Current data file: sub-100111M1_ses-01_task-VEP_run-1_eeg.edf\n",
      "Participant ID: 100111M1\n",
      "100111M1\n",
      "Output notebook file: /project/def-emayada/q1k/experimental/hsj/derivatives/pylossless/derivatives/postproc/session_reports/executed_notebooks/100111M1_VEP_executed.ipynb\n",
      "Output HTML file: /project/def-emayada/q1k/experimental/hsj/derivatives/pylossless/derivatives/postproc/session_reports/VEP/100111M1_VEP.html\n"
     ]
    },
    {
     "name": "stderr",
     "output_type": "stream",
     "text": [
      "Executing: 100%|██████████| 26/26 [00:16<00:00,  1.58cell/s]\n"
     ]
    },
    {
     "name": "stdout",
     "output_type": "stream",
     "text": [
      "HTML report saved for 100111M1.\n",
      "Current data file: sub-10251042P_ses-01_task-VEP_run-1_eeg.edf\n",
      "Participant ID: 10251042P\n",
      "10251042P\n",
      "Output notebook file: /project/def-emayada/q1k/experimental/hsj/derivatives/pylossless/derivatives/postproc/session_reports/executed_notebooks/10251042P_VEP_executed.ipynb\n",
      "Output HTML file: /project/def-emayada/q1k/experimental/hsj/derivatives/pylossless/derivatives/postproc/session_reports/VEP/10251042P_VEP.html\n"
     ]
    },
    {
     "name": "stderr",
     "output_type": "stream",
     "text": [
      "Executing: 100%|██████████| 26/26 [00:14<00:00,  1.77cell/s]\n"
     ]
    },
    {
     "name": "stdout",
     "output_type": "stream",
     "text": [
      "HTML report saved for 10251042P.\n",
      "Current data file: sub-100105F1_ses-01_task-VEP_run-1_eeg.edf\n",
      "Participant ID: 100105F1\n",
      "100105F1\n",
      "Output notebook file: /project/def-emayada/q1k/experimental/hsj/derivatives/pylossless/derivatives/postproc/session_reports/executed_notebooks/100105F1_VEP_executed.ipynb\n",
      "Output HTML file: /project/def-emayada/q1k/experimental/hsj/derivatives/pylossless/derivatives/postproc/session_reports/VEP/100105F1_VEP.html\n"
     ]
    },
    {
     "name": "stderr",
     "output_type": "stream",
     "text": [
      "Executing: 100%|██████████| 26/26 [00:16<00:00,  1.57cell/s]\n"
     ]
    },
    {
     "name": "stdout",
     "output_type": "stream",
     "text": [
      "HTML report saved for 100105F1.\n",
      "Current data file: sub-15251006M1_ses-01_task-VEP_run-1_eeg.edf\n",
      "Participant ID: 15251006M1\n",
      "15251006M1\n",
      "Output notebook file: /project/def-emayada/q1k/experimental/hsj/derivatives/pylossless/derivatives/postproc/session_reports/executed_notebooks/15251006M1_VEP_executed.ipynb\n",
      "Output HTML file: /project/def-emayada/q1k/experimental/hsj/derivatives/pylossless/derivatives/postproc/session_reports/VEP/15251006M1_VEP.html\n"
     ]
    },
    {
     "name": "stderr",
     "output_type": "stream",
     "text": [
      "Executing: 100%|██████████| 26/26 [00:14<00:00,  1.81cell/s]\n"
     ]
    },
    {
     "name": "stdout",
     "output_type": "stream",
     "text": [
      "HTML report saved for 15251006M1.\n",
      "Current data file: sub-100134F1_ses-01_task-VEP_run-1_eeg.edf\n",
      "Participant ID: 100134F1\n",
      "100134F1\n",
      "Output notebook file: /project/def-emayada/q1k/experimental/hsj/derivatives/pylossless/derivatives/postproc/session_reports/executed_notebooks/100134F1_VEP_executed.ipynb\n",
      "Output HTML file: /project/def-emayada/q1k/experimental/hsj/derivatives/pylossless/derivatives/postproc/session_reports/VEP/100134F1_VEP.html\n"
     ]
    },
    {
     "name": "stderr",
     "output_type": "stream",
     "text": [
      "Executing: 100%|██████████| 26/26 [00:17<00:00,  1.53cell/s]\n"
     ]
    },
    {
     "name": "stdout",
     "output_type": "stream",
     "text": [
      "HTML report saved for 100134F1.\n",
      "Current data file: sub-100162M1_ses-01_task-VEP_run-1_eeg.edf\n",
      "Participant ID: 100162M1\n",
      "100162M1\n",
      "Output notebook file: /project/def-emayada/q1k/experimental/hsj/derivatives/pylossless/derivatives/postproc/session_reports/executed_notebooks/100162M1_VEP_executed.ipynb\n",
      "Output HTML file: /project/def-emayada/q1k/experimental/hsj/derivatives/pylossless/derivatives/postproc/session_reports/VEP/100162M1_VEP.html\n"
     ]
    },
    {
     "name": "stderr",
     "output_type": "stream",
     "text": [
      "Executing: 100%|██████████| 26/26 [00:15<00:00,  1.63cell/s]\n"
     ]
    },
    {
     "name": "stdout",
     "output_type": "stream",
     "text": [
      "HTML report saved for 100162M1.\n",
      "Current data file: sub-10093O1_ses-01_task-VEP_run-1_eeg.edf\n",
      "Participant ID: 10093O1\n",
      "10093O1\n",
      "Output notebook file: /project/def-emayada/q1k/experimental/hsj/derivatives/pylossless/derivatives/postproc/session_reports/executed_notebooks/10093O1_VEP_executed.ipynb\n",
      "Output HTML file: /project/def-emayada/q1k/experimental/hsj/derivatives/pylossless/derivatives/postproc/session_reports/VEP/10093O1_VEP.html\n"
     ]
    },
    {
     "name": "stderr",
     "output_type": "stream",
     "text": [
      "Executing: 100%|██████████| 26/26 [00:17<00:00,  1.51cell/s]\n"
     ]
    },
    {
     "name": "stdout",
     "output_type": "stream",
     "text": [
      "HTML report saved for 10093O1.\n",
      "Current data file: sub-100159M1_ses-01_task-VEP_run-1_eeg.edf\n",
      "Participant ID: 100159M1\n",
      "100159M1\n",
      "Output notebook file: /project/def-emayada/q1k/experimental/hsj/derivatives/pylossless/derivatives/postproc/session_reports/executed_notebooks/100159M1_VEP_executed.ipynb\n",
      "Output HTML file: /project/def-emayada/q1k/experimental/hsj/derivatives/pylossless/derivatives/postproc/session_reports/VEP/100159M1_VEP.html\n"
     ]
    },
    {
     "name": "stderr",
     "output_type": "stream",
     "text": [
      "Executing: 100%|██████████| 26/26 [00:15<00:00,  1.72cell/s]\n"
     ]
    },
    {
     "name": "stdout",
     "output_type": "stream",
     "text": [
      "HTML report saved for 100159M1.\n",
      "Current data file: sub-100114F1_ses-01_task-VEP_run-1_eeg.edf\n",
      "Participant ID: 100114F1\n",
      "100114F1\n",
      "Output notebook file: /project/def-emayada/q1k/experimental/hsj/derivatives/pylossless/derivatives/postproc/session_reports/executed_notebooks/100114F1_VEP_executed.ipynb\n",
      "Output HTML file: /project/def-emayada/q1k/experimental/hsj/derivatives/pylossless/derivatives/postproc/session_reports/VEP/100114F1_VEP.html\n"
     ]
    },
    {
     "name": "stderr",
     "output_type": "stream",
     "text": [
      "Executing: 100%|██████████| 26/26 [00:19<00:00,  1.36cell/s]\n"
     ]
    },
    {
     "name": "stdout",
     "output_type": "stream",
     "text": [
      "HTML report saved for 100114F1.\n",
      "Current data file: sub-100152M1_ses-01_task-VEP_run-1_eeg.edf\n",
      "Participant ID: 100152M1\n",
      "100152M1\n",
      "Output notebook file: /project/def-emayada/q1k/experimental/hsj/derivatives/pylossless/derivatives/postproc/session_reports/executed_notebooks/100152M1_VEP_executed.ipynb\n",
      "Output HTML file: /project/def-emayada/q1k/experimental/hsj/derivatives/pylossless/derivatives/postproc/session_reports/VEP/100152M1_VEP.html\n"
     ]
    },
    {
     "name": "stderr",
     "output_type": "stream",
     "text": [
      "Executing: 100%|██████████| 26/26 [00:16<00:00,  1.56cell/s]\n"
     ]
    },
    {
     "name": "stdout",
     "output_type": "stream",
     "text": [
      "HTML report saved for 100152M1.\n",
      "Current data file: sub-15251026M1_ses-01_task-VEP_run-1_eeg.edf\n",
      "Participant ID: 15251026M1\n",
      "15251026M1\n",
      "Output notebook file: /project/def-emayada/q1k/experimental/hsj/derivatives/pylossless/derivatives/postproc/session_reports/executed_notebooks/15251026M1_VEP_executed.ipynb\n",
      "Output HTML file: /project/def-emayada/q1k/experimental/hsj/derivatives/pylossless/derivatives/postproc/session_reports/VEP/15251026M1_VEP.html\n"
     ]
    },
    {
     "name": "stderr",
     "output_type": "stream",
     "text": [
      "Executing: 100%|██████████| 26/26 [00:15<00:00,  1.72cell/s]\n"
     ]
    },
    {
     "name": "stdout",
     "output_type": "stream",
     "text": [
      "HTML report saved for 15251026M1.\n",
      "Current data file: sub-100119S1_ses-01_task-VEP_run-1_eeg.edf\n",
      "Participant ID: 100119S1\n",
      "100119S1\n",
      "Output notebook file: /project/def-emayada/q1k/experimental/hsj/derivatives/pylossless/derivatives/postproc/session_reports/executed_notebooks/100119S1_VEP_executed.ipynb\n",
      "Output HTML file: /project/def-emayada/q1k/experimental/hsj/derivatives/pylossless/derivatives/postproc/session_reports/VEP/100119S1_VEP.html\n"
     ]
    },
    {
     "name": "stderr",
     "output_type": "stream",
     "text": [
      "Executing: 100%|██████████| 26/26 [00:18<00:00,  1.40cell/s]\n"
     ]
    },
    {
     "name": "stdout",
     "output_type": "stream",
     "text": [
      "HTML report saved for 100119S1.\n",
      "Current data file: sub-10251061S3_ses-01_task-VEP_run-1_eeg.edf\n",
      "Participant ID: 10251061S3\n",
      "10251061S3\n",
      "Output notebook file: /project/def-emayada/q1k/experimental/hsj/derivatives/pylossless/derivatives/postproc/session_reports/executed_notebooks/10251061S3_VEP_executed.ipynb\n",
      "Output HTML file: /project/def-emayada/q1k/experimental/hsj/derivatives/pylossless/derivatives/postproc/session_reports/VEP/10251061S3_VEP.html\n"
     ]
    },
    {
     "name": "stderr",
     "output_type": "stream",
     "text": [
      "Executing: 100%|██████████| 26/26 [00:15<00:00,  1.68cell/s]\n"
     ]
    },
    {
     "name": "stdout",
     "output_type": "stream",
     "text": [
      "HTML report saved for 10251061S3.\n",
      "Current data file: sub-100128P_ses-01_task-VEP_run-1_eeg.edf\n",
      "Participant ID: 100128P\n",
      "100128P\n",
      "Output notebook file: /project/def-emayada/q1k/experimental/hsj/derivatives/pylossless/derivatives/postproc/session_reports/executed_notebooks/100128P_VEP_executed.ipynb\n",
      "Output HTML file: /project/def-emayada/q1k/experimental/hsj/derivatives/pylossless/derivatives/postproc/session_reports/VEP/100128P_VEP.html\n"
     ]
    },
    {
     "name": "stderr",
     "output_type": "stream",
     "text": [
      "Executing: 100%|██████████| 26/26 [00:15<00:00,  1.72cell/s]\n"
     ]
    },
    {
     "name": "stdout",
     "output_type": "stream",
     "text": [
      "HTML report saved for 100128P.\n",
      "Current data file: sub-10086S1_ses-01_task-VEP_run-1_eeg.edf\n",
      "Participant ID: 10086S1\n",
      "10086S1\n",
      "Output notebook file: /project/def-emayada/q1k/experimental/hsj/derivatives/pylossless/derivatives/postproc/session_reports/executed_notebooks/10086S1_VEP_executed.ipynb\n",
      "Output HTML file: /project/def-emayada/q1k/experimental/hsj/derivatives/pylossless/derivatives/postproc/session_reports/VEP/10086S1_VEP.html\n"
     ]
    },
    {
     "name": "stderr",
     "output_type": "stream",
     "text": [
      "Executing: 100%|██████████| 26/26 [00:16<00:00,  1.61cell/s]\n"
     ]
    },
    {
     "name": "stdout",
     "output_type": "stream",
     "text": [
      "HTML report saved for 10086S1.\n",
      "These subjects have errors: [] and need to be reprocessed\n"
     ]
    }
   ],
   "source": [
    "# Directory to save HTML reports\n",
    "#html_reports_dir = './../../session_reports/' + task_id_in + '/'\n",
    "\n",
    "\n",
    "# Create a list for participants with errors\n",
    "error_subjects = []\n",
    "\n",
    "#for file in glob.glob(\"./../../sourcedata/eeg/Q1K*/Q1K\" + \"*AEP\" + '*.mff'):\n",
    "#for file in glob.glob(project_path + sourcedata_path + \"eeg/Q1K*/Q1K*\" + task_id_in + '*.mff'):\n",
    "for file in in_file_paths:\n",
    "    \n",
    "    file_name = os.path.basename(file)\n",
    "    print('Current data file: ' + file_name)\n",
    "    ## Select anything after the Q1K and before the AEP\n",
    "    ##subject_id = file.split('_')[2]\n",
    "    ##site_part = file.split(\"HSJ_\")\n",
    "    subject_id = file_name.split(\"_\")[0].split(\"-\")[1]\n",
    "    print('Participant ID: ' + subject_id)\n",
    "\n",
    "    #subject_relation = site_part[1].split(\"_\")[1].split(\"/\")[0]\n",
    "    #print('Participant relation: ' + subject_relation)\n",
    "\n",
    "    #subject_id_in = subject_number + \"_\" + subject_relation\n",
    "    #print('Participant ID input: ' + subject_id_in)\n",
    "    #subject_id_out = subject_number.replace('_','').replace('-','') + subject_relation\n",
    "    #print('Participant ID output: ' + subject_id_out)\n",
    "    \n",
    "    # Skip sessions that have already been processed\n",
    "    print(subject_id)\n",
    "    if subject_id in out_seg_file_paths:\n",
    "        print(subject_id + ' has already been processed')\n",
    "        continue    \n",
    "\n",
    "    # Define paths\n",
    "    input_notebook = project_path + pyll_path + post_path + 'code/q1k_postproc_erp/' + 'session_seg_' + task_id_in + '.ipynb'\n",
    "\n",
    "    ##output_notebook = f'./../../session_reports/{task_id_in}/executed_notebooks/{subject_id}_{task_id_in}_executed.ipynb'\n",
    "    ##output_html = f'./../../session_reports/{task_id_in}/{subject_id}_{session_id}_{task_id_in}.html'\n",
    "    ##output_html = f'{html_reports_dir}/{subject_id}.html'\n",
    "    output_notebook = f'{project_path}{pyll_path}{post_path}{html_reports_path}executed_notebooks/{subject_id}_{task_id_in}_executed.ipynb'\n",
    "    print('Output notebook file: ' + output_notebook)\n",
    "    output_html = f'{project_path}{pyll_path}{post_path}{html_reports_path}{task_id_out}/{subject_id}_{task_id_in}.html'\n",
    "    print('Output HTML file: ' + output_html)\n",
    "\n",
    "    try:\n",
    "        # Execute the notebook\n",
    "        pm.execute_notebook(input_notebook, output_notebook, kernel_name = 'q1k_postproc_erp', parameters=dict(subject_id=subject_id, task_id=task_id_in,\n",
    "        session_id=session_id, run_id=run_id))\n",
    "\n",
    "        # Convert executed notebook to HTML\n",
    "        html_exporter = HTMLExporter()\n",
    "        html_exporter.exclude_input = True\n",
    "\n",
    "        (body, resources) = html_exporter.from_filename(output_notebook)\n",
    "\n",
    "        # Save HTML output\n",
    "        with open(output_html, 'w', encoding='utf-8') as f:\n",
    "            f.write(body)\n",
    "\n",
    "        print(f\"HTML report saved for {subject_id}.\")\n",
    "    \n",
    "\n",
    "    except Exception as e:\n",
    "        # Handle the error \n",
    "        error_subjects.append(subject_id)\n",
    "        print(f\"Error while processing {subject_id}: {e}\")\n",
    "\n",
    "        # Print out the list of subjects with errors\n",
    "print( \"These subjects have errors: \" + str(error_subjects) + \" and need to be reprocessed\")"
   ]
  },
  {
   "cell_type": "code",
   "execution_count": null,
   "metadata": {},
   "outputs": [],
   "source": []
  }
 ],
 "metadata": {
  "kernelspec": {
   "display_name": "q1k_env",
   "language": "python",
   "name": "q1k_env"
  },
  "language_info": {
   "codemirror_mode": {
    "name": "ipython",
    "version": 3
   },
   "file_extension": ".py",
   "mimetype": "text/x-python",
   "name": "python",
   "nbconvert_exporter": "python",
   "pygments_lexer": "ipython3",
   "version": "3.11.5"
  }
 },
 "nbformat": 4,
 "nbformat_minor": 4
}
