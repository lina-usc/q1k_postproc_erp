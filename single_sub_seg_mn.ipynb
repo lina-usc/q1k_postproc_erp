{
 "cells": [
  {
   "attachments": {},
   "cell_type": "markdown",
   "id": "793c3da2-34a6-4fce-a4d7-a6bcbe92219f",
   "metadata": {},
   "source": [
    "# Single Subject Segmentation Q1K"
   ]
  },
  {
   "cell_type": "code",
   "execution_count": null,
   "id": "9450f6bf-4cb0-4e7e-bd64-f9dd953de143",
   "metadata": {},
   "outputs": [],
   "source": [
    "# import packages\n",
    "#import q1k_sync_tools as qst\n",
    "import mne\n",
    "import mne_bids\n",
    "#mne.viz.set_browser_backend('qt')\n",
    "#%matplotlib qt\n",
    "import pandas as pd\n",
    "pd.options.mode.chained_assignment = None\n",
    "import pylossless as ll\n",
    "import numpy as np\n",
    "import glob"
   ]
  },
  {
   "cell_type": "code",
   "execution_count": null,
   "id": "14258a9e",
   "metadata": {},
   "outputs": [],
   "source": [
    "project_path = \"/home/james/q1k/pilot/q1k-external-pilot/\"\n",
    "derivative_path = \"derivatives/pylossless\"\n",
    "task_id_in = \"mn\"\n",
    "task_id_out = \"mn\"\n",
    "subject_id = '004'\n",
    "session_id = '01'\n",
    "\n",
    "bids_path = mne_bids.BIDSPath(\n",
    "    subject=subject_id, session=session_id, task=task_id_out, run=\"1\", datatype=\"eeg\", root=project_path + derivative_path\n",
    ")\n",
    "print(bids_path)"
   ]
  },
  {
   "cell_type": "code",
   "execution_count": null,
   "id": "5cb698e8",
   "metadata": {},
   "outputs": [],
   "source": [
    "# Read the BIDS pylossless output file..\n",
    "eeg_raw = mne_bids.read_raw_bids(bids_path=bids_path, verbose=False)"
   ]
  },
  {
   "cell_type": "code",
   "execution_count": null,
   "id": "8877b53c",
   "metadata": {},
   "outputs": [],
   "source": [
    "# Get the events form the annotations\n",
    "eeg_events, eeg_event_dict  = mne.events_from_annotations(eeg_raw)"
   ]
  },
  {
   "cell_type": "code",
   "execution_count": null,
   "id": "64ab407e",
   "metadata": {},
   "outputs": [],
   "source": [
    "eeg_events"
   ]
  },
  {
   "cell_type": "code",
   "execution_count": null,
   "id": "fccc27f0",
   "metadata": {},
   "outputs": [],
   "source": [
    "eeg_event_dict"
   ]
  },
  {
   "cell_type": "code",
   "execution_count": null,
   "id": "b66fbf5e",
   "metadata": {},
   "outputs": [],
   "source": [
    "# Plot channel data only\n",
    "mne.viz.plot_raw(eeg_raw, events=eeg_events, event_id=eeg_event_dict)"
   ]
  },
  {
   "cell_type": "code",
   "execution_count": null,
   "id": "da8dd771-45bd-425d-ad7c-63c6485c38f6",
   "metadata": {},
   "outputs": [],
   "source": [
    "# set file variables\n",
    "#subject_raw_eeg = glob.glob('sourcedata/020_1/020_1_go_*.mff')\n",
    "subject_raw_eeg = 'sourcedata/012_1/012_1_eeg/012_vp_20230417_125533.mff'\n",
    "subject_raw_et = 'sourcedata/012_1/012_1_eyetracking/012_vp_1.asc'\n",
    "subject_derivative = 'output_vp/derivatives/pylossless/sub-012/eeg/sub-012_task-vp_eeg.edf'\n",
    "task_code = 'vp'"
   ]
  },
  {
   "cell_type": "code",
   "execution_count": null,
   "id": "27d7b84b",
   "metadata": {},
   "outputs": [],
   "source": [
    "subject_raw_eeg"
   ]
  },
  {
   "cell_type": "code",
   "execution_count": null,
   "id": "e7944695-b497-4aef-abb5-dddcba0a04bd",
   "metadata": {},
   "outputs": [],
   "source": [
    "# Load EEG recording\n",
    "eeg_raw = mne.io.read_raw_egi(subject_raw_eeg)\n",
    "\n",
    "# Get event info from source recording\n",
    "eeg_events = mne.find_events(eeg_raw, shortest_event=1)\n",
    "eeg_event_dict = qst.get_event_dict(eeg_raw, eeg_events)\n",
    "\n",
    "\n",
    "\n",
    "# Below is for syncing EEG and ET sessions then combining the data.\n",
    "\n",
    "# Infer new events and labels from EEG paradigm procedure\n",
    "#eeg_events, eeg_stims, eeg_iti, eeg_event_dict = qst.eeg_event_test(eeg_events, eeg_event_dict, task_name=task_code)\n",
    "\n",
    "# Read eyetracking data and extact events\n",
    "#et_raw = mne.io.read_raw_eyelink(subject_raw_et)\n",
    "#et_annot_events, et_annot_event_dict = mne.events_from_annotations(et_raw)\n",
    "#et_raw_df = et_raw.to_data_frame()\n",
    "\n",
    "# Infer new events from paradigm procedure\n",
    "#et_event_raw_df, et_events, et_stims, et_iti = qst.et_event_test(et_raw_df, task_name=task_code)\n",
    "\n",
    "# Meld both ET and EEG together into new raw structure\n",
    "#eeg_et_raw = qst.eeg_et_combine(eeg_raw, et_raw, eeg_stims, et_stims)\n",
    "\n",
    "# Using the melded raw, build final event objects\n",
    "#eeg_et_events = mne.find_events(eeg_et_raw, shortest_event=1)\n",
    "#eeg_et_event_dict = qst.get_event_dict(eeg_et_raw, eeg_et_events)\n",
    "\n",
    "# Free up memory\n",
    "#del et_event_raw_df\n",
    "#del et_events\n",
    "#del et_stims\n",
    "#del et_iti\n",
    "#del et_raw_df\n",
    "#del et_annot_events\n",
    "#del et_annot_event_dict\n",
    "#del eeg_events\n",
    "#del eeg_stims\n",
    "#del eeg_iti\n",
    "#del eeg_event_dict"
   ]
  },
  {
   "cell_type": "code",
   "execution_count": null,
   "id": "d09ed8e1",
   "metadata": {},
   "outputs": [],
   "source": [
    "eeg_events"
   ]
  },
  {
   "cell_type": "code",
   "execution_count": null,
   "id": "59dd2a35",
   "metadata": {},
   "outputs": [],
   "source": [
    "eeg_event_dict"
   ]
  },
  {
   "cell_type": "code",
   "execution_count": null,
   "id": "c037fee2",
   "metadata": {},
   "outputs": [],
   "source": [
    "# Plot channel data only\n",
    "mne.viz.plot_raw(eeg_raw, events=eeg_events, event_id=eeg_event_dict)"
   ]
  },
  {
   "cell_type": "code",
   "execution_count": null,
   "id": "6469d9a0-cd26-475f-8255-5de93c6c5334",
   "metadata": {},
   "outputs": [],
   "source": [
    "# Build initial state; nothing applied yet\n",
    "ll_state = ll.LosslessPipeline()\n",
    "ll_state = ll_state.load_ll_derivative(subject_derivative)"
   ]
  },
  {
   "cell_type": "code",
   "execution_count": null,
   "id": "a4727f94-86a8-4d64-9d53-7a546884c157",
   "metadata": {},
   "outputs": [],
   "source": [
    "# Plot channel data only\n",
    "mne.viz.plot_raw(ll_state.raw, events=eeg_events, event_id=eeg_event_dict)"
   ]
  },
  {
   "cell_type": "code",
   "execution_count": null,
   "id": "4be2d5be-72a4-42e7-a105-bd627e0b185c",
   "metadata": {},
   "outputs": [],
   "source": [
    "# Plot comonents\n",
    "ll_state.ica2.plot_sources(ll_state.raw)\n"
   ]
  },
  {
   "cell_type": "code",
   "execution_count": null,
   "id": "debe73dc-6b97-4d80-b9f7-f5725e2ee99a",
   "metadata": {},
   "outputs": [],
   "source": [
    "# Plot topos\n",
    "ll_state.ica2.plot_components(inst=ll_state.raw)"
   ]
  },
  {
   "cell_type": "code",
   "execution_count": null,
   "id": "52cd0e57-1d0f-4733-89da-62d186a9a88b",
   "metadata": {},
   "outputs": [],
   "source": [
    "# Merge marks down to bads (aka manual)\n",
    "ll_qcr = ll_state.raw.copy()\n",
    "manual = []\n",
    "for flag_type in ll_state.flags['ch']:\n",
    "    manual.extend(ll_state.flags['ch'][flag_type])\n",
    "print(ll_state.flags['ch'])\n",
    "ll_qcr.info['bads'].extend(manual)\n",
    "ll_qcr.info['bads'] = list(set(ll_qcr.info['bads']))\n",
    "\n",
    "# Read the ICLabel info from file and add to exclude\n",
    "df = pd.read_csv(subject_derivative.replace('_eeg.edf', '_iclabels.tsv'), sep='\\t')\n",
    "ll_state.ica2.exclude = list(df[df['ic_type'].str.match('eog|muscle|ch_noise|ecg')].index)\n",
    "\n",
    "# Load the data and apply the ICA\n",
    "ll_qcr.load_data()\n",
    "ll_state.ica2.apply(ll_qcr)\n",
    "ll_qcr = ll_qcr.filter(l_freq=1.0, h_freq=40.0)\n",
    "ll_qcr = ll_qcr.set_eeg_reference(ref_channels=\"average\")\n",
    "ll_qcr"
   ]
  },
  {
   "cell_type": "code",
   "execution_count": null,
   "id": "b7cec820-0e16-4206-8a30-a94ffef94e8d",
   "metadata": {},
   "outputs": [],
   "source": [
    "# Plot cleaned data\n",
    "mne.viz.plot_raw(ll_qcr, events=eeg_events, event_id=eeg_event_dict)"
   ]
  },
  {
   "cell_type": "code",
   "execution_count": null,
   "id": "d9ea62c5",
   "metadata": {},
   "outputs": [],
   "source": [
    "# Take a look at the event dictionairy\n",
    "eeg_event_dict"
   ]
  },
  {
   "cell_type": "code",
   "execution_count": null,
   "id": "4e7a968b",
   "metadata": {},
   "outputs": [],
   "source": [
    "# Relabel condition vars for niceness\n",
    "eeg_event_dict['fq06hz/target/disp/dstr'] = eeg_event_dict.pop('dstr')\n",
    "eeg_event_dict['fq15hz/target/disp/fvct'] = eeg_event_dict.pop('fvct')"
   ]
  },
  {
   "cell_type": "code",
   "execution_count": null,
   "id": "637d1728-ecb9-4410-b6c4-bafe19a56bbe",
   "metadata": {},
   "outputs": [],
   "source": [
    "# Epoch structure is created for ALL events, then you 'segment' by indexing into it\n",
    "epochs = mne.Epochs(ll_qcr, eeg_events, event_id=eeg_event_dict, tmin=-1, tmax=2.0, on_missing='warn', event_repeated='drop')"
   ]
  },
  {
   "cell_type": "code",
   "execution_count": null,
   "id": "507abac9-5037-43bc-8e60-c1432e6b7de7",
   "metadata": {},
   "outputs": [],
   "source": [
    "# Check trial counts\n",
    "epochs[['fq06hz', 'fq15hz']]"
   ]
  },
  {
   "cell_type": "code",
   "execution_count": null,
   "id": "2ba69bf0-1306-4fc0-b58a-44a24c804234",
   "metadata": {},
   "outputs": [],
   "source": [
    "# Plot ERPs\n",
    "evokeds = {'fq06hz': epochs['fq06hz'].average(), 'fq15hz': epochs['fq15hz'].average()}\n",
    "mne.viz.plot_compare_evokeds(evokeds, picks=['E70'], combine='mean')"
   ]
  },
  {
   "cell_type": "code",
   "execution_count": null,
   "id": "a902cb85",
   "metadata": {},
   "outputs": [],
   "source": [
    "mne.write_evokeds(f'erp_fif_files/vp/009_1_vp_ave.fif',list(evokeds.values()), overwrite=True)"
   ]
  },
  {
   "cell_type": "code",
   "execution_count": null,
   "id": "4b463d97",
   "metadata": {},
   "outputs": [],
   "source": [
    "eeg_events"
   ]
  },
  {
   "cell_type": "code",
   "execution_count": null,
   "id": "19bf032e",
   "metadata": {},
   "outputs": [],
   "source": [
    "mask = np.isin(eeg_events[:,2],[eeg_event_dict['fq15hz/target/disp/fvct']])\n",
    "eeg_events = eeg_events[mask]\n",
    "\n",
    "\n",
    "epochs = mne.Epochs(ll_qcr, eeg_events, event_id=eeg_event_dict, tmin=-1.0, tmax=2.0, on_missing='warn', event_repeated='merge')\n",
    "\n",
    "freqs = np.arange(5,50,2)\n",
    "n_cycles = freqs / 2.0  # different number of cycle per frequency\n",
    "power, itc = mne.time_frequency.tfr_morlet(\n",
    "    epochs,\n",
    "    freqs=freqs,\n",
    "    n_cycles=n_cycles,\n",
    "    use_fft=True,\n",
    "    return_itc=True,\n",
    "    decim=3,\n",
    "    n_jobs=None,\n",
    ")"
   ]
  },
  {
   "cell_type": "code",
   "execution_count": null,
   "id": "7983a811",
   "metadata": {},
   "outputs": [],
   "source": [
    "power"
   ]
  },
  {
   "cell_type": "code",
   "execution_count": null,
   "id": "88a1c3d0",
   "metadata": {},
   "outputs": [],
   "source": [
    "power.plot(65,baseline=(-0.5, 0), mode=\"logratio\", title='power')"
   ]
  },
  {
   "cell_type": "code",
   "execution_count": null,
   "id": "f31063d9",
   "metadata": {},
   "outputs": [],
   "source": [
    "itc.plot()"
   ]
  },
  {
   "cell_type": "code",
   "execution_count": null,
   "id": "6bc48540",
   "metadata": {},
   "outputs": [],
   "source": []
  }
 ],
 "metadata": {
  "kernelspec": {
   "display_name": "Python 3 (ipykernel)",
   "language": "python",
   "name": "python3"
  },
  "language_info": {
   "codemirror_mode": {
    "name": "ipython",
    "version": 3
   },
   "file_extension": ".py",
   "mimetype": "text/x-python",
   "name": "python",
   "nbconvert_exporter": "python",
   "pygments_lexer": "ipython3",
   "version": "3.9.5"
  }
 },
 "nbformat": 4,
 "nbformat_minor": 5
}
