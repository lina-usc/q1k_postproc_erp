{
 "cells": [
  {
   "attachments": {},
   "cell_type": "markdown",
   "id": "793c3da2-34a6-4fce-a4d7-a6bcbe92219f",
   "metadata": {},
   "source": [
    "# Single Subject Segmentation Q1K"
   ]
  },
  {
   "cell_type": "code",
   "execution_count": 1,
   "id": "9450f6bf-4cb0-4e7e-bd64-f9dd953de143",
   "metadata": {},
   "outputs": [
    {
     "name": "stderr",
     "output_type": "stream",
     "text": [
      "<frozen importlib._bootstrap>:219: RuntimeWarning: The MNE-Python config file (/home/james/.mne/mne-python.json) is not a valid JSON file and might be corrupted\n"
     ]
    },
    {
     "name": "stdout",
     "output_type": "stream",
     "text": [
      "Using qt as 2D backend.\n"
     ]
    }
   ],
   "source": [
    "# import packages\n",
    "import q1k_sync_tools as qst\n",
    "import mne\n",
    "mne.viz.set_browser_backend('qt')\n",
    "%matplotlib qt\n",
    "import pandas as pd\n",
    "pd.options.mode.chained_assignment = None\n",
    "import pylossless as ll\n",
    "import numpy as np\n",
    "import glob\n",
    "\n",
    "import matplotlib.pyplot as plt\n",
    "\n",
    "from mne.time_frequency import tfr_morlet\n",
    "from mne.stats import permutation_cluster_test\n",
    "from mne.datasets import sample"
   ]
  },
  {
   "cell_type": "code",
   "execution_count": 2,
   "id": "da8dd771-45bd-425d-ad7c-63c6485c38f6",
   "metadata": {},
   "outputs": [],
   "source": [
    "# set file variables\n",
    "#subject_raw_eeg = glob.glob('sourcedata/020_1/020_1_go_*.mff')\n",
    "subject_raw_eeg = 'sourcedata/024_1/024_1_eeg/024_1_ap_20230710_110505.mff'\n",
    "subject_raw_et = 'sourcedata/024_1/024_1_eyetracking/024_ap_1.asc'\n",
    "subject_derivative = 'output_ap/derivatives/pylossless/sub-024/eeg/sub-024_task-ap_eeg.edf'\n",
    "task_code = 'ap'"
   ]
  },
  {
   "cell_type": "code",
   "execution_count": 3,
   "id": "e7944695-b497-4aef-abb5-dddcba0a04bd",
   "metadata": {},
   "outputs": [
    {
     "name": "stdout",
     "output_type": "stream",
     "text": [
      "Reading EGI MFF Header from /home/james/q1k/pilot/q1k-external-pilot/sourcedata/024_1/024_1_eeg/024_1_ap_20230710_110505.mff...\n",
      "    Reading events ...\n",
      "    Assembling measurement info ...\n",
      "    Synthesizing trigger channel \"STI 014\" ...\n",
      "    Excluding events {} ...\n"
     ]
    },
    {
     "name": "stderr",
     "output_type": "stream",
     "text": [
      "/tmp/ipykernel_13394/896616945.py:5: RuntimeWarning: The MNE-Python config file (/home/james/.mne/mne-python.json) is not a valid JSON file and might be corrupted\n",
      "  eeg_events = mne.find_events(eeg_raw, shortest_event=1)\n"
     ]
    },
    {
     "name": "stdout",
     "output_type": "stream",
     "text": [
      "6129 events found\n",
      "Event IDs: [1 2 3 4 5 6]\n"
     ]
    }
   ],
   "source": [
    "# Load EEG recording\n",
    "eeg_raw = mne.io.read_raw_egi(subject_raw_eeg)\n",
    "\n",
    "# Get event info from source recording\n",
    "eeg_events = mne.find_events(eeg_raw, shortest_event=1)\n",
    "eeg_event_dict = qst.get_event_dict(eeg_raw, eeg_events)"
   ]
  },
  {
   "cell_type": "code",
   "execution_count": null,
   "id": "d09ed8e1",
   "metadata": {},
   "outputs": [],
   "source": [
    "eeg_events"
   ]
  },
  {
   "cell_type": "code",
   "execution_count": null,
   "id": "59dd2a35",
   "metadata": {},
   "outputs": [],
   "source": [
    "eeg_event_dict"
   ]
  },
  {
   "cell_type": "code",
   "execution_count": null,
   "id": "c037fee2",
   "metadata": {},
   "outputs": [],
   "source": [
    "# Plot channel data only\n",
    "mne.viz.plot_raw(eeg_raw, events=eeg_events, event_id=eeg_event_dict)"
   ]
  },
  {
   "cell_type": "code",
   "execution_count": 4,
   "id": "6469d9a0-cd26-475f-8255-5de93c6c5334",
   "metadata": {},
   "outputs": [
    {
     "name": "stdout",
     "output_type": "stream",
     "text": [
      "Extracting EDF parameters from /home/james/q1k/pilot/q1k-external-pilot/output_ap/derivatives/pylossless/sub-024/eeg/sub-024_task-ap_eeg.edf...\n",
      "EDF file detected\n",
      "Setting channel info structure...\n",
      "Creating raw.info structure...\n",
      "Reading events from output_ap/derivatives/pylossless/sub-024/eeg/sub-024_task-ap_events.tsv.\n",
      "Reading channel info from output_ap/derivatives/pylossless/sub-024/eeg/sub-024_task-ap_channels.tsv.\n",
      "Reading electrode coords from output_ap/derivatives/pylossless/sub-024/eeg/sub-024_space-CapTrak_electrodes.tsv.\n",
      "Reading output_ap/derivatives/pylossless/sub-024/eeg/sub-024_task-ap_ica1_ica.fif ...\n",
      "Now restoring ICA solution ...\n",
      "Ready.\n",
      "Reading output_ap/derivatives/pylossless/sub-024/eeg/sub-024_task-ap_ica2_ica.fif ...\n",
      "Now restoring ICA solution ...\n",
      "Ready.\n"
     ]
    },
    {
     "name": "stderr",
     "output_type": "stream",
     "text": [
      "/home/james/q1k/pilot/q1k-external-pilot/eeg-env/lib/python3.8/site-packages/pylossless/pipeline.py:1118: RuntimeWarning: The number of channels in the channels.tsv sidecar file (136) does not match the number of channels in the raw data file (129). Will not try to set channel names.\n",
      "  self.raw = mne_bids.read_raw_bids(derivatives_path)\n",
      "/home/james/q1k/pilot/q1k-external-pilot/eeg-env/lib/python3.8/site-packages/pylossless/pipeline.py:1118: RuntimeWarning: Cannot set channel type for the following channels, as they are missing in the raw data: DIN4, STI 014, TSYN, VBeg, ae06, ae40, dbrk\n",
      "  self.raw = mne_bids.read_raw_bids(derivatives_path)\n"
     ]
    }
   ],
   "source": [
    "# Build initial state; nothing applied yet\n",
    "ll_state = ll.LosslessPipeline()\n",
    "ll_state = ll_state.load_ll_derivative(subject_derivative)"
   ]
  },
  {
   "cell_type": "code",
   "execution_count": null,
   "id": "a4727f94-86a8-4d64-9d53-7a546884c157",
   "metadata": {},
   "outputs": [],
   "source": [
    "# Plot channel data only\n",
    "mne.viz.plot_raw(ll_state.raw, events=eeg_events, event_id=eeg_event_dict)"
   ]
  },
  {
   "cell_type": "code",
   "execution_count": null,
   "id": "4be2d5be-72a4-42e7-a105-bd627e0b185c",
   "metadata": {},
   "outputs": [],
   "source": [
    "# Plot comonents\n",
    "ll_state.ica2.plot_sources(ll_state.raw)\n"
   ]
  },
  {
   "cell_type": "code",
   "execution_count": null,
   "id": "debe73dc-6b97-4d80-b9f7-f5725e2ee99a",
   "metadata": {},
   "outputs": [],
   "source": [
    "# Plot topos\n",
    "ll_state.ica2.plot_components(inst=ll_state.raw)"
   ]
  },
  {
   "cell_type": "code",
   "execution_count": 5,
   "id": "52cd0e57-1d0f-4733-89da-62d186a9a88b",
   "metadata": {},
   "outputs": [
    {
     "name": "stdout",
     "output_type": "stream",
     "text": [
      "{'bridge': array(['E3', 'E4', 'E80', 'E89', 'E94', 'E117', 'E118', 'E123', 'E124'],\n",
      "      dtype=object), 'ch_sd': array(['E14', 'E17', 'E21', 'E73', 'E88'], dtype=object), 'rank': array(['E24'], dtype=object)}\n",
      "Reading 0 ... 396999  =      0.000 ...   396.999 secs...\n",
      "Applying ICA to Raw instance\n",
      "    Transforming to ICA space (109 components)\n",
      "    Zeroing out 17 ICA components\n",
      "    Projecting back using 110 PCA components\n",
      "Filtering raw data in 1 contiguous segment\n",
      "Setting up band-pass filter from 1 - 90 Hz\n",
      "\n",
      "FIR filter parameters\n",
      "---------------------\n",
      "Designing a one-pass, zero-phase, non-causal bandpass filter:\n",
      "- Windowed time-domain design (firwin) method\n",
      "- Hamming window with 0.0194 passband ripple and 53 dB stopband attenuation\n",
      "- Lower passband edge: 1.00\n",
      "- Lower transition bandwidth: 1.00 Hz (-6 dB cutoff frequency: 0.50 Hz)\n",
      "- Upper passband edge: 90.00 Hz\n",
      "- Upper transition bandwidth: 22.50 Hz (-6 dB cutoff frequency: 101.25 Hz)\n",
      "- Filter length: 3301 samples (3.301 s)\n",
      "\n"
     ]
    },
    {
     "name": "stderr",
     "output_type": "stream",
     "text": [
      "/tmp/ipykernel_13394/2504360066.py:17: RuntimeWarning: The MNE-Python config file (/home/james/.mne/mne-python.json) is not a valid JSON file and might be corrupted\n",
      "  ll_qcr = ll_qcr.filter(l_freq=1.0, h_freq=90.0)\n",
      "/tmp/ipykernel_13394/2504360066.py:17: RuntimeWarning: The MNE-Python config file (/home/james/.mne/mne-python.json) is not a valid JSON file and might be corrupted\n",
      "  ll_qcr = ll_qcr.filter(l_freq=1.0, h_freq=90.0)\n",
      "[Parallel(n_jobs=1)]: Using backend SequentialBackend with 1 concurrent workers.\n",
      "[Parallel(n_jobs=1)]: Done   1 out of   1 | elapsed:    0.0s remaining:    0.0s\n",
      "[Parallel(n_jobs=1)]: Done   2 out of   2 | elapsed:    0.0s remaining:    0.0s\n",
      "[Parallel(n_jobs=1)]: Done   3 out of   3 | elapsed:    0.0s remaining:    0.0s\n",
      "[Parallel(n_jobs=1)]: Done   4 out of   4 | elapsed:    0.1s remaining:    0.0s\n"
     ]
    },
    {
     "name": "stdout",
     "output_type": "stream",
     "text": [
      "EEG channel type selected for re-referencing\n",
      "Applying average reference.\n",
      "Applying a custom ('EEG',) reference.\n"
     ]
    },
    {
     "name": "stderr",
     "output_type": "stream",
     "text": [
      "[Parallel(n_jobs=1)]: Done 129 out of 129 | elapsed:    2.5s finished\n",
      "/home/james/q1k/pilot/q1k-external-pilot/eeg-env/lib/python3.8/site-packages/IPython/core/formatters.py:344: RuntimeWarning: The MNE-Python config file (/home/james/.mne/mne-python.json) is not a valid JSON file and might be corrupted\n",
      "  return method()\n",
      "/home/james/q1k/pilot/q1k-external-pilot/eeg-env/lib/python3.8/site-packages/IPython/core/formatters.py:344: RuntimeWarning: The MNE-Python config file (/home/james/.mne/mne-python.json) is not a valid JSON file and might be corrupted\n",
      "  return method()\n"
     ]
    },
    {
     "data": {
      "text/html": [
       "<table class=\"table table-hover table-striped table-sm table-responsive small\">\n",
       "    <tr>\n",
       "        <th>Measurement date</th>\n",
       "        \n",
       "        <td>July 08, 2023  07:19:31 GMT</td>\n",
       "        \n",
       "    </tr>\n",
       "    <tr>\n",
       "        <th>Experimenter</th>\n",
       "        \n",
       "        <td>mne_anonymize</td>\n",
       "        \n",
       "    </tr>\n",
       "        <th>Participant</th>\n",
       "        \n",
       "            \n",
       "            <td>sub-024</td>\n",
       "            \n",
       "        \n",
       "    </tr>\n",
       "    <tr>\n",
       "        <th>Digitized points</th>\n",
       "        \n",
       "        <td>132 points</td>\n",
       "        \n",
       "    </tr>\n",
       "    <tr>\n",
       "        <th>Good channels</th>\n",
       "        <td>129 EEG</td>\n",
       "    </tr>\n",
       "    <tr>\n",
       "        <th>Bad channels</th>\n",
       "        <td>E89, E126, E124, E80, E94, E14, E123, E88, E118, E117, E4, E73, E21, E17, E125, E128, E3, E24, E127</td>\n",
       "    </tr>\n",
       "    <tr>\n",
       "        <th>EOG channels</th>\n",
       "        <td>Not available</td>\n",
       "    </tr>\n",
       "    <tr>\n",
       "        <th>ECG channels</th>\n",
       "        <td>Not available</td>\n",
       "    \n",
       "    <tr>\n",
       "        <th>Sampling frequency</th>\n",
       "        <td>1000.00 Hz</td>\n",
       "    </tr>\n",
       "    \n",
       "    \n",
       "    <tr>\n",
       "        <th>Highpass</th>\n",
       "        <td>1.00 Hz</td>\n",
       "    </tr>\n",
       "    \n",
       "    \n",
       "    <tr>\n",
       "        <th>Lowpass</th>\n",
       "        <td>90.00 Hz</td>\n",
       "    </tr>\n",
       "    \n",
       "    \n",
       "    \n",
       "    <tr>\n",
       "        <th>Filenames</th>\n",
       "        <td>sub-024_task-ap_eeg.edf</td>\n",
       "    </tr>\n",
       "    \n",
       "    <tr>\n",
       "        <th>Duration</th>\n",
       "        <td>00:06:37 (HH:MM:SS)</td>\n",
       "    </tr>\n",
       "</table>"
      ],
      "text/plain": [
       "<RawEDF | sub-024_task-ap_eeg.edf, 129 x 397000 (397.0 s), ~390.9 MB, data loaded>"
      ]
     },
     "execution_count": 5,
     "metadata": {},
     "output_type": "execute_result"
    }
   ],
   "source": [
    "# Merge marks down to bads (aka manual)\n",
    "ll_qcr = ll_state.raw.copy()\n",
    "manual = []\n",
    "for flag_type in ll_state.flags['ch']:\n",
    "    manual.extend(ll_state.flags['ch'][flag_type])\n",
    "print(ll_state.flags['ch'])\n",
    "ll_qcr.info['bads'].extend(manual)\n",
    "ll_qcr.info['bads'] = list(set(ll_qcr.info['bads']))\n",
    "\n",
    "# Read the ICLabel info from file and add to exclude\n",
    "df = pd.read_csv(subject_derivative.replace('_eeg.edf', '_iclabels.tsv'), sep='\\t')\n",
    "ll_state.ica2.exclude = list(df[df['ic_type'].str.match('eog|muscle|ch_noise|ecg')].index)\n",
    "\n",
    "# Load the data and apply the ICA\n",
    "ll_qcr.load_data()\n",
    "ll_state.ica2.apply(ll_qcr)\n",
    "ll_qcr = ll_qcr.filter(l_freq=1.0, h_freq=90.0)\n",
    "ll_qcr = ll_qcr.set_eeg_reference(ref_channels=\"average\")\n",
    "ll_qcr"
   ]
  },
  {
   "cell_type": "code",
   "execution_count": null,
   "id": "b7cec820-0e16-4206-8a30-a94ffef94e8d",
   "metadata": {},
   "outputs": [],
   "source": [
    "# Plot cleaned data\n",
    "mne.viz.plot_raw(ll_qcr, events=eeg_events, event_id=eeg_event_dict)"
   ]
  },
  {
   "cell_type": "code",
   "execution_count": 7,
   "id": "d9ea62c5",
   "metadata": {},
   "outputs": [
    {
     "data": {
      "text/plain": [
       "{'ae40': 1, 'ae06': 2, 'TSYN': 3, 'dbrk': 4, 'DIN4': 5, 'VBeg': 6}"
      ]
     },
     "execution_count": 7,
     "metadata": {},
     "output_type": "execute_result"
    }
   ],
   "source": [
    "# Take a look at the event dictionairy\n",
    "eeg_event_dict"
   ]
  },
  {
   "cell_type": "code",
   "execution_count": 7,
   "id": "4e7a968b",
   "metadata": {},
   "outputs": [],
   "source": [
    "# Relabel condition vars for niceness\n",
    "#eeg_event_dict['fq06hz/target/disp/ae06'] = eeg_event_dict.pop('ae06')\n",
    "#eeg_event_dict['fq40hz/target/disp/ae40'] = eeg_event_dict.pop('ae40')"
   ]
  },
  {
   "cell_type": "code",
   "execution_count": 8,
   "id": "30b58475",
   "metadata": {},
   "outputs": [
    {
     "name": "stdout",
     "output_type": "stream",
     "text": [
      "Not setting metadata\n",
      "80 matching events found\n",
      "Setting baseline interval to [-1.0, 0.0] s\n",
      "Applying baseline correction (mode: mean)\n",
      "0 projection items activated\n",
      "Using data from preloaded Raw for 80 events and 3001 original time points ...\n"
     ]
    },
    {
     "name": "stdout",
     "output_type": "stream",
     "text": [
      "2 bad epochs dropped\n",
      "NOTE: pick_channels() is a legacy function. New code should use inst.pick(...).\n"
     ]
    },
    {
     "name": "stderr",
     "output_type": "stream",
     "text": [
      "/home/james/q1k/pilot/q1k-external-pilot/eeg-env/lib/python3.8/site-packages/IPython/core/formatters.py:344: RuntimeWarning: The MNE-Python config file (/home/james/.mne/mne-python.json) is not a valid JSON file and might be corrupted\n",
      "  return method()\n"
     ]
    },
    {
     "data": {
      "text/html": [
       "<table class=\"table table-hover table-striped table-sm table-responsive small\">\n",
       "    <tr>\n",
       "        <th>Number of events</th>\n",
       "        <td>78</td>\n",
       "    </tr>\n",
       "    <tr>\n",
       "        <th>Events</th>\n",
       "        \n",
       "        <td>1: 78</td>\n",
       "        \n",
       "    </tr>\n",
       "    <tr>\n",
       "        <th>Time range</th>\n",
       "        <td>-1.000 – 2.000 s</td>\n",
       "    </tr>\n",
       "    <tr>\n",
       "        <th>Baseline</th>\n",
       "        <td>-1.000 – 0.000 s</td>\n",
       "    </tr>\n",
       "</table>"
      ],
      "text/plain": [
       "<Epochs |  78 events (all good), -1 – 2 s, baseline -1 – 0 s, ~1.8 MB, data loaded,\n",
       " '1': 78>"
      ]
     },
     "execution_count": 8,
     "metadata": {},
     "output_type": "execute_result"
    }
   ],
   "source": [
    "event_id = 1\n",
    "tmin, tmax = -1, 2\n",
    "\n",
    "epochs_condition_40hz = mne.Epochs(\n",
    "    ll_qcr,\n",
    "    eeg_events,\n",
    "    event_id,\n",
    "    tmin,\n",
    "    tmax,\n",
    "    baseline=(None, 0),\n",
    "    preload=True,\n",
    ")\n",
    "\n",
    "ch_name = 'E6'\n",
    "epochs_condition_40hz.pick_channels([ch_name])"
   ]
  },
  {
   "cell_type": "code",
   "execution_count": 9,
   "id": "8c5d0f0c",
   "metadata": {},
   "outputs": [
    {
     "name": "stderr",
     "output_type": "stream",
     "text": [
      "/tmp/ipykernel_13394/1775250285.py:5: RuntimeWarning: The MNE-Python config file (/home/james/.mne/mne-python.json) is not a valid JSON file and might be corrupted\n",
      "  pow_1, itc_1 = tfr_morlet(\n",
      "/tmp/ipykernel_13394/1775250285.py:5: RuntimeWarning: The MNE-Python config file (/home/james/.mne/mne-python.json) is not a valid JSON file and might be corrupted\n",
      "  pow_1, itc_1 = tfr_morlet(\n",
      "[Parallel(n_jobs=1)]: Using backend SequentialBackend with 1 concurrent workers.\n",
      "[Parallel(n_jobs=1)]: Done   1 out of   1 | elapsed:    1.9s remaining:    0.0s\n",
      "[Parallel(n_jobs=1)]: Done   1 out of   1 | elapsed:    1.9s finished\n"
     ]
    }
   ],
   "source": [
    "decim = 2\n",
    "freqs = np.arange(30, 90, 2)  # define frequencies of interest\n",
    "n_cycles = freqs / 2\n",
    "\n",
    "pow_1, itc_1 = tfr_morlet(\n",
    "    epochs_condition_40hz,\n",
    "    freqs,\n",
    "    n_cycles=n_cycles,\n",
    "    decim=decim,\n",
    "    return_itc=True,\n",
    "    average=True,\n",
    ")\n",
    "\n",
    "#pow_2, itc_2 = tfr_morlet(\n",
    "#    epochs_condition_2,\n",
    "#    freqs,\n",
    "#    n_cycles=n_cycles,\n",
    "#   decim=decim,\n",
    "#    return_itc=True,\n",
    "#    average=True,\n",
    "#)\n",
    "\n",
    "#tfr_epochs_1.apply_baseline(mode=\"ratio\", baseline=(None, 0))\n",
    "#tfr_epochs_2.apply_baseline(mode=\"ratio\", baseline=(None, 0))\n",
    "\n",
    "itc_dat_1 = itc_1.data[0, :, :]  # only 1 channel as 3D matrix\n",
    "pow_dat_1 = pow_1.data[0, :, :]  # only 1 channel as 3D matrix"
   ]
  },
  {
   "cell_type": "code",
   "execution_count": 8,
   "id": "6746642c",
   "metadata": {},
   "outputs": [
    {
     "data": {
      "text/plain": [
       "(1, 23, 1501)"
      ]
     },
     "execution_count": 8,
     "metadata": {},
     "output_type": "execute_result"
    }
   ],
   "source": [
    "itc_1.data.shape"
   ]
  },
  {
   "cell_type": "code",
   "execution_count": 10,
   "id": "3acf1605",
   "metadata": {},
   "outputs": [
    {
     "data": {
      "text/plain": [
       "Text(0.5, 1.0, 'Induced power (E6)')"
      ]
     },
     "execution_count": 10,
     "metadata": {},
     "output_type": "execute_result"
    }
   ],
   "source": [
    "times = 1e3 * epochs_condition_40hz.times  # change unit to ms\n",
    "\n",
    "fig, (ax, ax2) = plt.subplots(2, 1, figsize=(6, 4))\n",
    "fig.subplots_adjust(0.12, 0.08, 0.96, 0.94, 0.2, 0.43)\n",
    "\n",
    "ax.imshow(\n",
    "    pow_dat_1,\n",
    "    extent=[times[0], times[-1], freqs[0], freqs[-1]],\n",
    "    aspect=\"auto\",\n",
    "    origin=\"lower\",\n",
    "    cmap=\"RdBu_r\",\n",
    ")\n",
    "\n",
    "ax2.imshow(\n",
    "    itc_dat_1,\n",
    "    extent=[times[0], times[-1], freqs[0], freqs[-1]],\n",
    "    aspect=\"auto\",\n",
    "    origin=\"lower\",\n",
    "    cmap=\"RdBu_r\",\n",
    ")\n",
    "\n",
    "ax.set_xlabel(\"Time (ms)\")\n",
    "ax.set_ylabel(\"Frequency (Hz)\")\n",
    "ax.set_title(f\"Induced power ({ch_name})\")"
   ]
  },
  {
   "cell_type": "code",
   "execution_count": 9,
   "id": "637d1728-ecb9-4410-b6c4-bafe19a56bbe",
   "metadata": {},
   "outputs": [
    {
     "name": "stdout",
     "output_type": "stream",
     "text": [
      "Not setting metadata\n",
      "1331 matching events found\n",
      "Setting baseline interval to [-1.0, 0.0] s\n",
      "Applying baseline correction (mode: mean)\n",
      "0 projection items activated\n"
     ]
    },
    {
     "name": "stderr",
     "output_type": "stream",
     "text": [
      "/tmp/ipykernel_6495/3552720110.py:2: RuntimeWarning: No matching events found for VBeg (event id 13)\n",
      "  epochs = mne.Epochs(ll_qcr, eeg_events, event_id=eeg_event_dict, tmin=-1, tmax=2.0, on_missing='warn', event_repeated='drop')\n"
     ]
    }
   ],
   "source": [
    "# Epoch structure is created for ALL events, then you 'segment' by indexing into it\n",
    "epochs = mne.Epochs(ll_qcr, eeg_events, event_id=eeg_event_dict, tmin=-1, tmax=2.0, on_missing='warn', event_repeated='drop')"
   ]
  },
  {
   "cell_type": "code",
   "execution_count": 10,
   "id": "507abac9-5037-43bc-8e60-c1432e6b7de7",
   "metadata": {},
   "outputs": [
    {
     "name": "stderr",
     "output_type": "stream",
     "text": [
      "/home/james/q1k/pilot/q1k-external-pilot/eeg-env/lib/python3.8/site-packages/IPython/core/formatters.py:344: RuntimeWarning: The MNE-Python config file (/home/james/.mne/mne-python.json) is not a valid JSON file and might be corrupted\n",
      "  return method()\n"
     ]
    },
    {
     "data": {
      "text/html": [
       "<table class=\"table table-hover table-striped table-sm table-responsive small\">\n",
       "    <tr>\n",
       "        <th>Number of events</th>\n",
       "        <td>120</td>\n",
       "    </tr>\n",
       "    <tr>\n",
       "        <th>Events</th>\n",
       "        \n",
       "        <td>fq06hz/target/disp/dstr: 60<br/>fq15hz/target/disp/fvct: 60</td>\n",
       "        \n",
       "    </tr>\n",
       "    <tr>\n",
       "        <th>Time range</th>\n",
       "        <td>-1.000 – 2.000 s</td>\n",
       "    </tr>\n",
       "    <tr>\n",
       "        <th>Baseline</th>\n",
       "        <td>-1.000 – 0.000 s</td>\n",
       "    </tr>\n",
       "</table>"
      ],
      "text/plain": [
       "<Epochs |  120 events (good & bad), -1 – 2 s, baseline -1 – 0 s, ~177 kB, data not loaded,\n",
       " 'fq06hz/target/disp/dstr': 60\n",
       " 'fq15hz/target/disp/fvct': 60>"
      ]
     },
     "execution_count": 10,
     "metadata": {},
     "output_type": "execute_result"
    }
   ],
   "source": [
    "# Check trial counts\n",
    "epochs[['fq06hz', 'fq15hz']]"
   ]
  },
  {
   "cell_type": "code",
   "execution_count": 11,
   "id": "2ba69bf0-1306-4fc0-b58a-44a24c804234",
   "metadata": {},
   "outputs": [
    {
     "name": "stdout",
     "output_type": "stream",
     "text": [
      "NOTE: pick_channels() is a legacy function. New code should use inst.pick(...).\n",
      "NOTE: pick_channels() is a legacy function. New code should use inst.pick(...).\n",
      "combining channels using \"mean\"\n",
      "combining channels using \"mean\"\n"
     ]
    },
    {
     "name": "stderr",
     "output_type": "stream",
     "text": [
      "/tmp/ipykernel_6495/3322987310.py:3: RuntimeWarning: Only 1 channel in \"picks\"; cannot combine by method \"mean\".\n",
      "  mne.viz.plot_compare_evokeds(evokeds, picks=['E72'], combine='mean')\n"
     ]
    },
    {
     "data": {
      "text/plain": [
       "[<Figure size 800x600 with 2 Axes>]"
      ]
     },
     "execution_count": 11,
     "metadata": {},
     "output_type": "execute_result"
    }
   ],
   "source": [
    "# Plot ERPs\n",
    "evokeds = {'fq06hz': epochs['fq06hz'].average(), 'fq15hz': epochs['fq15hz'].average()}\n",
    "mne.viz.plot_compare_evokeds(evokeds, picks=['E72'], combine='mean')"
   ]
  },
  {
   "cell_type": "code",
   "execution_count": 12,
   "id": "a902cb85",
   "metadata": {},
   "outputs": [],
   "source": [
    "mne.write_evokeds(f'erp_fif_files/vp/009_1_vp_ave.fif',list(evokeds.values()), overwrite=True)"
   ]
  },
  {
   "cell_type": "code",
   "execution_count": null,
   "id": "19bf032e",
   "metadata": {},
   "outputs": [],
   "source": []
  }
 ],
 "metadata": {
  "kernelspec": {
   "display_name": "Python 3 (ipykernel)",
   "language": "python",
   "name": "python3"
  },
  "language_info": {
   "codemirror_mode": {
    "name": "ipython",
    "version": 3
   },
   "file_extension": ".py",
   "mimetype": "text/x-python",
   "name": "python",
   "nbconvert_exporter": "python",
   "pygments_lexer": "ipython3",
   "version": "3.8.10"
  }
 },
 "nbformat": 4,
 "nbformat_minor": 5
}
